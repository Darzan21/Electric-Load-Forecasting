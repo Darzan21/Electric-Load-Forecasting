{
 "cells": [
  {
   "cell_type": "code",
   "execution_count": 1,
   "metadata": {},
   "outputs": [],
   "source": [
    "#load libraries\n",
    "import pandas as pd\n",
    "import os\n",
    "import numpy as np\n",
    "import datetime as dt\n",
    "%matplotlib inline\n",
    "\n",
    "# Load specific forecasting tools\n",
    "from statsmodels.tsa.statespace.sarimax import SARIMAX\n",
    "from statsmodels.graphics.tsaplots import plot_acf,plot_pacf \n",
    "from statsmodels.tsa.seasonal import seasonal_decompose \n",
    "from pmdarima import auto_arima   "
   ]
  },
  {
   "cell_type": "code",
   "execution_count": 2,
   "metadata": {},
   "outputs": [
    {
     "name": "stdout",
     "output_type": "stream",
     "text": [
      "C:\\Users\\ntarz\n"
     ]
    }
   ],
   "source": [
    "cd"
   ]
  },
  {
   "cell_type": "code",
   "execution_count": 3,
   "metadata": {},
   "outputs": [
    {
     "name": "stdout",
     "output_type": "stream",
     "text": [
      "C:\\Users\\ntarz\\Jose\\Time Series\\Data\\actual\n"
     ]
    }
   ],
   "source": [
    "cd Jose\\Time Series\\Data\\actual"
   ]
  },
  {
   "cell_type": "code",
   "execution_count": 4,
   "metadata": {},
   "outputs": [
    {
     "data": {
      "text/plain": [
       "['.ipynb_checkpoints',\n",
       " 'Cons_Report_012018.xlsx',\n",
       " 'Cons_Report_012019.xlsx',\n",
       " 'Cons_Report_022018.xlsx',\n",
       " 'Cons_Report_022019.xlsx',\n",
       " 'Cons_Report_032018.xlsx',\n",
       " 'Cons_Report_032019.xlsx',\n",
       " 'Cons_Report_042018.xlsx',\n",
       " 'Cons_Report_042019.xlsx',\n",
       " 'Cons_Report_052018.xlsx',\n",
       " 'Cons_Report_052019.xlsx',\n",
       " 'Cons_Report_062018.xlsx',\n",
       " 'Cons_Report_072018.xlsx',\n",
       " 'Cons_Report_082018.xlsx',\n",
       " 'Cons_Report_092018.xlsx',\n",
       " 'Cons_Report_102018.xlsx',\n",
       " 'Cons_Report_112018.xlsx',\n",
       " 'Cons_Report_122018.xlsx',\n",
       " 'LoadForecastingTest.ipynb',\n",
       " 'Load_Forecasting.ipynb']"
      ]
     },
     "execution_count": 4,
     "metadata": {},
     "output_type": "execute_result"
    }
   ],
   "source": [
    "#load folder-the actual data were given in 17 separate excel files\n",
    "path = os.getcwd()\n",
    "files = os.listdir(path)\n",
    "files"
   ]
  },
  {
   "cell_type": "code",
   "execution_count": 5,
   "metadata": {},
   "outputs": [
    {
     "data": {
      "text/plain": [
       "['Cons_Report_012018.xlsx',\n",
       " 'Cons_Report_012019.xlsx',\n",
       " 'Cons_Report_022018.xlsx',\n",
       " 'Cons_Report_022019.xlsx',\n",
       " 'Cons_Report_032018.xlsx',\n",
       " 'Cons_Report_032019.xlsx',\n",
       " 'Cons_Report_042018.xlsx',\n",
       " 'Cons_Report_042019.xlsx',\n",
       " 'Cons_Report_052018.xlsx',\n",
       " 'Cons_Report_052019.xlsx',\n",
       " 'Cons_Report_062018.xlsx',\n",
       " 'Cons_Report_072018.xlsx',\n",
       " 'Cons_Report_082018.xlsx',\n",
       " 'Cons_Report_092018.xlsx',\n",
       " 'Cons_Report_102018.xlsx',\n",
       " 'Cons_Report_112018.xlsx',\n",
       " 'Cons_Report_122018.xlsx']"
      ]
     },
     "execution_count": 5,
     "metadata": {},
     "output_type": "execute_result"
    }
   ],
   "source": [
    "#list of files to loop-only xlsx\n",
    "files_xls = [f for f in files if 'xlsx' in str(f)]\n",
    "files_xls"
   ]
  },
  {
   "cell_type": "code",
   "execution_count": 6,
   "metadata": {},
   "outputs": [],
   "source": [
    "#create one datafram from all the excel files\n",
    "actual=pd.DataFrame()\n",
    "for f in files_xls:\n",
    "    data = pd.read_excel(f)\n",
    "    actual=actual.append(data,ignore_index=True)"
   ]
  },
  {
   "cell_type": "code",
   "execution_count": 7,
   "metadata": {},
   "outputs": [
    {
     "data": {
      "text/plain": [
       "Index(['deliveryDay', 'Hour_EET', 'Gen_Aux', 'HV', 'Pump', 'TEL_MV', 'Network',\n",
       "       'Total'],\n",
       "      dtype='object')"
      ]
     },
     "execution_count": 7,
     "metadata": {},
     "output_type": "execute_result"
    }
   ],
   "source": [
    "#get column names\n",
    "actual.columns\n"
   ]
  },
  {
   "cell_type": "code",
   "execution_count": 8,
   "metadata": {},
   "outputs": [],
   "source": [
    "#rename columns\n",
    "actual.columns=['Date','Hour','Gen_Aux', 'HV', 'Pump', 'TEL_MV', 'Network','ActualTotal']"
   ]
  },
  {
   "cell_type": "code",
   "execution_count": 9,
   "metadata": {},
   "outputs": [
    {
     "name": "stdout",
     "output_type": "stream",
     "text": [
      "C:\\Users\\ntarz\n"
     ]
    }
   ],
   "source": [
    "cd"
   ]
  },
  {
   "cell_type": "code",
   "execution_count": 10,
   "metadata": {},
   "outputs": [
    {
     "name": "stdout",
     "output_type": "stream",
     "text": [
      "C:\\Users\\ntarz\\Jose\\Time Series\\Data\n"
     ]
    }
   ],
   "source": [
    "cd Jose\\Time Series\\Data"
   ]
  },
  {
   "cell_type": "code",
   "execution_count": 11,
   "metadata": {},
   "outputs": [],
   "source": [
    "#load excel with forecast of the current program\n",
    "forecast=pd.read_excel(\"Load Demand_Forecast.xlsx\")"
   ]
  },
  {
   "cell_type": "code",
   "execution_count": 12,
   "metadata": {},
   "outputs": [],
   "source": [
    "#data manipulation to create new dataframe\n",
    "forecast2=forecast[['Weekday',  'Holiday','Date', 1,2,3,4,5,6,7,8,9,10,11,12,13,14,15,16,17,18,19,20,21,22,23,24]]\n",
    "Prediction = pd.melt(forecast2, id_vars=[\"Weekday\", \"Holiday\", \"Date\"])\n",
    "#rename columns\n",
    "Prediction.columns=['Weekday','Holiday','Date','Hour','ForecastTotalLoad']\n"
   ]
  },
  {
   "cell_type": "code",
   "execution_count": 13,
   "metadata": {},
   "outputs": [],
   "source": [
    "#join the two dataframes and create the finalized dataframe\n",
    "final=pd.concat([df.set_index(['Date', 'Hour']) for df in [actual, Prediction]],\n",
    "          axis=1).reset_index()"
   ]
  },
  {
   "cell_type": "code",
   "execution_count": 14,
   "metadata": {},
   "outputs": [],
   "source": [
    "#create temp dataframe to store in columns the parsed date\n",
    "temp=pd.DataFrame(final.Date.dt.strftime('%Y-%m-%d').str.split('-').tolist(),\n",
    "                   columns=['Year','Month','Day'],dtype=int)"
   ]
  },
  {
   "cell_type": "code",
   "execution_count": 15,
   "metadata": {},
   "outputs": [],
   "source": [
    "#merge it with our data\n",
    "final=pd.concat((final,temp),axis=1)"
   ]
  },
  {
   "cell_type": "code",
   "execution_count": 16,
   "metadata": {},
   "outputs": [],
   "source": [
    "#do data manipulation in order for following function to work\n",
    "final['Hour']=final['Hour'].astype(int)\n",
    "final['Month']=final['Month'].astype(int)\n",
    "final['Year']=final['Year'].astype(int)\n",
    "final['Day']=final['Day'].astype(int)\n",
    "final['Hour']=final['Hour']-1\n"
   ]
  },
  {
   "cell_type": "code",
   "execution_count": 17,
   "metadata": {},
   "outputs": [],
   "source": [
    "#create datetime object to store the timestamp\n",
    "final['Timestamp'] = final.apply(lambda row: dt.datetime(row.Year,row.Month,row.Day,row.Hour), \n",
    "                           axis=1)"
   ]
  },
  {
   "cell_type": "code",
   "execution_count": 18,
   "metadata": {},
   "outputs": [],
   "source": [
    "#εχω ενα ΝΑ το οποίο οφείλεται στην αλλαγή της ωρας 25/3, εχω μιλήσει με τον αναλυτη εδω για το πως πρεπει να το διαχειριστω\n",
    "#προς το παρον βαζω την τιμη της προηγούμενης ώρας manually\n",
    "final=final.fillna(4.432)"
   ]
  },
  {
   "cell_type": "code",
   "execution_count": 19,
   "metadata": {},
   "outputs": [
    {
     "data": {
      "text/plain": [
       "False"
      ]
     },
     "execution_count": 19,
     "metadata": {},
     "output_type": "execute_result"
    }
   ],
   "source": [
    "#check for null values-Clean\n",
    "final.isnull().values.any()"
   ]
  },
  {
   "cell_type": "code",
   "execution_count": 20,
   "metadata": {},
   "outputs": [],
   "source": [
    "#create the column of interest\n",
    "final['XT']=final['Network']-final['TEL_MV']\n",
    "#finalize dataset and set frequency\n",
    "final=final[['Timestamp','XT','Weekday','Holiday']]\n",
    "final.set_index('Timestamp',inplace=True)\n",
    "final.index.freq = 'H'"
   ]
  },
  {
   "cell_type": "code",
   "execution_count": 21,
   "metadata": {},
   "outputs": [
    {
     "data": {
      "text/html": [
       "<div>\n",
       "<style scoped>\n",
       "    .dataframe tbody tr th:only-of-type {\n",
       "        vertical-align: middle;\n",
       "    }\n",
       "\n",
       "    .dataframe tbody tr th {\n",
       "        vertical-align: top;\n",
       "    }\n",
       "\n",
       "    .dataframe thead th {\n",
       "        text-align: right;\n",
       "    }\n",
       "</style>\n",
       "<table border=\"1\" class=\"dataframe\">\n",
       "  <thead>\n",
       "    <tr style=\"text-align: right;\">\n",
       "      <th></th>\n",
       "      <th>XT</th>\n",
       "      <th>Weekday</th>\n",
       "      <th>Holiday</th>\n",
       "    </tr>\n",
       "    <tr>\n",
       "      <th>Timestamp</th>\n",
       "      <th></th>\n",
       "      <th></th>\n",
       "      <th></th>\n",
       "    </tr>\n",
       "  </thead>\n",
       "  <tbody>\n",
       "    <tr>\n",
       "      <th>2018-01-01 00:00:00</th>\n",
       "      <td>3933.209685</td>\n",
       "      <td>1</td>\n",
       "      <td>1</td>\n",
       "    </tr>\n",
       "    <tr>\n",
       "      <th>2018-01-01 01:00:00</th>\n",
       "      <td>3615.862294</td>\n",
       "      <td>1</td>\n",
       "      <td>1</td>\n",
       "    </tr>\n",
       "    <tr>\n",
       "      <th>2018-01-01 02:00:00</th>\n",
       "      <td>3531.408073</td>\n",
       "      <td>1</td>\n",
       "      <td>1</td>\n",
       "    </tr>\n",
       "    <tr>\n",
       "      <th>2018-01-01 03:00:00</th>\n",
       "      <td>3250.926682</td>\n",
       "      <td>1</td>\n",
       "      <td>1</td>\n",
       "    </tr>\n",
       "    <tr>\n",
       "      <th>2018-01-01 04:00:00</th>\n",
       "      <td>3027.204711</td>\n",
       "      <td>1</td>\n",
       "      <td>1</td>\n",
       "    </tr>\n",
       "    <tr>\n",
       "      <th>2018-01-01 05:00:00</th>\n",
       "      <td>2934.418572</td>\n",
       "      <td>1</td>\n",
       "      <td>1</td>\n",
       "    </tr>\n",
       "    <tr>\n",
       "      <th>2018-01-01 06:00:00</th>\n",
       "      <td>2990.903843</td>\n",
       "      <td>1</td>\n",
       "      <td>1</td>\n",
       "    </tr>\n",
       "    <tr>\n",
       "      <th>2018-01-01 07:00:00</th>\n",
       "      <td>3048.662534</td>\n",
       "      <td>1</td>\n",
       "      <td>1</td>\n",
       "    </tr>\n",
       "    <tr>\n",
       "      <th>2018-01-01 08:00:00</th>\n",
       "      <td>3189.215049</td>\n",
       "      <td>1</td>\n",
       "      <td>1</td>\n",
       "    </tr>\n",
       "    <tr>\n",
       "      <th>2018-01-01 09:00:00</th>\n",
       "      <td>3575.720146</td>\n",
       "      <td>1</td>\n",
       "      <td>1</td>\n",
       "    </tr>\n",
       "    <tr>\n",
       "      <th>2018-01-01 10:00:00</th>\n",
       "      <td>4025.499981</td>\n",
       "      <td>1</td>\n",
       "      <td>1</td>\n",
       "    </tr>\n",
       "    <tr>\n",
       "      <th>2018-01-01 11:00:00</th>\n",
       "      <td>4384.555882</td>\n",
       "      <td>1</td>\n",
       "      <td>1</td>\n",
       "    </tr>\n",
       "    <tr>\n",
       "      <th>2018-01-01 12:00:00</th>\n",
       "      <td>4418.914816</td>\n",
       "      <td>1</td>\n",
       "      <td>1</td>\n",
       "    </tr>\n",
       "    <tr>\n",
       "      <th>2018-01-01 13:00:00</th>\n",
       "      <td>4114.951039</td>\n",
       "      <td>1</td>\n",
       "      <td>1</td>\n",
       "    </tr>\n",
       "    <tr>\n",
       "      <th>2018-01-01 14:00:00</th>\n",
       "      <td>3588.579278</td>\n",
       "      <td>1</td>\n",
       "      <td>1</td>\n",
       "    </tr>\n",
       "    <tr>\n",
       "      <th>2018-01-01 15:00:00</th>\n",
       "      <td>3613.307456</td>\n",
       "      <td>1</td>\n",
       "      <td>1</td>\n",
       "    </tr>\n",
       "    <tr>\n",
       "      <th>2018-01-01 16:00:00</th>\n",
       "      <td>3691.870584</td>\n",
       "      <td>1</td>\n",
       "      <td>1</td>\n",
       "    </tr>\n",
       "    <tr>\n",
       "      <th>2018-01-01 17:00:00</th>\n",
       "      <td>4014.747240</td>\n",
       "      <td>1</td>\n",
       "      <td>1</td>\n",
       "    </tr>\n",
       "    <tr>\n",
       "      <th>2018-01-01 18:00:00</th>\n",
       "      <td>4542.759086</td>\n",
       "      <td>1</td>\n",
       "      <td>1</td>\n",
       "    </tr>\n",
       "    <tr>\n",
       "      <th>2018-01-01 19:00:00</th>\n",
       "      <td>4628.660825</td>\n",
       "      <td>1</td>\n",
       "      <td>1</td>\n",
       "    </tr>\n",
       "    <tr>\n",
       "      <th>2018-01-01 20:00:00</th>\n",
       "      <td>4618.742294</td>\n",
       "      <td>1</td>\n",
       "      <td>1</td>\n",
       "    </tr>\n",
       "    <tr>\n",
       "      <th>2018-01-01 21:00:00</th>\n",
       "      <td>4479.436409</td>\n",
       "      <td>1</td>\n",
       "      <td>1</td>\n",
       "    </tr>\n",
       "    <tr>\n",
       "      <th>2018-01-01 22:00:00</th>\n",
       "      <td>4203.659321</td>\n",
       "      <td>1</td>\n",
       "      <td>1</td>\n",
       "    </tr>\n",
       "    <tr>\n",
       "      <th>2018-01-01 23:00:00</th>\n",
       "      <td>3931.892508</td>\n",
       "      <td>1</td>\n",
       "      <td>1</td>\n",
       "    </tr>\n",
       "    <tr>\n",
       "      <th>2018-01-02 00:00:00</th>\n",
       "      <td>3490.903962</td>\n",
       "      <td>2</td>\n",
       "      <td>0</td>\n",
       "    </tr>\n",
       "    <tr>\n",
       "      <th>2018-01-02 01:00:00</th>\n",
       "      <td>3098.818113</td>\n",
       "      <td>2</td>\n",
       "      <td>0</td>\n",
       "    </tr>\n",
       "    <tr>\n",
       "      <th>2018-01-02 02:00:00</th>\n",
       "      <td>3037.095439</td>\n",
       "      <td>2</td>\n",
       "      <td>0</td>\n",
       "    </tr>\n",
       "    <tr>\n",
       "      <th>2018-01-02 03:00:00</th>\n",
       "      <td>2843.949442</td>\n",
       "      <td>2</td>\n",
       "      <td>0</td>\n",
       "    </tr>\n",
       "    <tr>\n",
       "      <th>2018-01-02 04:00:00</th>\n",
       "      <td>2698.265248</td>\n",
       "      <td>2</td>\n",
       "      <td>0</td>\n",
       "    </tr>\n",
       "    <tr>\n",
       "      <th>2018-01-02 05:00:00</th>\n",
       "      <td>2706.440093</td>\n",
       "      <td>2</td>\n",
       "      <td>0</td>\n",
       "    </tr>\n",
       "    <tr>\n",
       "      <th>...</th>\n",
       "      <td>...</td>\n",
       "      <td>...</td>\n",
       "      <td>...</td>\n",
       "    </tr>\n",
       "    <tr>\n",
       "      <th>2019-05-30 18:00:00</th>\n",
       "      <td>3441.067112</td>\n",
       "      <td>4</td>\n",
       "      <td>0</td>\n",
       "    </tr>\n",
       "    <tr>\n",
       "      <th>2019-05-30 19:00:00</th>\n",
       "      <td>3535.683507</td>\n",
       "      <td>4</td>\n",
       "      <td>0</td>\n",
       "    </tr>\n",
       "    <tr>\n",
       "      <th>2019-05-30 20:00:00</th>\n",
       "      <td>3706.157076</td>\n",
       "      <td>4</td>\n",
       "      <td>0</td>\n",
       "    </tr>\n",
       "    <tr>\n",
       "      <th>2019-05-30 21:00:00</th>\n",
       "      <td>3968.648087</td>\n",
       "      <td>4</td>\n",
       "      <td>0</td>\n",
       "    </tr>\n",
       "    <tr>\n",
       "      <th>2019-05-30 22:00:00</th>\n",
       "      <td>3609.556629</td>\n",
       "      <td>4</td>\n",
       "      <td>0</td>\n",
       "    </tr>\n",
       "    <tr>\n",
       "      <th>2019-05-30 23:00:00</th>\n",
       "      <td>3174.902633</td>\n",
       "      <td>4</td>\n",
       "      <td>0</td>\n",
       "    </tr>\n",
       "    <tr>\n",
       "      <th>2019-05-31 00:00:00</th>\n",
       "      <td>2722.238313</td>\n",
       "      <td>5</td>\n",
       "      <td>0</td>\n",
       "    </tr>\n",
       "    <tr>\n",
       "      <th>2019-05-31 01:00:00</th>\n",
       "      <td>2396.339058</td>\n",
       "      <td>5</td>\n",
       "      <td>0</td>\n",
       "    </tr>\n",
       "    <tr>\n",
       "      <th>2019-05-31 02:00:00</th>\n",
       "      <td>2231.845734</td>\n",
       "      <td>5</td>\n",
       "      <td>0</td>\n",
       "    </tr>\n",
       "    <tr>\n",
       "      <th>2019-05-31 03:00:00</th>\n",
       "      <td>2168.052861</td>\n",
       "      <td>5</td>\n",
       "      <td>0</td>\n",
       "    </tr>\n",
       "    <tr>\n",
       "      <th>2019-05-31 04:00:00</th>\n",
       "      <td>2155.356362</td>\n",
       "      <td>5</td>\n",
       "      <td>0</td>\n",
       "    </tr>\n",
       "    <tr>\n",
       "      <th>2019-05-31 05:00:00</th>\n",
       "      <td>2193.292203</td>\n",
       "      <td>5</td>\n",
       "      <td>0</td>\n",
       "    </tr>\n",
       "    <tr>\n",
       "      <th>2019-05-31 06:00:00</th>\n",
       "      <td>2250.352160</td>\n",
       "      <td>5</td>\n",
       "      <td>0</td>\n",
       "    </tr>\n",
       "    <tr>\n",
       "      <th>2019-05-31 07:00:00</th>\n",
       "      <td>2604.659827</td>\n",
       "      <td>5</td>\n",
       "      <td>0</td>\n",
       "    </tr>\n",
       "    <tr>\n",
       "      <th>2019-05-31 08:00:00</th>\n",
       "      <td>3069.376951</td>\n",
       "      <td>5</td>\n",
       "      <td>0</td>\n",
       "    </tr>\n",
       "    <tr>\n",
       "      <th>2019-05-31 09:00:00</th>\n",
       "      <td>3454.950974</td>\n",
       "      <td>5</td>\n",
       "      <td>0</td>\n",
       "    </tr>\n",
       "    <tr>\n",
       "      <th>2019-05-31 10:00:00</th>\n",
       "      <td>3691.740169</td>\n",
       "      <td>5</td>\n",
       "      <td>0</td>\n",
       "    </tr>\n",
       "    <tr>\n",
       "      <th>2019-05-31 11:00:00</th>\n",
       "      <td>3865.035406</td>\n",
       "      <td>5</td>\n",
       "      <td>0</td>\n",
       "    </tr>\n",
       "    <tr>\n",
       "      <th>2019-05-31 12:00:00</th>\n",
       "      <td>3976.957510</td>\n",
       "      <td>5</td>\n",
       "      <td>0</td>\n",
       "    </tr>\n",
       "    <tr>\n",
       "      <th>2019-05-31 13:00:00</th>\n",
       "      <td>3939.563344</td>\n",
       "      <td>5</td>\n",
       "      <td>0</td>\n",
       "    </tr>\n",
       "    <tr>\n",
       "      <th>2019-05-31 14:00:00</th>\n",
       "      <td>3675.390775</td>\n",
       "      <td>5</td>\n",
       "      <td>0</td>\n",
       "    </tr>\n",
       "    <tr>\n",
       "      <th>2019-05-31 15:00:00</th>\n",
       "      <td>3463.448502</td>\n",
       "      <td>5</td>\n",
       "      <td>0</td>\n",
       "    </tr>\n",
       "    <tr>\n",
       "      <th>2019-05-31 16:00:00</th>\n",
       "      <td>3301.249216</td>\n",
       "      <td>5</td>\n",
       "      <td>0</td>\n",
       "    </tr>\n",
       "    <tr>\n",
       "      <th>2019-05-31 17:00:00</th>\n",
       "      <td>3317.603182</td>\n",
       "      <td>5</td>\n",
       "      <td>0</td>\n",
       "    </tr>\n",
       "    <tr>\n",
       "      <th>2019-05-31 18:00:00</th>\n",
       "      <td>3411.694348</td>\n",
       "      <td>5</td>\n",
       "      <td>0</td>\n",
       "    </tr>\n",
       "    <tr>\n",
       "      <th>2019-05-31 19:00:00</th>\n",
       "      <td>3503.861099</td>\n",
       "      <td>5</td>\n",
       "      <td>0</td>\n",
       "    </tr>\n",
       "    <tr>\n",
       "      <th>2019-05-31 20:00:00</th>\n",
       "      <td>3644.787751</td>\n",
       "      <td>5</td>\n",
       "      <td>0</td>\n",
       "    </tr>\n",
       "    <tr>\n",
       "      <th>2019-05-31 21:00:00</th>\n",
       "      <td>3855.600792</td>\n",
       "      <td>5</td>\n",
       "      <td>0</td>\n",
       "    </tr>\n",
       "    <tr>\n",
       "      <th>2019-05-31 22:00:00</th>\n",
       "      <td>3528.632281</td>\n",
       "      <td>5</td>\n",
       "      <td>0</td>\n",
       "    </tr>\n",
       "    <tr>\n",
       "      <th>2019-05-31 23:00:00</th>\n",
       "      <td>3135.753597</td>\n",
       "      <td>5</td>\n",
       "      <td>0</td>\n",
       "    </tr>\n",
       "  </tbody>\n",
       "</table>\n",
       "<p>12384 rows × 3 columns</p>\n",
       "</div>"
      ],
      "text/plain": [
       "                              XT  Weekday  Holiday\n",
       "Timestamp                                         \n",
       "2018-01-01 00:00:00  3933.209685        1        1\n",
       "2018-01-01 01:00:00  3615.862294        1        1\n",
       "2018-01-01 02:00:00  3531.408073        1        1\n",
       "2018-01-01 03:00:00  3250.926682        1        1\n",
       "2018-01-01 04:00:00  3027.204711        1        1\n",
       "2018-01-01 05:00:00  2934.418572        1        1\n",
       "2018-01-01 06:00:00  2990.903843        1        1\n",
       "2018-01-01 07:00:00  3048.662534        1        1\n",
       "2018-01-01 08:00:00  3189.215049        1        1\n",
       "2018-01-01 09:00:00  3575.720146        1        1\n",
       "2018-01-01 10:00:00  4025.499981        1        1\n",
       "2018-01-01 11:00:00  4384.555882        1        1\n",
       "2018-01-01 12:00:00  4418.914816        1        1\n",
       "2018-01-01 13:00:00  4114.951039        1        1\n",
       "2018-01-01 14:00:00  3588.579278        1        1\n",
       "2018-01-01 15:00:00  3613.307456        1        1\n",
       "2018-01-01 16:00:00  3691.870584        1        1\n",
       "2018-01-01 17:00:00  4014.747240        1        1\n",
       "2018-01-01 18:00:00  4542.759086        1        1\n",
       "2018-01-01 19:00:00  4628.660825        1        1\n",
       "2018-01-01 20:00:00  4618.742294        1        1\n",
       "2018-01-01 21:00:00  4479.436409        1        1\n",
       "2018-01-01 22:00:00  4203.659321        1        1\n",
       "2018-01-01 23:00:00  3931.892508        1        1\n",
       "2018-01-02 00:00:00  3490.903962        2        0\n",
       "2018-01-02 01:00:00  3098.818113        2        0\n",
       "2018-01-02 02:00:00  3037.095439        2        0\n",
       "2018-01-02 03:00:00  2843.949442        2        0\n",
       "2018-01-02 04:00:00  2698.265248        2        0\n",
       "2018-01-02 05:00:00  2706.440093        2        0\n",
       "...                          ...      ...      ...\n",
       "2019-05-30 18:00:00  3441.067112        4        0\n",
       "2019-05-30 19:00:00  3535.683507        4        0\n",
       "2019-05-30 20:00:00  3706.157076        4        0\n",
       "2019-05-30 21:00:00  3968.648087        4        0\n",
       "2019-05-30 22:00:00  3609.556629        4        0\n",
       "2019-05-30 23:00:00  3174.902633        4        0\n",
       "2019-05-31 00:00:00  2722.238313        5        0\n",
       "2019-05-31 01:00:00  2396.339058        5        0\n",
       "2019-05-31 02:00:00  2231.845734        5        0\n",
       "2019-05-31 03:00:00  2168.052861        5        0\n",
       "2019-05-31 04:00:00  2155.356362        5        0\n",
       "2019-05-31 05:00:00  2193.292203        5        0\n",
       "2019-05-31 06:00:00  2250.352160        5        0\n",
       "2019-05-31 07:00:00  2604.659827        5        0\n",
       "2019-05-31 08:00:00  3069.376951        5        0\n",
       "2019-05-31 09:00:00  3454.950974        5        0\n",
       "2019-05-31 10:00:00  3691.740169        5        0\n",
       "2019-05-31 11:00:00  3865.035406        5        0\n",
       "2019-05-31 12:00:00  3976.957510        5        0\n",
       "2019-05-31 13:00:00  3939.563344        5        0\n",
       "2019-05-31 14:00:00  3675.390775        5        0\n",
       "2019-05-31 15:00:00  3463.448502        5        0\n",
       "2019-05-31 16:00:00  3301.249216        5        0\n",
       "2019-05-31 17:00:00  3317.603182        5        0\n",
       "2019-05-31 18:00:00  3411.694348        5        0\n",
       "2019-05-31 19:00:00  3503.861099        5        0\n",
       "2019-05-31 20:00:00  3644.787751        5        0\n",
       "2019-05-31 21:00:00  3855.600792        5        0\n",
       "2019-05-31 22:00:00  3528.632281        5        0\n",
       "2019-05-31 23:00:00  3135.753597        5        0\n",
       "\n",
       "[12384 rows x 3 columns]"
      ]
     },
     "execution_count": 21,
     "metadata": {},
     "output_type": "execute_result"
    }
   ],
   "source": [
    "#check the finalized dataset\n",
    "final"
   ]
  },
  {
   "cell_type": "code",
   "execution_count": null,
   "metadata": {},
   "outputs": [],
   "source": [
    "#Here is going to be the EDA part-just some quick insights"
   ]
  },
  {
   "cell_type": "code",
   "execution_count": 22,
   "metadata": {},
   "outputs": [
    {
     "data": {
      "image/png": "[encoded data removed]",
      "text/plain": [
       "<Figure size 864x432 with 1 Axes>"
      ]
     },
     "metadata": {
      "needs_background": "light"
     },
     "output_type": "display_data"
    }
   ],
   "source": [
    "final['XT'].iloc[:23].plot(figsize=(12,6)).autoscale(axis='x',tight=True);"
   ]
  },
  {
   "cell_type": "code",
   "execution_count": 23,
   "metadata": {},
   "outputs": [
    {
     "data": {
      "image/png": "[encoded data removed]",
      "text/plain": [
       "<Figure size 864x432 with 1 Axes>"
      ]
     },
     "metadata": {
      "needs_background": "light"
     },
     "output_type": "display_data"
    }
   ],
   "source": [
    "#αυτα τα 2 outliers ειναι οταν αλλαζει η ωρα τον Μαρτιο\n",
    "final['XT'].plot(figsize=(12,6)).autoscale(axis='x',tight=True);"
   ]
  },
  {
   "cell_type": "code",
   "execution_count": 24,
   "metadata": {},
   "outputs": [
    {
     "data": {
      "image/png": "[encoded data removed]",
      "text/plain": [
       "<Figure size 432x288 with 4 Axes>"
      ]
     },
     "metadata": {
      "needs_background": "light"
     },
     "output_type": "display_data"
    }
   ],
   "source": [
    "result = seasonal_decompose(final['XT'])\n",
    "result.plot();"
   ]
  },
  {
   "cell_type": "code",
   "execution_count": 25,
   "metadata": {},
   "outputs": [],
   "source": [
    "#create ad-fuller test function\n",
    "from statsmodels.tsa.stattools import adfuller\n",
    "\n",
    "def adf_test(series,title=''):\n",
    "    \"\"\"\n",
    "    Pass in a time series and an optional title, returns an ADF report\n",
    "    \"\"\"\n",
    "    print(f'Augmented Dickey-Fuller Test: {title}')\n",
    "    result = adfuller(series.dropna(),autolag='AIC') # .dropna() handles differenced data\n",
    "    \n",
    "    labels = ['ADF test statistic','p-value','# lags used','# observations']\n",
    "    out = pd.Series(result[0:4],index=labels)\n",
    "\n",
    "    for key,val in result[4].items():\n",
    "        out[f'critical value ({key})']=val\n",
    "        \n",
    "    print(out.to_string())          # .to_string() removes the line \"dtype: float64\"\n",
    "    \n",
    "    if result[1] <= 0.05:\n",
    "        print(\"Strong evidence against the null hypothesis\")\n",
    "        print(\"Reject the null hypothesis\")\n",
    "        print(\"Data has no unit root and is stationary\")\n",
    "    else:\n",
    "        print(\"Weak evidence against the null hypothesis\")\n",
    "        print(\"Fail to reject the null hypothesis\")\n",
    "        print(\"Data has a unit root and is non-stationary\")"
   ]
  },
  {
   "cell_type": "code",
   "execution_count": 26,
   "metadata": {},
   "outputs": [
    {
     "name": "stdout",
     "output_type": "stream",
     "text": [
      "Augmented Dickey-Fuller Test: \n",
      "ADF test statistic         -3.886426\n",
      "p-value                     0.002137\n",
      "# lags used                40.000000\n",
      "# observations          12343.000000\n",
      "critical value (1%)        -3.430880\n",
      "critical value (5%)        -2.861774\n",
      "critical value (10%)       -2.566895\n",
      "Strong evidence against the null hypothesis\n",
      "Reject the null hypothesis\n",
      "Data has no unit root and is stationary\n"
     ]
    }
   ],
   "source": [
    "adf_test(final['XT'])"
   ]
  },
  {
   "cell_type": "code",
   "execution_count": 28,
   "metadata": {},
   "outputs": [
    {
     "name": "stderr",
     "output_type": "stream",
     "text": [
      "C:\\Users\\ntarz\\Anaconda3\\lib\\site-packages\\statsmodels\\tsa\\statespace\\representation.py:375: FutureWarning: Using a non-tuple sequence for multidimensional indexing is deprecated; use `arr[tuple(seq)]` instead of `arr[seq]`. In the future this will be interpreted as an array index, `arr[np.array(seq)]`, which will result either in an error or a different result.\n",
      "  return matrix[[slice(None)]*(matrix.ndim-1) + [0]]\n",
      "C:\\Users\\ntarz\\Anaconda3\\lib\\site-packages\\statsmodels\\tsa\\statespace\\representation.py:375: FutureWarning: Using a non-tuple sequence for multidimensional indexing is deprecated; use `arr[tuple(seq)]` instead of `arr[seq]`. In the future this will be interpreted as an array index, `arr[np.array(seq)]`, which will result either in an error or a different result.\n",
      "  return matrix[[slice(None)]*(matrix.ndim-1) + [0]]\n",
      "C:\\Users\\ntarz\\Anaconda3\\lib\\site-packages\\statsmodels\\tsa\\statespace\\sarimax.py:726: RuntimeWarning: divide by zero encountered in double_scalars\n",
      "  (1 - np.sum(transition[:, 0])))\n",
      "C:\\Users\\ntarz\\Anaconda3\\lib\\site-packages\\statsmodels\\tsa\\statespace\\sarimax.py:730: RuntimeWarning: invalid value encountered in multiply\n",
      "  initial_state[_start:_end] = transition[1:, 0] * initial_mean\n",
      "C:\\Users\\ntarz\\Anaconda3\\lib\\site-packages\\pmdarima\\arima\\_auto_solvers.py:207: ModelFitWarning: Unable to fit ARIMA for order=(1, 1, 1) seasonal_order=(1, 0, 0, 24); data is likely non-stationary. (if you do not want to see these warnings, run with error_action=\"ignore\")\n",
      "  ModelFitWarning)\n",
      "C:\\Users\\ntarz\\Anaconda3\\lib\\site-packages\\pmdarima\\arima\\_auto_solvers.py:207: ModelFitWarning: Unable to fit ARIMA for order=(1, 1, 1) seasonal_order=(2, 0, 1, 24); data is likely non-stationary. (if you do not want to see these warnings, run with error_action=\"ignore\")\n",
      "  ModelFitWarning)\n",
      "C:\\Users\\ntarz\\Anaconda3\\lib\\site-packages\\pmdarima\\arima\\_auto_solvers.py:207: ModelFitWarning: Unable to fit ARIMA for order=(2, 1, 1) seasonal_order=(2, 0, 0, 24); data is likely non-stationary. (if you do not want to see these warnings, run with error_action=\"ignore\")\n",
      "  ModelFitWarning)\n",
      "C:\\Users\\ntarz\\Anaconda3\\lib\\site-packages\\statsmodels\\tsa\\statespace\\sarimax.py:726: RuntimeWarning: divide by zero encountered in double_scalars\n",
      "  (1 - np.sum(transition[:, 0])))\n",
      "C:\\Users\\ntarz\\Anaconda3\\lib\\site-packages\\statsmodels\\tsa\\statespace\\sarimax.py:730: RuntimeWarning: invalid value encountered in multiply\n",
      "  initial_state[_start:_end] = transition[1:, 0] * initial_mean\n",
      "C:\\Users\\ntarz\\Anaconda3\\lib\\site-packages\\pmdarima\\arima\\_auto_solvers.py:207: ModelFitWarning: Unable to fit ARIMA for order=(2, 1, 2) seasonal_order=(2, 0, 0, 24); data is likely non-stationary. (if you do not want to see these warnings, run with error_action=\"ignore\")\n",
      "  ModelFitWarning)\n"
     ]
    },
    {
     "data": {
      "text/html": [
       "<table class=\"simpletable\">\n",
       "<caption>Statespace Model Results</caption>\n",
       "<tr>\n",
       "  <th>Dep. Variable:</th>                  <td>y</td>               <th>  No. Observations:  </th>    <td>2904</td>   \n",
       "</tr>\n",
       "<tr>\n",
       "  <th>Model:</th>           <td>SARIMAX(1, 1, 1)x(2, 0, 0, 24)</td> <th>  Log Likelihood     </th> <td>-18677.594</td>\n",
       "</tr>\n",
       "<tr>\n",
       "  <th>Date:</th>                   <td>Fri, 12 Jul 2019</td>        <th>  AIC                </th>  <td>37367.188</td>\n",
       "</tr>\n",
       "<tr>\n",
       "  <th>Time:</th>                       <td>15:42:09</td>            <th>  BIC                </th>  <td>37403.029</td>\n",
       "</tr>\n",
       "<tr>\n",
       "  <th>Sample:</th>                         <td>0</td>               <th>  HQIC               </th>  <td>37380.102</td>\n",
       "</tr>\n",
       "<tr>\n",
       "  <th></th>                             <td> - 2904</td>            <th>                     </th>      <td> </td>    \n",
       "</tr>\n",
       "<tr>\n",
       "  <th>Covariance Type:</th>               <td>opg</td>              <th>                     </th>      <td> </td>    \n",
       "</tr>\n",
       "</table>\n",
       "<table class=\"simpletable\">\n",
       "<tr>\n",
       "      <td></td>         <th>coef</th>     <th>std err</th>      <th>z</th>      <th>P>|z|</th>  <th>[0.025</th>    <th>0.975]</th>  \n",
       "</tr>\n",
       "<tr>\n",
       "  <th>intercept</th> <td>-7.075e-05</td> <td>    0.004</td> <td>   -0.020</td> <td> 0.984</td> <td>   -0.007</td> <td>    0.007</td>\n",
       "</tr>\n",
       "<tr>\n",
       "  <th>ar.L1</th>     <td>    0.9975</td> <td>    0.060</td> <td>   16.507</td> <td> 0.000</td> <td>    0.879</td> <td>    1.116</td>\n",
       "</tr>\n",
       "<tr>\n",
       "  <th>ma.L1</th>     <td>   -0.9992</td> <td>    0.063</td> <td>  -15.929</td> <td> 0.000</td> <td>   -1.122</td> <td>   -0.876</td>\n",
       "</tr>\n",
       "<tr>\n",
       "  <th>ar.S.L24</th>  <td>    0.5501</td> <td>    0.002</td> <td>  231.330</td> <td> 0.000</td> <td>    0.545</td> <td>    0.555</td>\n",
       "</tr>\n",
       "<tr>\n",
       "  <th>ar.S.L48</th>  <td>    0.3748</td> <td>    0.003</td> <td>  116.922</td> <td> 0.000</td> <td>    0.369</td> <td>    0.381</td>\n",
       "</tr>\n",
       "<tr>\n",
       "  <th>sigma2</th>    <td>  2.24e+04</td> <td>   92.745</td> <td>  241.474</td> <td> 0.000</td> <td> 2.22e+04</td> <td> 2.26e+04</td>\n",
       "</tr>\n",
       "</table>\n",
       "<table class=\"simpletable\">\n",
       "<tr>\n",
       "  <th>Ljung-Box (Q):</th>          <td>363.54</td> <th>  Jarque-Bera (JB):  </th> <td>6826865.50</td>\n",
       "</tr>\n",
       "<tr>\n",
       "  <th>Prob(Q):</th>                 <td>0.00</td>  <th>  Prob(JB):          </th>    <td>0.00</td>   \n",
       "</tr>\n",
       "<tr>\n",
       "  <th>Heteroskedasticity (H):</th>  <td>4.22</td>  <th>  Skew:              </th>    <td>0.63</td>   \n",
       "</tr>\n",
       "<tr>\n",
       "  <th>Prob(H) (two-sided):</th>     <td>0.00</td>  <th>  Kurtosis:          </th>   <td>240.57</td>  \n",
       "</tr>\n",
       "</table><br/><br/>Warnings:<br/>[1] Covariance matrix calculated using the outer product of gradients (complex-step)."
      ],
      "text/plain": [
       "<class 'statsmodels.iolib.summary.Summary'>\n",
       "\"\"\"\n",
       "                                 Statespace Model Results                                 \n",
       "==========================================================================================\n",
       "Dep. Variable:                                  y   No. Observations:                 2904\n",
       "Model:             SARIMAX(1, 1, 1)x(2, 0, 0, 24)   Log Likelihood              -18677.594\n",
       "Date:                            Fri, 12 Jul 2019   AIC                          37367.188\n",
       "Time:                                    15:42:09   BIC                          37403.029\n",
       "Sample:                                         0   HQIC                         37380.102\n",
       "                                           - 2904                                         \n",
       "Covariance Type:                              opg                                         \n",
       "==============================================================================\n",
       "                 coef    std err          z      P>|z|      [0.025      0.975]\n",
       "------------------------------------------------------------------------------\n",
       "intercept  -7.075e-05      0.004     -0.020      0.984      -0.007       0.007\n",
       "ar.L1          0.9975      0.060     16.507      0.000       0.879       1.116\n",
       "ma.L1         -0.9992      0.063    -15.929      0.000      -1.122      -0.876\n",
       "ar.S.L24       0.5501      0.002    231.330      0.000       0.545       0.555\n",
       "ar.S.L48       0.3748      0.003    116.922      0.000       0.369       0.381\n",
       "sigma2       2.24e+04     92.745    241.474      0.000    2.22e+04    2.26e+04\n",
       "===================================================================================\n",
       "Ljung-Box (Q):                      363.54   Jarque-Bera (JB):           6826865.50\n",
       "Prob(Q):                              0.00   Prob(JB):                         0.00\n",
       "Heteroskedasticity (H):               4.22   Skew:                             0.63\n",
       "Prob(H) (two-sided):                  0.00   Kurtosis:                       240.57\n",
       "===================================================================================\n",
       "\n",
       "Warnings:\n",
       "[1] Covariance matrix calculated using the outer product of gradients (complex-step).\n",
       "\"\"\""
      ]
     },
     "execution_count": 28,
     "metadata": {},
     "output_type": "execute_result"
    }
   ],
   "source": [
    "# For SARIMA Orders we set seasonal=True and pass in an m value\n",
    "#auto_arima(final['XT'].loc['2019-01-01':'2019-05-01'],seasonal=True,m=24).summary()"
   ]
  },
  {
   "cell_type": "code",
   "execution_count": 29,
   "metadata": {},
   "outputs": [],
   "source": [
    "#use the period used for training\n",
    "df1=final.loc['2019-03-01':'2019-05-01']"
   ]
  },
  {
   "cell_type": "code",
   "execution_count": 30,
   "metadata": {},
   "outputs": [],
   "source": [
    "#train/test split\n",
    "train = df1.iloc[:1440]\n",
    "test = df1.iloc[1440:]"
   ]
  },
  {
   "cell_type": "code",
   "execution_count": 39,
   "metadata": {},
   "outputs": [
    {
     "name": "stderr",
     "output_type": "stream",
     "text": [
      "C:\\Users\\ntarz\\Anaconda3\\lib\\site-packages\\statsmodels\\base\\model.py:508: ConvergenceWarning: Maximum Likelihood optimization failed to converge. Check mle_retvals\n",
      "  \"Check mle_retvals\", ConvergenceWarning)\n"
     ]
    },
    {
     "data": {
      "text/html": [
       "<table class=\"simpletable\">\n",
       "<caption>Statespace Model Results</caption>\n",
       "<tr>\n",
       "  <th>Dep. Variable:</th>                 <td>XT</td>               <th>  No. Observations:  </th>   <td>1440</td>   \n",
       "</tr>\n",
       "<tr>\n",
       "  <th>Model:</th>           <td>SARIMAX(1, 1, 1)x(2, 0, 0, 24)</td> <th>  Log Likelihood     </th> <td>-9491.364</td>\n",
       "</tr>\n",
       "<tr>\n",
       "  <th>Date:</th>                   <td>Fri, 12 Jul 2019</td>        <th>  AIC                </th> <td>18994.728</td>\n",
       "</tr>\n",
       "<tr>\n",
       "  <th>Time:</th>                       <td>15:49:19</td>            <th>  BIC                </th> <td>19026.358</td>\n",
       "</tr>\n",
       "<tr>\n",
       "  <th>Sample:</th>                    <td>03-01-2019</td>           <th>  HQIC               </th> <td>19006.536</td>\n",
       "</tr>\n",
       "<tr>\n",
       "  <th></th>                          <td>- 04-29-2019</td>          <th>                     </th>     <td> </td>    \n",
       "</tr>\n",
       "<tr>\n",
       "  <th>Covariance Type:</th>               <td>opg</td>              <th>                     </th>     <td> </td>    \n",
       "</tr>\n",
       "</table>\n",
       "<table class=\"simpletable\">\n",
       "<tr>\n",
       "      <td></td>        <th>coef</th>     <th>std err</th>      <th>z</th>      <th>P>|z|</th>  <th>[0.025</th>    <th>0.975]</th>  \n",
       "</tr>\n",
       "<tr>\n",
       "  <th>Holiday</th>  <td>  -50.7683</td> <td>   69.743</td> <td>   -0.728</td> <td> 0.467</td> <td> -187.462</td> <td>   85.925</td>\n",
       "</tr>\n",
       "<tr>\n",
       "  <th>ar.L1</th>    <td>    0.8369</td> <td>    0.005</td> <td>  156.424</td> <td> 0.000</td> <td>    0.826</td> <td>    0.847</td>\n",
       "</tr>\n",
       "<tr>\n",
       "  <th>ma.L1</th>    <td>   -0.9975</td> <td>    0.005</td> <td> -216.951</td> <td> 0.000</td> <td>   -1.007</td> <td>   -0.989</td>\n",
       "</tr>\n",
       "<tr>\n",
       "  <th>ar.S.L24</th> <td>    0.5002</td> <td>    0.004</td> <td>  119.822</td> <td> 0.000</td> <td>    0.492</td> <td>    0.508</td>\n",
       "</tr>\n",
       "<tr>\n",
       "  <th>ar.S.L48</th> <td>    0.3834</td> <td>    0.005</td> <td>   72.559</td> <td> 0.000</td> <td>    0.373</td> <td>    0.394</td>\n",
       "</tr>\n",
       "<tr>\n",
       "  <th>sigma2</th>   <td> 3.112e+04</td> <td>  144.697</td> <td>  215.074</td> <td> 0.000</td> <td> 3.08e+04</td> <td> 3.14e+04</td>\n",
       "</tr>\n",
       "</table>\n",
       "<table class=\"simpletable\">\n",
       "<tr>\n",
       "  <th>Ljung-Box (Q):</th>          <td>136.02</td> <th>  Jarque-Bera (JB):  </th> <td>1960615.47</td>\n",
       "</tr>\n",
       "<tr>\n",
       "  <th>Prob(Q):</th>                 <td>0.00</td>  <th>  Prob(JB):          </th>    <td>0.00</td>   \n",
       "</tr>\n",
       "<tr>\n",
       "  <th>Heteroskedasticity (H):</th>  <td>0.74</td>  <th>  Skew:              </th>    <td>-1.73</td>  \n",
       "</tr>\n",
       "<tr>\n",
       "  <th>Prob(H) (two-sided):</th>     <td>0.00</td>  <th>  Kurtosis:          </th>   <td>183.80</td>  \n",
       "</tr>\n",
       "</table><br/><br/>Warnings:<br/>[1] Covariance matrix calculated using the outer product of gradients (complex-step)."
      ],
      "text/plain": [
       "<class 'statsmodels.iolib.summary.Summary'>\n",
       "\"\"\"\n",
       "                                 Statespace Model Results                                 \n",
       "==========================================================================================\n",
       "Dep. Variable:                                 XT   No. Observations:                 1440\n",
       "Model:             SARIMAX(1, 1, 1)x(2, 0, 0, 24)   Log Likelihood               -9491.364\n",
       "Date:                            Fri, 12 Jul 2019   AIC                          18994.728\n",
       "Time:                                    15:49:19   BIC                          19026.358\n",
       "Sample:                                03-01-2019   HQIC                         19006.536\n",
       "                                     - 04-29-2019                                         \n",
       "Covariance Type:                              opg                                         \n",
       "==============================================================================\n",
       "                 coef    std err          z      P>|z|      [0.025      0.975]\n",
       "------------------------------------------------------------------------------\n",
       "Holiday      -50.7683     69.743     -0.728      0.467    -187.462      85.925\n",
       "ar.L1          0.8369      0.005    156.424      0.000       0.826       0.847\n",
       "ma.L1         -0.9975      0.005   -216.951      0.000      -1.007      -0.989\n",
       "ar.S.L24       0.5002      0.004    119.822      0.000       0.492       0.508\n",
       "ar.S.L48       0.3834      0.005     72.559      0.000       0.373       0.394\n",
       "sigma2      3.112e+04    144.697    215.074      0.000    3.08e+04    3.14e+04\n",
       "===================================================================================\n",
       "Ljung-Box (Q):                      136.02   Jarque-Bera (JB):           1960615.47\n",
       "Prob(Q):                              0.00   Prob(JB):                         0.00\n",
       "Heteroskedasticity (H):               0.74   Skew:                            -1.73\n",
       "Prob(H) (two-sided):                  0.00   Kurtosis:                       183.80\n",
       "===================================================================================\n",
       "\n",
       "Warnings:\n",
       "[1] Covariance matrix calculated using the outer product of gradients (complex-step).\n",
       "\"\"\""
      ]
     },
     "execution_count": 39,
     "metadata": {},
     "output_type": "execute_result"
    }
   ],
   "source": [
    "#run model\n",
    "#model = SARIMAX(train['XT'],exog=train[['Holiday']],order=(1,1,1),seasonal_order=(2,0,0,24),enforce_invertibility=False)\n",
    "results = model.fit()\n",
    "results.summary()"
   ]
  },
  {
   "cell_type": "code",
   "execution_count": 40,
   "metadata": {},
   "outputs": [
    {
     "name": "stderr",
     "output_type": "stream",
     "text": [
      "C:\\Users\\ntarz\\Anaconda3\\lib\\site-packages\\statsmodels\\tsa\\base\\tsa_model.py:320: FutureWarning: Creating a DatetimeIndex by passing range endpoints is deprecated.  Use `pandas.date_range` instead.\n",
      "  freq=base_index.freq)\n"
     ]
    }
   ],
   "source": [
    "# Obtain predicted values\n",
    "start=len(train)\n",
    "end=len(train)+len(test)-1\n",
    "exog_forecast = test[['Holiday']]  # requires two brackets to yield a shape of (35,1)\n",
    "predictions = results.predict(start=start, end=end, exog=exog_forecast).rename('SARIMAX(1,1,1)(2,0,0,24) Predictions')"
   ]
  },
  {
   "cell_type": "code",
   "execution_count": 41,
   "metadata": {},
   "outputs": [
    {
     "data": {
      "image/png": "[encoded data removed]",
      "text/plain": [
       "<Figure size 864x432 with 1 Axes>"
      ]
     },
     "metadata": {
      "needs_background": "light"
     },
     "output_type": "display_data"
    }
   ],
   "source": [
    "# Plot predictions against known values\n",
    "ax = test['XT'].plot(legend=True,figsize=(12,6))\n",
    "predictions.plot(legend=True)\n",
    "ax.autoscale(axis='x',tight=True)"
   ]
  },
  {
   "cell_type": "code",
   "execution_count": null,
   "metadata": {},
   "outputs": [],
   "source": []
  }
 ],
 "metadata": {
  "kernelspec": {
   "display_name": "Python 3",
   "language": "python",
   "name": "python3"
  },
  "language_info": {
   "codemirror_mode": {
    "name": "ipython",
    "version": 3
   },
   "file_extension": ".py",
   "mimetype": "text/x-python",
   "name": "python",
   "nbconvert_exporter": "python",
   "pygments_lexer": "ipython3",
   "version": "3.7.3"
  }
 },
 "nbformat": 4,
 "nbformat_minor": 2
}
