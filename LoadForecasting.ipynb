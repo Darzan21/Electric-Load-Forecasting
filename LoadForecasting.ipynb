{
 "cells": [
  {
   "cell_type": "code",
   "execution_count": 1,
   "metadata": {},
   "outputs": [
    {
     "name": "stderr",
     "output_type": "stream",
     "text": [
      "/Library/Frameworks/Python.framework/Versions/3.7/lib/python3.7/site-packages/tensorflow/python/framework/dtypes.py:516: FutureWarning: Passing (type, 1) or '1type' as a synonym of type is deprecated; in a future version of numpy, it will be understood as (type, (1,)) / '(1,)type'.\n",
      "  _np_qint8 = np.dtype([(\"qint8\", np.int8, 1)])\n",
      "/Library/Frameworks/Python.framework/Versions/3.7/lib/python3.7/site-packages/tensorflow/python/framework/dtypes.py:517: FutureWarning: Passing (type, 1) or '1type' as a synonym of type is deprecated; in a future version of numpy, it will be understood as (type, (1,)) / '(1,)type'.\n",
      "  _np_quint8 = np.dtype([(\"quint8\", np.uint8, 1)])\n",
      "/Library/Frameworks/Python.framework/Versions/3.7/lib/python3.7/site-packages/tensorflow/python/framework/dtypes.py:518: FutureWarning: Passing (type, 1) or '1type' as a synonym of type is deprecated; in a future version of numpy, it will be understood as (type, (1,)) / '(1,)type'.\n",
      "  _np_qint16 = np.dtype([(\"qint16\", np.int16, 1)])\n",
      "/Library/Frameworks/Python.framework/Versions/3.7/lib/python3.7/site-packages/tensorflow/python/framework/dtypes.py:519: FutureWarning: Passing (type, 1) or '1type' as a synonym of type is deprecated; in a future version of numpy, it will be understood as (type, (1,)) / '(1,)type'.\n",
      "  _np_quint16 = np.dtype([(\"quint16\", np.uint16, 1)])\n",
      "/Library/Frameworks/Python.framework/Versions/3.7/lib/python3.7/site-packages/tensorflow/python/framework/dtypes.py:520: FutureWarning: Passing (type, 1) or '1type' as a synonym of type is deprecated; in a future version of numpy, it will be understood as (type, (1,)) / '(1,)type'.\n",
      "  _np_qint32 = np.dtype([(\"qint32\", np.int32, 1)])\n",
      "/Library/Frameworks/Python.framework/Versions/3.7/lib/python3.7/site-packages/tensorflow/python/framework/dtypes.py:525: FutureWarning: Passing (type, 1) or '1type' as a synonym of type is deprecated; in a future version of numpy, it will be understood as (type, (1,)) / '(1,)type'.\n",
      "  np_resource = np.dtype([(\"resource\", np.ubyte, 1)])\n",
      "/Library/Frameworks/Python.framework/Versions/3.7/lib/python3.7/site-packages/tensorboard/compat/tensorflow_stub/dtypes.py:541: FutureWarning: Passing (type, 1) or '1type' as a synonym of type is deprecated; in a future version of numpy, it will be understood as (type, (1,)) / '(1,)type'.\n",
      "  _np_qint8 = np.dtype([(\"qint8\", np.int8, 1)])\n",
      "/Library/Frameworks/Python.framework/Versions/3.7/lib/python3.7/site-packages/tensorboard/compat/tensorflow_stub/dtypes.py:542: FutureWarning: Passing (type, 1) or '1type' as a synonym of type is deprecated; in a future version of numpy, it will be understood as (type, (1,)) / '(1,)type'.\n",
      "  _np_quint8 = np.dtype([(\"quint8\", np.uint8, 1)])\n",
      "/Library/Frameworks/Python.framework/Versions/3.7/lib/python3.7/site-packages/tensorboard/compat/tensorflow_stub/dtypes.py:543: FutureWarning: Passing (type, 1) or '1type' as a synonym of type is deprecated; in a future version of numpy, it will be understood as (type, (1,)) / '(1,)type'.\n",
      "  _np_qint16 = np.dtype([(\"qint16\", np.int16, 1)])\n",
      "/Library/Frameworks/Python.framework/Versions/3.7/lib/python3.7/site-packages/tensorboard/compat/tensorflow_stub/dtypes.py:544: FutureWarning: Passing (type, 1) or '1type' as a synonym of type is deprecated; in a future version of numpy, it will be understood as (type, (1,)) / '(1,)type'.\n",
      "  _np_quint16 = np.dtype([(\"quint16\", np.uint16, 1)])\n",
      "/Library/Frameworks/Python.framework/Versions/3.7/lib/python3.7/site-packages/tensorboard/compat/tensorflow_stub/dtypes.py:545: FutureWarning: Passing (type, 1) or '1type' as a synonym of type is deprecated; in a future version of numpy, it will be understood as (type, (1,)) / '(1,)type'.\n",
      "  _np_qint32 = np.dtype([(\"qint32\", np.int32, 1)])\n",
      "/Library/Frameworks/Python.framework/Versions/3.7/lib/python3.7/site-packages/tensorboard/compat/tensorflow_stub/dtypes.py:550: FutureWarning: Passing (type, 1) or '1type' as a synonym of type is deprecated; in a future version of numpy, it will be understood as (type, (1,)) / '(1,)type'.\n",
      "  np_resource = np.dtype([(\"resource\", np.ubyte, 1)])\n"
     ]
    }
   ],
   "source": [
    "#load libraries\n",
    "import pandas as pd\n",
    "import os\n",
    "import numpy as np\n",
    "import datetime as dt\n",
    "import matplotlib.pyplot as plt\n",
    "\n",
    "%matplotlib inline\n",
    "\n",
    "import tensorflow as tf\n",
    "\n",
    "# Load specific forecasting tools\n",
    "from statsmodels.tsa.statespace.sarimax import SARIMAX\n",
    "from statsmodels.graphics.tsaplots import plot_acf,plot_pacf \n",
    "from statsmodels.tsa.seasonal import seasonal_decompose \n",
    "from pmdarima import auto_arima   \n"
   ]
  },
  {
   "cell_type": "code",
   "execution_count": 2,
   "metadata": {},
   "outputs": [
    {
     "data": {
      "text/plain": [
       "'/Users/panos/Documents/Work/aueb/students/darzanos/LoadPrediction'"
      ]
     },
     "execution_count": 2,
     "metadata": {},
     "output_type": "execute_result"
    }
   ],
   "source": [
    "pwd"
   ]
  },
  {
   "cell_type": "code",
   "execution_count": 3,
   "metadata": {},
   "outputs": [
    {
     "data": {
      "text/plain": [
       "['Cons_Report_122018.xlsx',\n",
       " 'Cons_Report_052019.xlsx',\n",
       " 'Cons_Report_042019.xlsx',\n",
       " 'Cons_Report_052018.xlsx',\n",
       " 'Cons_Report_042018.xlsx',\n",
       " 'Cons_Report_022018.xlsx',\n",
       " 'Cons_Report_032018.xlsx',\n",
       " 'Cons_Report_082018.xlsx',\n",
       " 'Cons_Report_092018.xlsx',\n",
       " 'Cons_Report_022019.xlsx',\n",
       " 'Cons_Report_032019.xlsx',\n",
       " 'Cons_Report_062018.xlsx',\n",
       " 'Cons_Report_072018.xlsx',\n",
       " 'Load Demand_Forecast.xlsx',\n",
       " 'Cons_Report_112018.xlsx',\n",
       " 'Cons_Report_102018.xlsx',\n",
       " 'Cons_Report_012019.xlsx',\n",
       " 'Cons_Report_012018.xlsx']"
      ]
     },
     "execution_count": 3,
     "metadata": {},
     "output_type": "execute_result"
    }
   ],
   "source": [
    "#load folder-the actual data were given in 17 separate excel files\n",
    "files = os.listdir('dataLoad')\n",
    "files"
   ]
  },
  {
   "cell_type": "code",
   "execution_count": 4,
   "metadata": {},
   "outputs": [
    {
     "data": {
      "text/plain": [
       "['Cons_Report_122018.xlsx',\n",
       " 'Cons_Report_052019.xlsx',\n",
       " 'Cons_Report_042019.xlsx',\n",
       " 'Cons_Report_052018.xlsx',\n",
       " 'Cons_Report_042018.xlsx',\n",
       " 'Cons_Report_022018.xlsx',\n",
       " 'Cons_Report_032018.xlsx',\n",
       " 'Cons_Report_082018.xlsx',\n",
       " 'Cons_Report_092018.xlsx',\n",
       " 'Cons_Report_022019.xlsx',\n",
       " 'Cons_Report_032019.xlsx',\n",
       " 'Cons_Report_062018.xlsx',\n",
       " 'Cons_Report_072018.xlsx',\n",
       " 'Cons_Report_112018.xlsx',\n",
       " 'Cons_Report_102018.xlsx',\n",
       " 'Cons_Report_012019.xlsx',\n",
       " 'Cons_Report_012018.xlsx']"
      ]
     },
     "execution_count": 4,
     "metadata": {},
     "output_type": "execute_result"
    }
   ],
   "source": [
    "#list of files to loop-only xlsx\n",
    "files_xls = [f for f in files if 'Cons_Report' in f]\n",
    "files_xls"
   ]
  },
  {
   "cell_type": "code",
   "execution_count": 5,
   "metadata": {},
   "outputs": [],
   "source": [
    "#create one dataframe from all the excel files\n",
    "actual = pd.DataFrame()\n",
    "for f in files_xls:\n",
    "    data = pd.read_excel('dataLoad/' + f)\n",
    "    actual=actual.append(data, ignore_index=True)"
   ]
  },
  {
   "cell_type": "code",
   "execution_count": 6,
   "metadata": {},
   "outputs": [
    {
     "data": {
      "text/plain": [
       "Index(['deliveryDay', 'Hour_EET', 'Gen_Aux', 'HV', 'Pump', 'TEL_MV', 'Network',\n",
       "       'Total'],\n",
       "      dtype='object')"
      ]
     },
     "execution_count": 6,
     "metadata": {},
     "output_type": "execute_result"
    }
   ],
   "source": [
    "#get column names\n",
    "actual.columns"
   ]
  },
  {
   "cell_type": "code",
   "execution_count": 7,
   "metadata": {},
   "outputs": [
    {
     "data": {
      "text/html": [
       "<div>\n",
       "<style scoped>\n",
       "    .dataframe tbody tr th:only-of-type {\n",
       "        vertical-align: middle;\n",
       "    }\n",
       "\n",
       "    .dataframe tbody tr th {\n",
       "        vertical-align: top;\n",
       "    }\n",
       "\n",
       "    .dataframe thead th {\n",
       "        text-align: right;\n",
       "    }\n",
       "</style>\n",
       "<table border=\"1\" class=\"dataframe\">\n",
       "  <thead>\n",
       "    <tr style=\"text-align: right;\">\n",
       "      <th></th>\n",
       "      <th>Date</th>\n",
       "      <th>Hour</th>\n",
       "      <th>Gen_Aux</th>\n",
       "      <th>HV</th>\n",
       "      <th>Pump</th>\n",
       "      <th>TEL_MV</th>\n",
       "      <th>Network</th>\n",
       "      <th>ActualTotal</th>\n",
       "    </tr>\n",
       "  </thead>\n",
       "  <tbody>\n",
       "    <tr>\n",
       "      <th>0</th>\n",
       "      <td>2018-12-01</td>\n",
       "      <td>1</td>\n",
       "      <td>33.006141</td>\n",
       "      <td>934.808670</td>\n",
       "      <td>0.0</td>\n",
       "      <td>954.722055</td>\n",
       "      <td>4595.257242</td>\n",
       "      <td>5563.072052</td>\n",
       "    </tr>\n",
       "    <tr>\n",
       "      <th>1</th>\n",
       "      <td>2018-12-01</td>\n",
       "      <td>2</td>\n",
       "      <td>43.988918</td>\n",
       "      <td>959.233194</td>\n",
       "      <td>0.0</td>\n",
       "      <td>931.364922</td>\n",
       "      <td>4063.666352</td>\n",
       "      <td>5066.888464</td>\n",
       "    </tr>\n",
       "    <tr>\n",
       "      <th>2</th>\n",
       "      <td>2018-12-01</td>\n",
       "      <td>3</td>\n",
       "      <td>46.329801</td>\n",
       "      <td>970.324019</td>\n",
       "      <td>0.0</td>\n",
       "      <td>910.726163</td>\n",
       "      <td>3938.994044</td>\n",
       "      <td>4955.647864</td>\n",
       "    </tr>\n",
       "    <tr>\n",
       "      <th>3</th>\n",
       "      <td>2018-12-01</td>\n",
       "      <td>4</td>\n",
       "      <td>36.405052</td>\n",
       "      <td>995.836951</td>\n",
       "      <td>0.0</td>\n",
       "      <td>901.447118</td>\n",
       "      <td>3755.516237</td>\n",
       "      <td>4787.758241</td>\n",
       "    </tr>\n",
       "    <tr>\n",
       "      <th>4</th>\n",
       "      <td>2018-12-01</td>\n",
       "      <td>5</td>\n",
       "      <td>36.149028</td>\n",
       "      <td>991.074298</td>\n",
       "      <td>0.0</td>\n",
       "      <td>896.550351</td>\n",
       "      <td>3646.883398</td>\n",
       "      <td>4674.106724</td>\n",
       "    </tr>\n",
       "  </tbody>\n",
       "</table>\n",
       "</div>"
      ],
      "text/plain": [
       "        Date  Hour    Gen_Aux          HV  Pump      TEL_MV      Network  \\\n",
       "0 2018-12-01     1  33.006141  934.808670   0.0  954.722055  4595.257242   \n",
       "1 2018-12-01     2  43.988918  959.233194   0.0  931.364922  4063.666352   \n",
       "2 2018-12-01     3  46.329801  970.324019   0.0  910.726163  3938.994044   \n",
       "3 2018-12-01     4  36.405052  995.836951   0.0  901.447118  3755.516237   \n",
       "4 2018-12-01     5  36.149028  991.074298   0.0  896.550351  3646.883398   \n",
       "\n",
       "   ActualTotal  \n",
       "0  5563.072052  \n",
       "1  5066.888464  \n",
       "2  4955.647864  \n",
       "3  4787.758241  \n",
       "4  4674.106724  "
      ]
     },
     "execution_count": 7,
     "metadata": {},
     "output_type": "execute_result"
    }
   ],
   "source": [
    "#rename columns\n",
    "actual.columns=['Date','Hour','Gen_Aux', 'HV', 'Pump', 'TEL_MV', 'Network','ActualTotal']\n",
    "actual.head()"
   ]
  },
  {
   "cell_type": "markdown",
   "metadata": {},
   "source": [
    "- Date,Hour=Ημερομηνια Αναφοράς\n",
    "- Gen_Aux=φορτιο παραγωγής μονάδων\n",
    "- HV=Φορτίο Υψηλής τάσης\n",
    "- Pump=Αναμενω ενημέρωση\n",
    "- Network (ΜΤ+ΧΤ)= μας δίνει το συνολικό actual φορτίο\n",
    "- TEL_MV=Φορτιο της τηλεμετρουμενης μεσης τασης.\n",
    "- ΧΤ= Η στηλη που δημιουργώ αφαιρώντας την τηλεμετρουμενη ΜΤ από το Network και βρίσκω την actual total XT που θέλω να προβλεψω.\n",
    "- ActualTotal= Το αθροισμα των Network+HV+Gen_Aux+Pump που μας δίνει το συνολικό φορτίο. Αυτό θα το χρησιμοποιήσω αργότερα για να βρω τι ποσοστό είναι η ΧΤ σε σχέση με το ActualTotal.\n",
    "\n"
   ]
  },
  {
   "cell_type": "code",
   "execution_count": 8,
   "metadata": {},
   "outputs": [],
   "source": [
    "#load excel with forecast of the current program\n",
    "forecast=pd.read_excel(\"dataLoad/Load Demand_Forecast.xlsx\")"
   ]
  },
  {
   "cell_type": "code",
   "execution_count": 9,
   "metadata": {},
   "outputs": [
    {
     "data": {
      "text/html": [
       "<div>\n",
       "<style scoped>\n",
       "    .dataframe tbody tr th:only-of-type {\n",
       "        vertical-align: middle;\n",
       "    }\n",
       "\n",
       "    .dataframe tbody tr th {\n",
       "        vertical-align: top;\n",
       "    }\n",
       "\n",
       "    .dataframe thead th {\n",
       "        text-align: right;\n",
       "    }\n",
       "</style>\n",
       "<table border=\"1\" class=\"dataframe\">\n",
       "  <thead>\n",
       "    <tr style=\"text-align: right;\">\n",
       "      <th></th>\n",
       "      <th>Year</th>\n",
       "      <th>Month</th>\n",
       "      <th>Weekday</th>\n",
       "      <th>Holiday</th>\n",
       "      <th>Date</th>\n",
       "      <th>1</th>\n",
       "      <th>2</th>\n",
       "      <th>3</th>\n",
       "      <th>4</th>\n",
       "      <th>5</th>\n",
       "      <th>...</th>\n",
       "      <th>21</th>\n",
       "      <th>22</th>\n",
       "      <th>23</th>\n",
       "      <th>24</th>\n",
       "      <th>Sum</th>\n",
       "      <th>Avrg</th>\n",
       "      <th>Max</th>\n",
       "      <th>Min</th>\n",
       "      <th>Δ vs D-1</th>\n",
       "      <th>Δ vs D-7</th>\n",
       "    </tr>\n",
       "  </thead>\n",
       "  <tbody>\n",
       "    <tr>\n",
       "      <th>0</th>\n",
       "      <td>2018</td>\n",
       "      <td>1</td>\n",
       "      <td>1</td>\n",
       "      <td>1</td>\n",
       "      <td>2018-01-01</td>\n",
       "      <td>5315.0</td>\n",
       "      <td>4963.0</td>\n",
       "      <td>4838.0</td>\n",
       "      <td>4515.0</td>\n",
       "      <td>4280.0</td>\n",
       "      <td>...</td>\n",
       "      <td>6198.0</td>\n",
       "      <td>6021.0</td>\n",
       "      <td>5756.0</td>\n",
       "      <td>5513.0</td>\n",
       "      <td>127512.0</td>\n",
       "      <td>5313.000000</td>\n",
       "      <td>6237.0</td>\n",
       "      <td>4182.0</td>\n",
       "      <td>-0.112966</td>\n",
       "      <td>-0.077077</td>\n",
       "    </tr>\n",
       "    <tr>\n",
       "      <th>1</th>\n",
       "      <td>2018</td>\n",
       "      <td>1</td>\n",
       "      <td>2</td>\n",
       "      <td>0</td>\n",
       "      <td>2018-01-02</td>\n",
       "      <td>5023.0</td>\n",
       "      <td>4612.0</td>\n",
       "      <td>4573.0</td>\n",
       "      <td>4389.0</td>\n",
       "      <td>4250.0</td>\n",
       "      <td>...</td>\n",
       "      <td>6831.0</td>\n",
       "      <td>6517.0</td>\n",
       "      <td>6106.0</td>\n",
       "      <td>5717.0</td>\n",
       "      <td>135940.0</td>\n",
       "      <td>5664.166667</td>\n",
       "      <td>6927.0</td>\n",
       "      <td>4250.0</td>\n",
       "      <td>0.066096</td>\n",
       "      <td>-0.011101</td>\n",
       "    </tr>\n",
       "    <tr>\n",
       "      <th>2</th>\n",
       "      <td>2018</td>\n",
       "      <td>1</td>\n",
       "      <td>3</td>\n",
       "      <td>0</td>\n",
       "      <td>2018-01-03</td>\n",
       "      <td>5211.0</td>\n",
       "      <td>4761.0</td>\n",
       "      <td>4721.0</td>\n",
       "      <td>4547.0</td>\n",
       "      <td>4438.0</td>\n",
       "      <td>...</td>\n",
       "      <td>7409.0</td>\n",
       "      <td>6949.0</td>\n",
       "      <td>6411.0</td>\n",
       "      <td>5962.0</td>\n",
       "      <td>146200.0</td>\n",
       "      <td>6091.666667</td>\n",
       "      <td>7554.0</td>\n",
       "      <td>4438.0</td>\n",
       "      <td>0.075474</td>\n",
       "      <td>-0.001666</td>\n",
       "    </tr>\n",
       "    <tr>\n",
       "      <th>3</th>\n",
       "      <td>2018</td>\n",
       "      <td>1</td>\n",
       "      <td>4</td>\n",
       "      <td>0</td>\n",
       "      <td>2018-01-04</td>\n",
       "      <td>5307.0</td>\n",
       "      <td>4788.0</td>\n",
       "      <td>4721.0</td>\n",
       "      <td>4525.0</td>\n",
       "      <td>4427.0</td>\n",
       "      <td>...</td>\n",
       "      <td>7483.0</td>\n",
       "      <td>7014.0</td>\n",
       "      <td>6476.0</td>\n",
       "      <td>6038.0</td>\n",
       "      <td>149234.0</td>\n",
       "      <td>6218.083333</td>\n",
       "      <td>7649.0</td>\n",
       "      <td>4427.0</td>\n",
       "      <td>0.020752</td>\n",
       "      <td>0.020194</td>\n",
       "    </tr>\n",
       "    <tr>\n",
       "      <th>4</th>\n",
       "      <td>2018</td>\n",
       "      <td>1</td>\n",
       "      <td>5</td>\n",
       "      <td>0</td>\n",
       "      <td>2018-01-05</td>\n",
       "      <td>5420.0</td>\n",
       "      <td>4932.0</td>\n",
       "      <td>4865.0</td>\n",
       "      <td>4718.0</td>\n",
       "      <td>4621.0</td>\n",
       "      <td>...</td>\n",
       "      <td>7453.0</td>\n",
       "      <td>6984.0</td>\n",
       "      <td>6455.0</td>\n",
       "      <td>6037.0</td>\n",
       "      <td>149052.0</td>\n",
       "      <td>6210.500000</td>\n",
       "      <td>7550.0</td>\n",
       "      <td>4621.0</td>\n",
       "      <td>-0.001220</td>\n",
       "      <td>0.010892</td>\n",
       "    </tr>\n",
       "  </tbody>\n",
       "</table>\n",
       "<p>5 rows × 35 columns</p>\n",
       "</div>"
      ],
      "text/plain": [
       "   Year  Month  Weekday  Holiday       Date       1       2       3       4  \\\n",
       "0  2018      1        1        1 2018-01-01  5315.0  4963.0  4838.0  4515.0   \n",
       "1  2018      1        2        0 2018-01-02  5023.0  4612.0  4573.0  4389.0   \n",
       "2  2018      1        3        0 2018-01-03  5211.0  4761.0  4721.0  4547.0   \n",
       "3  2018      1        4        0 2018-01-04  5307.0  4788.0  4721.0  4525.0   \n",
       "4  2018      1        5        0 2018-01-05  5420.0  4932.0  4865.0  4718.0   \n",
       "\n",
       "        5  ...      21      22      23      24       Sum         Avrg     Max  \\\n",
       "0  4280.0  ...  6198.0  6021.0  5756.0  5513.0  127512.0  5313.000000  6237.0   \n",
       "1  4250.0  ...  6831.0  6517.0  6106.0  5717.0  135940.0  5664.166667  6927.0   \n",
       "2  4438.0  ...  7409.0  6949.0  6411.0  5962.0  146200.0  6091.666667  7554.0   \n",
       "3  4427.0  ...  7483.0  7014.0  6476.0  6038.0  149234.0  6218.083333  7649.0   \n",
       "4  4621.0  ...  7453.0  6984.0  6455.0  6037.0  149052.0  6210.500000  7550.0   \n",
       "\n",
       "      Min  Δ vs D-1  Δ vs D-7  \n",
       "0  4182.0 -0.112966 -0.077077  \n",
       "1  4250.0  0.066096 -0.011101  \n",
       "2  4438.0  0.075474 -0.001666  \n",
       "3  4427.0  0.020752  0.020194  \n",
       "4  4621.0 -0.001220  0.010892  \n",
       "\n",
       "[5 rows x 35 columns]"
      ]
     },
     "execution_count": 9,
     "metadata": {},
     "output_type": "execute_result"
    }
   ],
   "source": [
    "forecast.head()"
   ]
  },
  {
   "cell_type": "code",
   "execution_count": 10,
   "metadata": {},
   "outputs": [
    {
     "data": {
      "text/html": [
       "<div>\n",
       "<style scoped>\n",
       "    .dataframe tbody tr th:only-of-type {\n",
       "        vertical-align: middle;\n",
       "    }\n",
       "\n",
       "    .dataframe tbody tr th {\n",
       "        vertical-align: top;\n",
       "    }\n",
       "\n",
       "    .dataframe thead th {\n",
       "        text-align: right;\n",
       "    }\n",
       "</style>\n",
       "<table border=\"1\" class=\"dataframe\">\n",
       "  <thead>\n",
       "    <tr style=\"text-align: right;\">\n",
       "      <th></th>\n",
       "      <th>Weekday</th>\n",
       "      <th>Holiday</th>\n",
       "      <th>Date</th>\n",
       "      <th>variable</th>\n",
       "      <th>value</th>\n",
       "    </tr>\n",
       "  </thead>\n",
       "  <tbody>\n",
       "    <tr>\n",
       "      <th>0</th>\n",
       "      <td>1</td>\n",
       "      <td>1</td>\n",
       "      <td>2018-01-01</td>\n",
       "      <td>1</td>\n",
       "      <td>5315.0</td>\n",
       "    </tr>\n",
       "    <tr>\n",
       "      <th>1</th>\n",
       "      <td>2</td>\n",
       "      <td>0</td>\n",
       "      <td>2018-01-02</td>\n",
       "      <td>1</td>\n",
       "      <td>5023.0</td>\n",
       "    </tr>\n",
       "    <tr>\n",
       "      <th>2</th>\n",
       "      <td>3</td>\n",
       "      <td>0</td>\n",
       "      <td>2018-01-03</td>\n",
       "      <td>1</td>\n",
       "      <td>5211.0</td>\n",
       "    </tr>\n",
       "    <tr>\n",
       "      <th>3</th>\n",
       "      <td>4</td>\n",
       "      <td>0</td>\n",
       "      <td>2018-01-04</td>\n",
       "      <td>1</td>\n",
       "      <td>5307.0</td>\n",
       "    </tr>\n",
       "    <tr>\n",
       "      <th>4</th>\n",
       "      <td>5</td>\n",
       "      <td>0</td>\n",
       "      <td>2018-01-05</td>\n",
       "      <td>1</td>\n",
       "      <td>5420.0</td>\n",
       "    </tr>\n",
       "    <tr>\n",
       "      <th>5</th>\n",
       "      <td>6</td>\n",
       "      <td>1</td>\n",
       "      <td>2018-01-06</td>\n",
       "      <td>1</td>\n",
       "      <td>5430.0</td>\n",
       "    </tr>\n",
       "    <tr>\n",
       "      <th>6</th>\n",
       "      <td>7</td>\n",
       "      <td>0</td>\n",
       "      <td>2018-01-07</td>\n",
       "      <td>1</td>\n",
       "      <td>5348.0</td>\n",
       "    </tr>\n",
       "    <tr>\n",
       "      <th>7</th>\n",
       "      <td>1</td>\n",
       "      <td>0</td>\n",
       "      <td>2018-01-08</td>\n",
       "      <td>1</td>\n",
       "      <td>5170.0</td>\n",
       "    </tr>\n",
       "    <tr>\n",
       "      <th>8</th>\n",
       "      <td>2</td>\n",
       "      <td>0</td>\n",
       "      <td>2018-01-09</td>\n",
       "      <td>1</td>\n",
       "      <td>5343.0</td>\n",
       "    </tr>\n",
       "    <tr>\n",
       "      <th>9</th>\n",
       "      <td>3</td>\n",
       "      <td>0</td>\n",
       "      <td>2018-01-10</td>\n",
       "      <td>1</td>\n",
       "      <td>5304.0</td>\n",
       "    </tr>\n",
       "  </tbody>\n",
       "</table>\n",
       "</div>"
      ],
      "text/plain": [
       "   Weekday  Holiday       Date variable   value\n",
       "0        1        1 2018-01-01        1  5315.0\n",
       "1        2        0 2018-01-02        1  5023.0\n",
       "2        3        0 2018-01-03        1  5211.0\n",
       "3        4        0 2018-01-04        1  5307.0\n",
       "4        5        0 2018-01-05        1  5420.0\n",
       "5        6        1 2018-01-06        1  5430.0\n",
       "6        7        0 2018-01-07        1  5348.0\n",
       "7        1        0 2018-01-08        1  5170.0\n",
       "8        2        0 2018-01-09        1  5343.0\n",
       "9        3        0 2018-01-10        1  5304.0"
      ]
     },
     "execution_count": 10,
     "metadata": {},
     "output_type": "execute_result"
    }
   ],
   "source": [
    "#data manipulation to create new dataframe\n",
    "forecast2=forecast[['Weekday',  'Holiday','Date', 1,2,3,4,5,6,7,8,9,10,11,12,13,14,15,16,17,18,19,20,21,22,23,24]]\n",
    "prediction = pd.melt(forecast2, id_vars=[\"Weekday\", \"Holiday\", \"Date\"])\n",
    "prediction.head(10)"
   ]
  },
  {
   "cell_type": "code",
   "execution_count": 11,
   "metadata": {},
   "outputs": [
    {
     "data": {
      "text/html": [
       "<div>\n",
       "<style scoped>\n",
       "    .dataframe tbody tr th:only-of-type {\n",
       "        vertical-align: middle;\n",
       "    }\n",
       "\n",
       "    .dataframe tbody tr th {\n",
       "        vertical-align: top;\n",
       "    }\n",
       "\n",
       "    .dataframe thead th {\n",
       "        text-align: right;\n",
       "    }\n",
       "</style>\n",
       "<table border=\"1\" class=\"dataframe\">\n",
       "  <thead>\n",
       "    <tr style=\"text-align: right;\">\n",
       "      <th></th>\n",
       "      <th>Weekday</th>\n",
       "      <th>Holiday</th>\n",
       "      <th>Date</th>\n",
       "      <th>variable</th>\n",
       "      <th>value</th>\n",
       "    </tr>\n",
       "  </thead>\n",
       "  <tbody>\n",
       "    <tr>\n",
       "      <th>12374</th>\n",
       "      <td>3</td>\n",
       "      <td>0</td>\n",
       "      <td>2019-05-22</td>\n",
       "      <td>24</td>\n",
       "      <td>5066.0</td>\n",
       "    </tr>\n",
       "    <tr>\n",
       "      <th>12375</th>\n",
       "      <td>4</td>\n",
       "      <td>0</td>\n",
       "      <td>2019-05-23</td>\n",
       "      <td>24</td>\n",
       "      <td>5126.0</td>\n",
       "    </tr>\n",
       "    <tr>\n",
       "      <th>12376</th>\n",
       "      <td>5</td>\n",
       "      <td>0</td>\n",
       "      <td>2019-05-24</td>\n",
       "      <td>24</td>\n",
       "      <td>5092.0</td>\n",
       "    </tr>\n",
       "    <tr>\n",
       "      <th>12377</th>\n",
       "      <td>6</td>\n",
       "      <td>0</td>\n",
       "      <td>2019-05-25</td>\n",
       "      <td>24</td>\n",
       "      <td>4961.0</td>\n",
       "    </tr>\n",
       "    <tr>\n",
       "      <th>12378</th>\n",
       "      <td>7</td>\n",
       "      <td>0</td>\n",
       "      <td>2019-05-26</td>\n",
       "      <td>24</td>\n",
       "      <td>4802.0</td>\n",
       "    </tr>\n",
       "    <tr>\n",
       "      <th>12379</th>\n",
       "      <td>1</td>\n",
       "      <td>0</td>\n",
       "      <td>2019-05-27</td>\n",
       "      <td>24</td>\n",
       "      <td>5093.0</td>\n",
       "    </tr>\n",
       "    <tr>\n",
       "      <th>12380</th>\n",
       "      <td>2</td>\n",
       "      <td>0</td>\n",
       "      <td>2019-05-28</td>\n",
       "      <td>24</td>\n",
       "      <td>5088.0</td>\n",
       "    </tr>\n",
       "    <tr>\n",
       "      <th>12381</th>\n",
       "      <td>3</td>\n",
       "      <td>0</td>\n",
       "      <td>2019-05-29</td>\n",
       "      <td>24</td>\n",
       "      <td>5111.0</td>\n",
       "    </tr>\n",
       "    <tr>\n",
       "      <th>12382</th>\n",
       "      <td>4</td>\n",
       "      <td>0</td>\n",
       "      <td>2019-05-30</td>\n",
       "      <td>24</td>\n",
       "      <td>5185.0</td>\n",
       "    </tr>\n",
       "    <tr>\n",
       "      <th>12383</th>\n",
       "      <td>5</td>\n",
       "      <td>0</td>\n",
       "      <td>2019-05-31</td>\n",
       "      <td>24</td>\n",
       "      <td>5105.0</td>\n",
       "    </tr>\n",
       "  </tbody>\n",
       "</table>\n",
       "</div>"
      ],
      "text/plain": [
       "       Weekday  Holiday       Date variable   value\n",
       "12374        3        0 2019-05-22       24  5066.0\n",
       "12375        4        0 2019-05-23       24  5126.0\n",
       "12376        5        0 2019-05-24       24  5092.0\n",
       "12377        6        0 2019-05-25       24  4961.0\n",
       "12378        7        0 2019-05-26       24  4802.0\n",
       "12379        1        0 2019-05-27       24  5093.0\n",
       "12380        2        0 2019-05-28       24  5088.0\n",
       "12381        3        0 2019-05-29       24  5111.0\n",
       "12382        4        0 2019-05-30       24  5185.0\n",
       "12383        5        0 2019-05-31       24  5105.0"
      ]
     },
     "execution_count": 11,
     "metadata": {},
     "output_type": "execute_result"
    }
   ],
   "source": [
    "prediction.tail(10)"
   ]
  },
  {
   "cell_type": "code",
   "execution_count": 12,
   "metadata": {},
   "outputs": [
    {
     "data": {
      "text/html": [
       "<div>\n",
       "<style scoped>\n",
       "    .dataframe tbody tr th:only-of-type {\n",
       "        vertical-align: middle;\n",
       "    }\n",
       "\n",
       "    .dataframe tbody tr th {\n",
       "        vertical-align: top;\n",
       "    }\n",
       "\n",
       "    .dataframe thead th {\n",
       "        text-align: right;\n",
       "    }\n",
       "</style>\n",
       "<table border=\"1\" class=\"dataframe\">\n",
       "  <thead>\n",
       "    <tr style=\"text-align: right;\">\n",
       "      <th></th>\n",
       "      <th>Weekday</th>\n",
       "      <th>Holiday</th>\n",
       "      <th>Date</th>\n",
       "      <th>Hour</th>\n",
       "      <th>ForecastTotalLoad</th>\n",
       "    </tr>\n",
       "  </thead>\n",
       "  <tbody>\n",
       "    <tr>\n",
       "      <th>0</th>\n",
       "      <td>1</td>\n",
       "      <td>1</td>\n",
       "      <td>2018-01-01</td>\n",
       "      <td>1</td>\n",
       "      <td>5315.0</td>\n",
       "    </tr>\n",
       "    <tr>\n",
       "      <th>1</th>\n",
       "      <td>2</td>\n",
       "      <td>0</td>\n",
       "      <td>2018-01-02</td>\n",
       "      <td>1</td>\n",
       "      <td>5023.0</td>\n",
       "    </tr>\n",
       "    <tr>\n",
       "      <th>2</th>\n",
       "      <td>3</td>\n",
       "      <td>0</td>\n",
       "      <td>2018-01-03</td>\n",
       "      <td>1</td>\n",
       "      <td>5211.0</td>\n",
       "    </tr>\n",
       "    <tr>\n",
       "      <th>3</th>\n",
       "      <td>4</td>\n",
       "      <td>0</td>\n",
       "      <td>2018-01-04</td>\n",
       "      <td>1</td>\n",
       "      <td>5307.0</td>\n",
       "    </tr>\n",
       "    <tr>\n",
       "      <th>4</th>\n",
       "      <td>5</td>\n",
       "      <td>0</td>\n",
       "      <td>2018-01-05</td>\n",
       "      <td>1</td>\n",
       "      <td>5420.0</td>\n",
       "    </tr>\n",
       "    <tr>\n",
       "      <th>5</th>\n",
       "      <td>6</td>\n",
       "      <td>1</td>\n",
       "      <td>2018-01-06</td>\n",
       "      <td>1</td>\n",
       "      <td>5430.0</td>\n",
       "    </tr>\n",
       "    <tr>\n",
       "      <th>6</th>\n",
       "      <td>7</td>\n",
       "      <td>0</td>\n",
       "      <td>2018-01-07</td>\n",
       "      <td>1</td>\n",
       "      <td>5348.0</td>\n",
       "    </tr>\n",
       "    <tr>\n",
       "      <th>7</th>\n",
       "      <td>1</td>\n",
       "      <td>0</td>\n",
       "      <td>2018-01-08</td>\n",
       "      <td>1</td>\n",
       "      <td>5170.0</td>\n",
       "    </tr>\n",
       "    <tr>\n",
       "      <th>8</th>\n",
       "      <td>2</td>\n",
       "      <td>0</td>\n",
       "      <td>2018-01-09</td>\n",
       "      <td>1</td>\n",
       "      <td>5343.0</td>\n",
       "    </tr>\n",
       "    <tr>\n",
       "      <th>9</th>\n",
       "      <td>3</td>\n",
       "      <td>0</td>\n",
       "      <td>2018-01-10</td>\n",
       "      <td>1</td>\n",
       "      <td>5304.0</td>\n",
       "    </tr>\n",
       "  </tbody>\n",
       "</table>\n",
       "</div>"
      ],
      "text/plain": [
       "   Weekday  Holiday       Date Hour  ForecastTotalLoad\n",
       "0        1        1 2018-01-01    1             5315.0\n",
       "1        2        0 2018-01-02    1             5023.0\n",
       "2        3        0 2018-01-03    1             5211.0\n",
       "3        4        0 2018-01-04    1             5307.0\n",
       "4        5        0 2018-01-05    1             5420.0\n",
       "5        6        1 2018-01-06    1             5430.0\n",
       "6        7        0 2018-01-07    1             5348.0\n",
       "7        1        0 2018-01-08    1             5170.0\n",
       "8        2        0 2018-01-09    1             5343.0\n",
       "9        3        0 2018-01-10    1             5304.0"
      ]
     },
     "execution_count": 12,
     "metadata": {},
     "output_type": "execute_result"
    }
   ],
   "source": [
    "#rename columns\n",
    "prediction.columns=[ 'Weekday', 'Holiday', 'Date', 'Hour', 'ForecastTotalLoad' ]\n",
    "prediction.head(10)"
   ]
  },
  {
   "cell_type": "code",
   "execution_count": 13,
   "metadata": {},
   "outputs": [],
   "source": [
    "#subtract one hour to get to 0-23 hour format\n",
    "actual['Hour']=actual['Hour']-1\n",
    "prediction['Hour']=prediction['Hour']-1"
   ]
  },
  {
   "cell_type": "markdown",
   "metadata": {},
   "source": [
    "- ForecastTotalLoad είναι η προβλεψη για το συνολικό actual φορτίο όπως την κάνουν τωρα και πρέπει να συγκριθεί με την αντίστοιχη τιμή πιο πανω του ActualTotal."
   ]
  },
  {
   "cell_type": "code",
   "execution_count": 14,
   "metadata": {},
   "outputs": [
    {
     "data": {
      "text/html": [
       "<div>\n",
       "<style scoped>\n",
       "    .dataframe tbody tr th:only-of-type {\n",
       "        vertical-align: middle;\n",
       "    }\n",
       "\n",
       "    .dataframe tbody tr th {\n",
       "        vertical-align: top;\n",
       "    }\n",
       "\n",
       "    .dataframe thead th {\n",
       "        text-align: right;\n",
       "    }\n",
       "</style>\n",
       "<table border=\"1\" class=\"dataframe\">\n",
       "  <thead>\n",
       "    <tr style=\"text-align: right;\">\n",
       "      <th></th>\n",
       "      <th></th>\n",
       "      <th>Gen_Aux</th>\n",
       "      <th>HV</th>\n",
       "      <th>Pump</th>\n",
       "      <th>TEL_MV</th>\n",
       "      <th>Network</th>\n",
       "      <th>ActualTotal</th>\n",
       "    </tr>\n",
       "    <tr>\n",
       "      <th>Date</th>\n",
       "      <th>Hour</th>\n",
       "      <th></th>\n",
       "      <th></th>\n",
       "      <th></th>\n",
       "      <th></th>\n",
       "      <th></th>\n",
       "      <th></th>\n",
       "    </tr>\n",
       "  </thead>\n",
       "  <tbody>\n",
       "    <tr>\n",
       "      <th rowspan=\"5\" valign=\"top\">2018-12-01</th>\n",
       "      <th>0</th>\n",
       "      <td>33.006141</td>\n",
       "      <td>934.808670</td>\n",
       "      <td>0.0</td>\n",
       "      <td>954.722055</td>\n",
       "      <td>4595.257242</td>\n",
       "      <td>5563.072052</td>\n",
       "    </tr>\n",
       "    <tr>\n",
       "      <th>1</th>\n",
       "      <td>43.988918</td>\n",
       "      <td>959.233194</td>\n",
       "      <td>0.0</td>\n",
       "      <td>931.364922</td>\n",
       "      <td>4063.666352</td>\n",
       "      <td>5066.888464</td>\n",
       "    </tr>\n",
       "    <tr>\n",
       "      <th>2</th>\n",
       "      <td>46.329801</td>\n",
       "      <td>970.324019</td>\n",
       "      <td>0.0</td>\n",
       "      <td>910.726163</td>\n",
       "      <td>3938.994044</td>\n",
       "      <td>4955.647864</td>\n",
       "    </tr>\n",
       "    <tr>\n",
       "      <th>3</th>\n",
       "      <td>36.405052</td>\n",
       "      <td>995.836951</td>\n",
       "      <td>0.0</td>\n",
       "      <td>901.447118</td>\n",
       "      <td>3755.516237</td>\n",
       "      <td>4787.758241</td>\n",
       "    </tr>\n",
       "    <tr>\n",
       "      <th>4</th>\n",
       "      <td>36.149028</td>\n",
       "      <td>991.074298</td>\n",
       "      <td>0.0</td>\n",
       "      <td>896.550351</td>\n",
       "      <td>3646.883398</td>\n",
       "      <td>4674.106724</td>\n",
       "    </tr>\n",
       "  </tbody>\n",
       "</table>\n",
       "</div>"
      ],
      "text/plain": [
       "                   Gen_Aux          HV  Pump      TEL_MV      Network  \\\n",
       "Date       Hour                                                         \n",
       "2018-12-01 0     33.006141  934.808670   0.0  954.722055  4595.257242   \n",
       "           1     43.988918  959.233194   0.0  931.364922  4063.666352   \n",
       "           2     46.329801  970.324019   0.0  910.726163  3938.994044   \n",
       "           3     36.405052  995.836951   0.0  901.447118  3755.516237   \n",
       "           4     36.149028  991.074298   0.0  896.550351  3646.883398   \n",
       "\n",
       "                 ActualTotal  \n",
       "Date       Hour               \n",
       "2018-12-01 0     5563.072052  \n",
       "           1     5066.888464  \n",
       "           2     4955.647864  \n",
       "           3     4787.758241  \n",
       "           4     4674.106724  "
      ]
     },
     "execution_count": 14,
     "metadata": {},
     "output_type": "execute_result"
    }
   ],
   "source": [
    "#set index\n",
    "actual.set_index(['Date', 'Hour']).head()"
   ]
  },
  {
   "cell_type": "code",
   "execution_count": 15,
   "metadata": {},
   "outputs": [
    {
     "data": {
      "text/html": [
       "<div>\n",
       "<style scoped>\n",
       "    .dataframe tbody tr th:only-of-type {\n",
       "        vertical-align: middle;\n",
       "    }\n",
       "\n",
       "    .dataframe tbody tr th {\n",
       "        vertical-align: top;\n",
       "    }\n",
       "\n",
       "    .dataframe thead th {\n",
       "        text-align: right;\n",
       "    }\n",
       "</style>\n",
       "<table border=\"1\" class=\"dataframe\">\n",
       "  <thead>\n",
       "    <tr style=\"text-align: right;\">\n",
       "      <th></th>\n",
       "      <th></th>\n",
       "      <th>Weekday</th>\n",
       "      <th>Holiday</th>\n",
       "      <th>ForecastTotalLoad</th>\n",
       "    </tr>\n",
       "    <tr>\n",
       "      <th>Date</th>\n",
       "      <th>Hour</th>\n",
       "      <th></th>\n",
       "      <th></th>\n",
       "      <th></th>\n",
       "    </tr>\n",
       "  </thead>\n",
       "  <tbody>\n",
       "    <tr>\n",
       "      <th>2018-01-01</th>\n",
       "      <th>0</th>\n",
       "      <td>1</td>\n",
       "      <td>1</td>\n",
       "      <td>5315.0</td>\n",
       "    </tr>\n",
       "    <tr>\n",
       "      <th>2018-01-02</th>\n",
       "      <th>0</th>\n",
       "      <td>2</td>\n",
       "      <td>0</td>\n",
       "      <td>5023.0</td>\n",
       "    </tr>\n",
       "    <tr>\n",
       "      <th>2018-01-03</th>\n",
       "      <th>0</th>\n",
       "      <td>3</td>\n",
       "      <td>0</td>\n",
       "      <td>5211.0</td>\n",
       "    </tr>\n",
       "    <tr>\n",
       "      <th>2018-01-04</th>\n",
       "      <th>0</th>\n",
       "      <td>4</td>\n",
       "      <td>0</td>\n",
       "      <td>5307.0</td>\n",
       "    </tr>\n",
       "    <tr>\n",
       "      <th>2018-01-05</th>\n",
       "      <th>0</th>\n",
       "      <td>5</td>\n",
       "      <td>0</td>\n",
       "      <td>5420.0</td>\n",
       "    </tr>\n",
       "  </tbody>\n",
       "</table>\n",
       "</div>"
      ],
      "text/plain": [
       "                 Weekday  Holiday  ForecastTotalLoad\n",
       "Date       Hour                                     \n",
       "2018-01-01 0           1        1             5315.0\n",
       "2018-01-02 0           2        0             5023.0\n",
       "2018-01-03 0           3        0             5211.0\n",
       "2018-01-04 0           4        0             5307.0\n",
       "2018-01-05 0           5        0             5420.0"
      ]
     },
     "execution_count": 15,
     "metadata": {},
     "output_type": "execute_result"
    }
   ],
   "source": [
    "#set index\n",
    "prediction.set_index(['Date', 'Hour']).head()"
   ]
  },
  {
   "cell_type": "markdown",
   "metadata": {},
   "source": [
    "* Join the two dataframes."
   ]
  },
  {
   "cell_type": "code",
   "execution_count": 16,
   "metadata": {},
   "outputs": [
    {
     "data": {
      "text/html": [
       "<div>\n",
       "<style scoped>\n",
       "    .dataframe tbody tr th:only-of-type {\n",
       "        vertical-align: middle;\n",
       "    }\n",
       "\n",
       "    .dataframe tbody tr th {\n",
       "        vertical-align: top;\n",
       "    }\n",
       "\n",
       "    .dataframe thead th {\n",
       "        text-align: right;\n",
       "    }\n",
       "</style>\n",
       "<table border=\"1\" class=\"dataframe\">\n",
       "  <thead>\n",
       "    <tr style=\"text-align: right;\">\n",
       "      <th></th>\n",
       "      <th>Weekday</th>\n",
       "      <th>Holiday</th>\n",
       "      <th>Date</th>\n",
       "      <th>Hour</th>\n",
       "      <th>ForecastTotalLoad</th>\n",
       "      <th>Gen_Aux</th>\n",
       "      <th>HV</th>\n",
       "      <th>Pump</th>\n",
       "      <th>TEL_MV</th>\n",
       "      <th>Network</th>\n",
       "      <th>ActualTotal</th>\n",
       "    </tr>\n",
       "  </thead>\n",
       "  <tbody>\n",
       "    <tr>\n",
       "      <th>0</th>\n",
       "      <td>1</td>\n",
       "      <td>1</td>\n",
       "      <td>2018-01-01</td>\n",
       "      <td>0</td>\n",
       "      <td>5315.0</td>\n",
       "      <td>34.418093</td>\n",
       "      <td>757.020147</td>\n",
       "      <td>0.000</td>\n",
       "      <td>596.563993</td>\n",
       "      <td>4529.773678</td>\n",
       "      <td>5321.211918</td>\n",
       "    </tr>\n",
       "    <tr>\n",
       "      <th>1</th>\n",
       "      <td>2</td>\n",
       "      <td>0</td>\n",
       "      <td>2018-01-02</td>\n",
       "      <td>0</td>\n",
       "      <td>5023.0</td>\n",
       "      <td>45.218816</td>\n",
       "      <td>751.513843</td>\n",
       "      <td>0.000</td>\n",
       "      <td>610.814364</td>\n",
       "      <td>4101.718326</td>\n",
       "      <td>4898.450985</td>\n",
       "    </tr>\n",
       "    <tr>\n",
       "      <th>2</th>\n",
       "      <td>3</td>\n",
       "      <td>0</td>\n",
       "      <td>2018-01-03</td>\n",
       "      <td>0</td>\n",
       "      <td>5211.0</td>\n",
       "      <td>37.042898</td>\n",
       "      <td>904.679508</td>\n",
       "      <td>0.000</td>\n",
       "      <td>800.563658</td>\n",
       "      <td>4283.392261</td>\n",
       "      <td>5225.114667</td>\n",
       "    </tr>\n",
       "    <tr>\n",
       "      <th>3</th>\n",
       "      <td>4</td>\n",
       "      <td>0</td>\n",
       "      <td>2018-01-04</td>\n",
       "      <td>0</td>\n",
       "      <td>5307.0</td>\n",
       "      <td>35.636497</td>\n",
       "      <td>918.203986</td>\n",
       "      <td>0.000</td>\n",
       "      <td>853.288369</td>\n",
       "      <td>4450.591164</td>\n",
       "      <td>5404.431647</td>\n",
       "    </tr>\n",
       "    <tr>\n",
       "      <th>4</th>\n",
       "      <td>5</td>\n",
       "      <td>0</td>\n",
       "      <td>2018-01-05</td>\n",
       "      <td>0</td>\n",
       "      <td>5420.0</td>\n",
       "      <td>37.712368</td>\n",
       "      <td>961.116481</td>\n",
       "      <td>23.108</td>\n",
       "      <td>866.047536</td>\n",
       "      <td>4617.594242</td>\n",
       "      <td>5639.531090</td>\n",
       "    </tr>\n",
       "  </tbody>\n",
       "</table>\n",
       "</div>"
      ],
      "text/plain": [
       "   Weekday  Holiday       Date Hour  ForecastTotalLoad    Gen_Aux          HV  \\\n",
       "0        1        1 2018-01-01    0             5315.0  34.418093  757.020147   \n",
       "1        2        0 2018-01-02    0             5023.0  45.218816  751.513843   \n",
       "2        3        0 2018-01-03    0             5211.0  37.042898  904.679508   \n",
       "3        4        0 2018-01-04    0             5307.0  35.636497  918.203986   \n",
       "4        5        0 2018-01-05    0             5420.0  37.712368  961.116481   \n",
       "\n",
       "     Pump      TEL_MV      Network  ActualTotal  \n",
       "0   0.000  596.563993  4529.773678  5321.211918  \n",
       "1   0.000  610.814364  4101.718326  4898.450985  \n",
       "2   0.000  800.563658  4283.392261  5225.114667  \n",
       "3   0.000  853.288369  4450.591164  5404.431647  \n",
       "4  23.108  866.047536  4617.594242  5639.531090  "
      ]
     },
     "execution_count": 16,
     "metadata": {},
     "output_type": "execute_result"
    }
   ],
   "source": [
    "#merge datasets\n",
    "final = pd.merge(prediction, actual, on=['Date', 'Hour'])\n",
    "final.head()"
   ]
  },
  {
   "cell_type": "code",
   "execution_count": 17,
   "metadata": {},
   "outputs": [
    {
     "data": {
      "text/html": [
       "<div>\n",
       "<style scoped>\n",
       "    .dataframe tbody tr th:only-of-type {\n",
       "        vertical-align: middle;\n",
       "    }\n",
       "\n",
       "    .dataframe tbody tr th {\n",
       "        vertical-align: top;\n",
       "    }\n",
       "\n",
       "    .dataframe thead th {\n",
       "        text-align: right;\n",
       "    }\n",
       "</style>\n",
       "<table border=\"1\" class=\"dataframe\">\n",
       "  <thead>\n",
       "    <tr style=\"text-align: right;\">\n",
       "      <th></th>\n",
       "      <th>Weekday</th>\n",
       "      <th>Holiday</th>\n",
       "      <th>Date</th>\n",
       "      <th>Hour</th>\n",
       "      <th>ForecastTotalLoad</th>\n",
       "      <th>Gen_Aux</th>\n",
       "      <th>HV</th>\n",
       "      <th>Pump</th>\n",
       "      <th>TEL_MV</th>\n",
       "      <th>Network</th>\n",
       "      <th>ActualTotal</th>\n",
       "      <th>Timestamp</th>\n",
       "    </tr>\n",
       "  </thead>\n",
       "  <tbody>\n",
       "    <tr>\n",
       "      <th>0</th>\n",
       "      <td>1</td>\n",
       "      <td>1</td>\n",
       "      <td>2018-01-01</td>\n",
       "      <td>0</td>\n",
       "      <td>5315.0</td>\n",
       "      <td>34.418093</td>\n",
       "      <td>757.020147</td>\n",
       "      <td>0.000</td>\n",
       "      <td>596.563993</td>\n",
       "      <td>4529.773678</td>\n",
       "      <td>5321.211918</td>\n",
       "      <td>2018-01-01</td>\n",
       "    </tr>\n",
       "    <tr>\n",
       "      <th>1</th>\n",
       "      <td>2</td>\n",
       "      <td>0</td>\n",
       "      <td>2018-01-02</td>\n",
       "      <td>0</td>\n",
       "      <td>5023.0</td>\n",
       "      <td>45.218816</td>\n",
       "      <td>751.513843</td>\n",
       "      <td>0.000</td>\n",
       "      <td>610.814364</td>\n",
       "      <td>4101.718326</td>\n",
       "      <td>4898.450985</td>\n",
       "      <td>2018-01-02</td>\n",
       "    </tr>\n",
       "    <tr>\n",
       "      <th>2</th>\n",
       "      <td>3</td>\n",
       "      <td>0</td>\n",
       "      <td>2018-01-03</td>\n",
       "      <td>0</td>\n",
       "      <td>5211.0</td>\n",
       "      <td>37.042898</td>\n",
       "      <td>904.679508</td>\n",
       "      <td>0.000</td>\n",
       "      <td>800.563658</td>\n",
       "      <td>4283.392261</td>\n",
       "      <td>5225.114667</td>\n",
       "      <td>2018-01-03</td>\n",
       "    </tr>\n",
       "    <tr>\n",
       "      <th>3</th>\n",
       "      <td>4</td>\n",
       "      <td>0</td>\n",
       "      <td>2018-01-04</td>\n",
       "      <td>0</td>\n",
       "      <td>5307.0</td>\n",
       "      <td>35.636497</td>\n",
       "      <td>918.203986</td>\n",
       "      <td>0.000</td>\n",
       "      <td>853.288369</td>\n",
       "      <td>4450.591164</td>\n",
       "      <td>5404.431647</td>\n",
       "      <td>2018-01-04</td>\n",
       "    </tr>\n",
       "    <tr>\n",
       "      <th>4</th>\n",
       "      <td>5</td>\n",
       "      <td>0</td>\n",
       "      <td>2018-01-05</td>\n",
       "      <td>0</td>\n",
       "      <td>5420.0</td>\n",
       "      <td>37.712368</td>\n",
       "      <td>961.116481</td>\n",
       "      <td>23.108</td>\n",
       "      <td>866.047536</td>\n",
       "      <td>4617.594242</td>\n",
       "      <td>5639.531090</td>\n",
       "      <td>2018-01-05</td>\n",
       "    </tr>\n",
       "  </tbody>\n",
       "</table>\n",
       "</div>"
      ],
      "text/plain": [
       "   Weekday  Holiday       Date Hour  ForecastTotalLoad    Gen_Aux          HV  \\\n",
       "0        1        1 2018-01-01    0             5315.0  34.418093  757.020147   \n",
       "1        2        0 2018-01-02    0             5023.0  45.218816  751.513843   \n",
       "2        3        0 2018-01-03    0             5211.0  37.042898  904.679508   \n",
       "3        4        0 2018-01-04    0             5307.0  35.636497  918.203986   \n",
       "4        5        0 2018-01-05    0             5420.0  37.712368  961.116481   \n",
       "\n",
       "     Pump      TEL_MV      Network  ActualTotal  Timestamp  \n",
       "0   0.000  596.563993  4529.773678  5321.211918 2018-01-01  \n",
       "1   0.000  610.814364  4101.718326  4898.450985 2018-01-02  \n",
       "2   0.000  800.563658  4283.392261  5225.114667 2018-01-03  \n",
       "3   0.000  853.288369  4450.591164  5404.431647 2018-01-04  \n",
       "4  23.108  866.047536  4617.594242  5639.531090 2018-01-05  "
      ]
     },
     "execution_count": 17,
     "metadata": {},
     "output_type": "execute_result"
    }
   ],
   "source": [
    "#create Timestamp column\n",
    "final['Timestamp'] = final['Date'] + pd.to_timedelta(final['Hour'], unit='h')\n",
    "final.head()"
   ]
  },
  {
   "cell_type": "code",
   "execution_count": 18,
   "metadata": {},
   "outputs": [
    {
     "data": {
      "text/html": [
       "<div>\n",
       "<style scoped>\n",
       "    .dataframe tbody tr th:only-of-type {\n",
       "        vertical-align: middle;\n",
       "    }\n",
       "\n",
       "    .dataframe tbody tr th {\n",
       "        vertical-align: top;\n",
       "    }\n",
       "\n",
       "    .dataframe thead th {\n",
       "        text-align: right;\n",
       "    }\n",
       "</style>\n",
       "<table border=\"1\" class=\"dataframe\">\n",
       "  <thead>\n",
       "    <tr style=\"text-align: right;\">\n",
       "      <th></th>\n",
       "      <th>Weekday</th>\n",
       "      <th>Holiday</th>\n",
       "      <th>Date</th>\n",
       "      <th>Hour</th>\n",
       "      <th>ForecastTotalLoad</th>\n",
       "      <th>Gen_Aux</th>\n",
       "      <th>HV</th>\n",
       "      <th>Pump</th>\n",
       "      <th>TEL_MV</th>\n",
       "      <th>Network</th>\n",
       "      <th>ActualTotal</th>\n",
       "      <th>Timestamp</th>\n",
       "    </tr>\n",
       "  </thead>\n",
       "  <tbody>\n",
       "    <tr>\n",
       "      <th>0</th>\n",
       "      <td>1</td>\n",
       "      <td>1</td>\n",
       "      <td>2018-01-01</td>\n",
       "      <td>0</td>\n",
       "      <td>5315.0</td>\n",
       "      <td>34.418093</td>\n",
       "      <td>757.020147</td>\n",
       "      <td>0.000</td>\n",
       "      <td>596.563993</td>\n",
       "      <td>4529.773678</td>\n",
       "      <td>5321.211918</td>\n",
       "      <td>2018-01-01 00:00:00</td>\n",
       "    </tr>\n",
       "    <tr>\n",
       "      <th>516</th>\n",
       "      <td>1</td>\n",
       "      <td>1</td>\n",
       "      <td>2018-01-01</td>\n",
       "      <td>1</td>\n",
       "      <td>4963.0</td>\n",
       "      <td>40.928810</td>\n",
       "      <td>760.024989</td>\n",
       "      <td>0.000</td>\n",
       "      <td>589.266551</td>\n",
       "      <td>4205.128845</td>\n",
       "      <td>5006.082645</td>\n",
       "      <td>2018-01-01 01:00:00</td>\n",
       "    </tr>\n",
       "    <tr>\n",
       "      <th>1032</th>\n",
       "      <td>1</td>\n",
       "      <td>1</td>\n",
       "      <td>2018-01-01</td>\n",
       "      <td>2</td>\n",
       "      <td>4838.0</td>\n",
       "      <td>39.286246</td>\n",
       "      <td>750.624526</td>\n",
       "      <td>0.000</td>\n",
       "      <td>585.334471</td>\n",
       "      <td>4116.742544</td>\n",
       "      <td>4906.653316</td>\n",
       "      <td>2018-01-01 02:00:00</td>\n",
       "    </tr>\n",
       "    <tr>\n",
       "      <th>1548</th>\n",
       "      <td>1</td>\n",
       "      <td>1</td>\n",
       "      <td>2018-01-01</td>\n",
       "      <td>3</td>\n",
       "      <td>4515.0</td>\n",
       "      <td>38.678094</td>\n",
       "      <td>756.567856</td>\n",
       "      <td>0.120</td>\n",
       "      <td>582.210175</td>\n",
       "      <td>3833.136857</td>\n",
       "      <td>4628.502808</td>\n",
       "      <td>2018-01-01 03:00:00</td>\n",
       "    </tr>\n",
       "    <tr>\n",
       "      <th>2064</th>\n",
       "      <td>1</td>\n",
       "      <td>1</td>\n",
       "      <td>2018-01-01</td>\n",
       "      <td>4</td>\n",
       "      <td>4280.0</td>\n",
       "      <td>37.498531</td>\n",
       "      <td>731.949138</td>\n",
       "      <td>130.176</td>\n",
       "      <td>581.251131</td>\n",
       "      <td>3608.455842</td>\n",
       "      <td>4508.079510</td>\n",
       "      <td>2018-01-01 04:00:00</td>\n",
       "    </tr>\n",
       "  </tbody>\n",
       "</table>\n",
       "</div>"
      ],
      "text/plain": [
       "      Weekday  Holiday       Date Hour  ForecastTotalLoad    Gen_Aux  \\\n",
       "0           1        1 2018-01-01    0             5315.0  34.418093   \n",
       "516         1        1 2018-01-01    1             4963.0  40.928810   \n",
       "1032        1        1 2018-01-01    2             4838.0  39.286246   \n",
       "1548        1        1 2018-01-01    3             4515.0  38.678094   \n",
       "2064        1        1 2018-01-01    4             4280.0  37.498531   \n",
       "\n",
       "              HV     Pump      TEL_MV      Network  ActualTotal  \\\n",
       "0     757.020147    0.000  596.563993  4529.773678  5321.211918   \n",
       "516   760.024989    0.000  589.266551  4205.128845  5006.082645   \n",
       "1032  750.624526    0.000  585.334471  4116.742544  4906.653316   \n",
       "1548  756.567856    0.120  582.210175  3833.136857  4628.502808   \n",
       "2064  731.949138  130.176  581.251131  3608.455842  4508.079510   \n",
       "\n",
       "               Timestamp  \n",
       "0    2018-01-01 00:00:00  \n",
       "516  2018-01-01 01:00:00  \n",
       "1032 2018-01-01 02:00:00  \n",
       "1548 2018-01-01 03:00:00  \n",
       "2064 2018-01-01 04:00:00  "
      ]
     },
     "execution_count": 18,
     "metadata": {},
     "output_type": "execute_result"
    }
   ],
   "source": [
    "#sort by timestamp\n",
    "final.sort_values('Timestamp', inplace=True)\n",
    "final.head()"
   ]
  },
  {
   "cell_type": "code",
   "execution_count": 19,
   "metadata": {},
   "outputs": [
    {
     "data": {
      "text/html": [
       "<div>\n",
       "<style scoped>\n",
       "    .dataframe tbody tr th:only-of-type {\n",
       "        vertical-align: middle;\n",
       "    }\n",
       "\n",
       "    .dataframe tbody tr th {\n",
       "        vertical-align: top;\n",
       "    }\n",
       "\n",
       "    .dataframe thead th {\n",
       "        text-align: right;\n",
       "    }\n",
       "</style>\n",
       "<table border=\"1\" class=\"dataframe\">\n",
       "  <thead>\n",
       "    <tr style=\"text-align: right;\">\n",
       "      <th></th>\n",
       "      <th>Weekday</th>\n",
       "      <th>Holiday</th>\n",
       "      <th>Date</th>\n",
       "      <th>Hour</th>\n",
       "      <th>ForecastTotalLoad</th>\n",
       "      <th>Gen_Aux</th>\n",
       "      <th>HV</th>\n",
       "      <th>Pump</th>\n",
       "      <th>TEL_MV</th>\n",
       "      <th>Network</th>\n",
       "      <th>ActualTotal</th>\n",
       "      <th>Timestamp</th>\n",
       "    </tr>\n",
       "  </thead>\n",
       "  <tbody>\n",
       "    <tr>\n",
       "      <th>10319</th>\n",
       "      <td>5</td>\n",
       "      <td>0</td>\n",
       "      <td>2019-05-31</td>\n",
       "      <td>19</td>\n",
       "      <td>5572.0</td>\n",
       "      <td>33.211102</td>\n",
       "      <td>876.113437</td>\n",
       "      <td>0.0</td>\n",
       "      <td>1397.706018</td>\n",
       "      <td>4901.567117</td>\n",
       "      <td>5810.891656</td>\n",
       "      <td>2019-05-31 19:00:00</td>\n",
       "    </tr>\n",
       "    <tr>\n",
       "      <th>10835</th>\n",
       "      <td>5</td>\n",
       "      <td>0</td>\n",
       "      <td>2019-05-31</td>\n",
       "      <td>20</td>\n",
       "      <td>5740.0</td>\n",
       "      <td>32.731239</td>\n",
       "      <td>890.764508</td>\n",
       "      <td>0.0</td>\n",
       "      <td>1355.517513</td>\n",
       "      <td>5000.305264</td>\n",
       "      <td>5923.801011</td>\n",
       "      <td>2019-05-31 20:00:00</td>\n",
       "    </tr>\n",
       "    <tr>\n",
       "      <th>11351</th>\n",
       "      <td>5</td>\n",
       "      <td>0</td>\n",
       "      <td>2019-05-31</td>\n",
       "      <td>21</td>\n",
       "      <td>5915.0</td>\n",
       "      <td>32.180987</td>\n",
       "      <td>861.846122</td>\n",
       "      <td>0.0</td>\n",
       "      <td>1268.293778</td>\n",
       "      <td>5123.894570</td>\n",
       "      <td>6017.921678</td>\n",
       "      <td>2019-05-31 21:00:00</td>\n",
       "    </tr>\n",
       "    <tr>\n",
       "      <th>11867</th>\n",
       "      <td>5</td>\n",
       "      <td>0</td>\n",
       "      <td>2019-05-31</td>\n",
       "      <td>22</td>\n",
       "      <td>5506.0</td>\n",
       "      <td>33.389455</td>\n",
       "      <td>856.024205</td>\n",
       "      <td>0.0</td>\n",
       "      <td>1152.098123</td>\n",
       "      <td>4680.730403</td>\n",
       "      <td>5570.144063</td>\n",
       "      <td>2019-05-31 22:00:00</td>\n",
       "    </tr>\n",
       "    <tr>\n",
       "      <th>12381</th>\n",
       "      <td>5</td>\n",
       "      <td>0</td>\n",
       "      <td>2019-05-31</td>\n",
       "      <td>23</td>\n",
       "      <td>5105.0</td>\n",
       "      <td>35.753307</td>\n",
       "      <td>964.764549</td>\n",
       "      <td>0.0</td>\n",
       "      <td>1092.041595</td>\n",
       "      <td>4227.795192</td>\n",
       "      <td>5228.313048</td>\n",
       "      <td>2019-05-31 23:00:00</td>\n",
       "    </tr>\n",
       "  </tbody>\n",
       "</table>\n",
       "</div>"
      ],
      "text/plain": [
       "       Weekday  Holiday       Date Hour  ForecastTotalLoad    Gen_Aux  \\\n",
       "10319        5        0 2019-05-31   19             5572.0  33.211102   \n",
       "10835        5        0 2019-05-31   20             5740.0  32.731239   \n",
       "11351        5        0 2019-05-31   21             5915.0  32.180987   \n",
       "11867        5        0 2019-05-31   22             5506.0  33.389455   \n",
       "12381        5        0 2019-05-31   23             5105.0  35.753307   \n",
       "\n",
       "               HV  Pump       TEL_MV      Network  ActualTotal  \\\n",
       "10319  876.113437   0.0  1397.706018  4901.567117  5810.891656   \n",
       "10835  890.764508   0.0  1355.517513  5000.305264  5923.801011   \n",
       "11351  861.846122   0.0  1268.293778  5123.894570  6017.921678   \n",
       "11867  856.024205   0.0  1152.098123  4680.730403  5570.144063   \n",
       "12381  964.764549   0.0  1092.041595  4227.795192  5228.313048   \n",
       "\n",
       "                Timestamp  \n",
       "10319 2019-05-31 19:00:00  \n",
       "10835 2019-05-31 20:00:00  \n",
       "11351 2019-05-31 21:00:00  \n",
       "11867 2019-05-31 22:00:00  \n",
       "12381 2019-05-31 23:00:00  "
      ]
     },
     "execution_count": 19,
     "metadata": {},
     "output_type": "execute_result"
    }
   ],
   "source": [
    "final.tail()"
   ]
  },
  {
   "cell_type": "code",
   "execution_count": 20,
   "metadata": {},
   "outputs": [],
   "source": [
    "#create the column of interest\n",
    "final['XT'] = final['Network'] - final['TEL_MV']\n",
    "\n",
    "#find the percentage of XT as to total ActualLoad for that day and Hour (TrueValues)\n",
    "final['%XTofTotal']=final['XT']/final['ActualTotal']\n",
    "\n",
    "#find the estimation of XTPrediction\n",
    "final['XTForecastEstimation']=final['%XTofTotal']*final['ForecastTotalLoad']\n"
   ]
  },
  {
   "cell_type": "markdown",
   "metadata": {},
   "source": [
    "Στο παραπάνω κελι αφού δημιουργήσω τη στηλη με τις actual τιμές της ΧΤ υπολογίζω το ποσοστό που έπιανε η ΧΤ σε σχέση με το σύνολο του φορτίου για εκείνη τη μέρα ώρα. Βρίσκοντας το ποσοστό, το εφαρμόζω μετά στην πρόβλεψη που δίνει το μοντέλο τους (το μοντέλο τους προβλέπει το σύνολικό φορτίο του δυκτίου) για να μπορέσω να προσεγγίσω την πρόβλεψη του μοντέλου αν προέβλεπε τη χαμηλή τάση. Θα το χρησιμοποιήσω στη σύγκριση μεταξυ του δικού μας και του δικού τους μοντέλου όπως είπαμε."
   ]
  },
  {
   "cell_type": "code",
   "execution_count": 21,
   "metadata": {},
   "outputs": [],
   "source": [
    "#finalize dataset and set frequency\n",
    "final=final[['Timestamp','XT','Weekday','Holiday','XTForecastEstimation']]\n",
    "final.sort_values('Timestamp', inplace=True)\n",
    "final.set_index('Timestamp', inplace=True)"
   ]
  },
  {
   "cell_type": "code",
   "execution_count": 22,
   "metadata": {},
   "outputs": [
    {
     "data": {
      "text/html": [
       "<div>\n",
       "<style scoped>\n",
       "    .dataframe tbody tr th:only-of-type {\n",
       "        vertical-align: middle;\n",
       "    }\n",
       "\n",
       "    .dataframe tbody tr th {\n",
       "        vertical-align: top;\n",
       "    }\n",
       "\n",
       "    .dataframe thead th {\n",
       "        text-align: right;\n",
       "    }\n",
       "</style>\n",
       "<table border=\"1\" class=\"dataframe\">\n",
       "  <thead>\n",
       "    <tr style=\"text-align: right;\">\n",
       "      <th></th>\n",
       "      <th>XT</th>\n",
       "      <th>Weekday</th>\n",
       "      <th>Holiday</th>\n",
       "      <th>XTForecastEstimation</th>\n",
       "    </tr>\n",
       "    <tr>\n",
       "      <th>Timestamp</th>\n",
       "      <th></th>\n",
       "      <th></th>\n",
       "      <th></th>\n",
       "      <th></th>\n",
       "    </tr>\n",
       "  </thead>\n",
       "  <tbody>\n",
       "    <tr>\n",
       "      <th>2018-01-01 00:00:00</th>\n",
       "      <td>3933.209685</td>\n",
       "      <td>1</td>\n",
       "      <td>1</td>\n",
       "      <td>3928.618104</td>\n",
       "    </tr>\n",
       "    <tr>\n",
       "      <th>2018-01-01 01:00:00</th>\n",
       "      <td>3615.862294</td>\n",
       "      <td>1</td>\n",
       "      <td>1</td>\n",
       "      <td>3584.743969</td>\n",
       "    </tr>\n",
       "    <tr>\n",
       "      <th>2018-01-01 02:00:00</th>\n",
       "      <td>3531.408073</td>\n",
       "      <td>1</td>\n",
       "      <td>1</td>\n",
       "      <td>3481.997027</td>\n",
       "    </tr>\n",
       "    <tr>\n",
       "      <th>2018-01-01 03:00:00</th>\n",
       "      <td>3250.926682</td>\n",
       "      <td>1</td>\n",
       "      <td>1</td>\n",
       "      <td>3171.205588</td>\n",
       "    </tr>\n",
       "    <tr>\n",
       "      <th>2018-01-01 04:00:00</th>\n",
       "      <td>3027.204711</td>\n",
       "      <td>1</td>\n",
       "      <td>1</td>\n",
       "      <td>2874.047836</td>\n",
       "    </tr>\n",
       "    <tr>\n",
       "      <th>2018-01-01 05:00:00</th>\n",
       "      <td>2934.418572</td>\n",
       "      <td>1</td>\n",
       "      <td>1</td>\n",
       "      <td>2624.699069</td>\n",
       "    </tr>\n",
       "    <tr>\n",
       "      <th>2018-01-01 06:00:00</th>\n",
       "      <td>2990.903843</td>\n",
       "      <td>1</td>\n",
       "      <td>1</td>\n",
       "      <td>2645.526199</td>\n",
       "    </tr>\n",
       "    <tr>\n",
       "      <th>2018-01-01 07:00:00</th>\n",
       "      <td>3048.662534</td>\n",
       "      <td>1</td>\n",
       "      <td>1</td>\n",
       "      <td>2778.846267</td>\n",
       "    </tr>\n",
       "    <tr>\n",
       "      <th>2018-01-01 08:00:00</th>\n",
       "      <td>3189.215049</td>\n",
       "      <td>1</td>\n",
       "      <td>1</td>\n",
       "      <td>3011.633638</td>\n",
       "    </tr>\n",
       "    <tr>\n",
       "      <th>2018-01-01 09:00:00</th>\n",
       "      <td>3575.720146</td>\n",
       "      <td>1</td>\n",
       "      <td>1</td>\n",
       "      <td>3690.084004</td>\n",
       "    </tr>\n",
       "    <tr>\n",
       "      <th>2018-01-01 10:00:00</th>\n",
       "      <td>4025.499981</td>\n",
       "      <td>1</td>\n",
       "      <td>1</td>\n",
       "      <td>4290.197566</td>\n",
       "    </tr>\n",
       "    <tr>\n",
       "      <th>2018-01-01 11:00:00</th>\n",
       "      <td>4384.555882</td>\n",
       "      <td>1</td>\n",
       "      <td>1</td>\n",
       "      <td>4658.451693</td>\n",
       "    </tr>\n",
       "    <tr>\n",
       "      <th>2018-01-01 12:00:00</th>\n",
       "      <td>4418.914816</td>\n",
       "      <td>1</td>\n",
       "      <td>1</td>\n",
       "      <td>4664.154683</td>\n",
       "    </tr>\n",
       "    <tr>\n",
       "      <th>2018-01-01 13:00:00</th>\n",
       "      <td>4114.951039</td>\n",
       "      <td>1</td>\n",
       "      <td>1</td>\n",
       "      <td>4161.445061</td>\n",
       "    </tr>\n",
       "    <tr>\n",
       "      <th>2018-01-01 14:00:00</th>\n",
       "      <td>3588.579278</td>\n",
       "      <td>1</td>\n",
       "      <td>1</td>\n",
       "      <td>3522.867045</td>\n",
       "    </tr>\n",
       "    <tr>\n",
       "      <th>2018-01-01 15:00:00</th>\n",
       "      <td>3613.307456</td>\n",
       "      <td>1</td>\n",
       "      <td>1</td>\n",
       "      <td>3632.088682</td>\n",
       "    </tr>\n",
       "    <tr>\n",
       "      <th>2018-01-01 16:00:00</th>\n",
       "      <td>3691.870584</td>\n",
       "      <td>1</td>\n",
       "      <td>1</td>\n",
       "      <td>3874.159391</td>\n",
       "    </tr>\n",
       "    <tr>\n",
       "      <th>2018-01-01 17:00:00</th>\n",
       "      <td>4014.747240</td>\n",
       "      <td>1</td>\n",
       "      <td>1</td>\n",
       "      <td>4154.514418</td>\n",
       "    </tr>\n",
       "    <tr>\n",
       "      <th>2018-01-01 18:00:00</th>\n",
       "      <td>4542.759086</td>\n",
       "      <td>1</td>\n",
       "      <td>1</td>\n",
       "      <td>4619.506448</td>\n",
       "    </tr>\n",
       "    <tr>\n",
       "      <th>2018-01-01 19:00:00</th>\n",
       "      <td>4628.660825</td>\n",
       "      <td>1</td>\n",
       "      <td>1</td>\n",
       "      <td>4727.816760</td>\n",
       "    </tr>\n",
       "    <tr>\n",
       "      <th>2018-01-01 20:00:00</th>\n",
       "      <td>4618.742294</td>\n",
       "      <td>1</td>\n",
       "      <td>1</td>\n",
       "      <td>4711.705987</td>\n",
       "    </tr>\n",
       "    <tr>\n",
       "      <th>2018-01-01 21:00:00</th>\n",
       "      <td>4479.436409</td>\n",
       "      <td>1</td>\n",
       "      <td>1</td>\n",
       "      <td>4537.625312</td>\n",
       "    </tr>\n",
       "    <tr>\n",
       "      <th>2018-01-01 22:00:00</th>\n",
       "      <td>4203.659321</td>\n",
       "      <td>1</td>\n",
       "      <td>1</td>\n",
       "      <td>4307.022650</td>\n",
       "    </tr>\n",
       "    <tr>\n",
       "      <th>2018-01-01 23:00:00</th>\n",
       "      <td>3931.892508</td>\n",
       "      <td>1</td>\n",
       "      <td>1</td>\n",
       "      <td>4081.543545</td>\n",
       "    </tr>\n",
       "    <tr>\n",
       "      <th>2018-01-02 00:00:00</th>\n",
       "      <td>3490.903962</td>\n",
       "      <td>2</td>\n",
       "      <td>0</td>\n",
       "      <td>3579.664399</td>\n",
       "    </tr>\n",
       "    <tr>\n",
       "      <th>2018-01-02 01:00:00</th>\n",
       "      <td>3098.818113</td>\n",
       "      <td>2</td>\n",
       "      <td>0</td>\n",
       "      <td>3184.612930</td>\n",
       "    </tr>\n",
       "    <tr>\n",
       "      <th>2018-01-02 02:00:00</th>\n",
       "      <td>3037.095439</td>\n",
       "      <td>2</td>\n",
       "      <td>0</td>\n",
       "      <td>3129.620132</td>\n",
       "    </tr>\n",
       "    <tr>\n",
       "      <th>2018-01-02 03:00:00</th>\n",
       "      <td>2843.949442</td>\n",
       "      <td>2</td>\n",
       "      <td>0</td>\n",
       "      <td>2876.967825</td>\n",
       "    </tr>\n",
       "    <tr>\n",
       "      <th>2018-01-02 04:00:00</th>\n",
       "      <td>2698.265248</td>\n",
       "      <td>2</td>\n",
       "      <td>0</td>\n",
       "      <td>2630.177277</td>\n",
       "    </tr>\n",
       "    <tr>\n",
       "      <th>2018-01-02 05:00:00</th>\n",
       "      <td>2706.440093</td>\n",
       "      <td>2</td>\n",
       "      <td>0</td>\n",
       "      <td>2591.360233</td>\n",
       "    </tr>\n",
       "    <tr>\n",
       "      <th>...</th>\n",
       "      <td>...</td>\n",
       "      <td>...</td>\n",
       "      <td>...</td>\n",
       "      <td>...</td>\n",
       "    </tr>\n",
       "    <tr>\n",
       "      <th>2019-05-30 18:00:00</th>\n",
       "      <td>3441.067112</td>\n",
       "      <td>4</td>\n",
       "      <td>0</td>\n",
       "      <td>3285.356898</td>\n",
       "    </tr>\n",
       "    <tr>\n",
       "      <th>2019-05-30 19:00:00</th>\n",
       "      <td>3535.683507</td>\n",
       "      <td>4</td>\n",
       "      <td>0</td>\n",
       "      <td>3377.342090</td>\n",
       "    </tr>\n",
       "    <tr>\n",
       "      <th>2019-05-30 20:00:00</th>\n",
       "      <td>3706.157076</td>\n",
       "      <td>4</td>\n",
       "      <td>0</td>\n",
       "      <td>3595.391001</td>\n",
       "    </tr>\n",
       "    <tr>\n",
       "      <th>2019-05-30 21:00:00</th>\n",
       "      <td>3968.648087</td>\n",
       "      <td>4</td>\n",
       "      <td>0</td>\n",
       "      <td>3878.867981</td>\n",
       "    </tr>\n",
       "    <tr>\n",
       "      <th>2019-05-30 22:00:00</th>\n",
       "      <td>3609.556629</td>\n",
       "      <td>4</td>\n",
       "      <td>0</td>\n",
       "      <td>3513.264552</td>\n",
       "    </tr>\n",
       "    <tr>\n",
       "      <th>2019-05-30 23:00:00</th>\n",
       "      <td>3174.902633</td>\n",
       "      <td>4</td>\n",
       "      <td>0</td>\n",
       "      <td>3115.374034</td>\n",
       "    </tr>\n",
       "    <tr>\n",
       "      <th>2019-05-31 00:00:00</th>\n",
       "      <td>2722.238313</td>\n",
       "      <td>5</td>\n",
       "      <td>0</td>\n",
       "      <td>2628.063717</td>\n",
       "    </tr>\n",
       "    <tr>\n",
       "      <th>2019-05-31 01:00:00</th>\n",
       "      <td>2396.339058</td>\n",
       "      <td>5</td>\n",
       "      <td>0</td>\n",
       "      <td>2333.658988</td>\n",
       "    </tr>\n",
       "    <tr>\n",
       "      <th>2019-05-31 02:00:00</th>\n",
       "      <td>2231.845734</td>\n",
       "      <td>5</td>\n",
       "      <td>0</td>\n",
       "      <td>2154.949592</td>\n",
       "    </tr>\n",
       "    <tr>\n",
       "      <th>2019-05-31 03:00:00</th>\n",
       "      <td>2168.052861</td>\n",
       "      <td>5</td>\n",
       "      <td>0</td>\n",
       "      <td>2093.443608</td>\n",
       "    </tr>\n",
       "    <tr>\n",
       "      <th>2019-05-31 04:00:00</th>\n",
       "      <td>2155.356362</td>\n",
       "      <td>5</td>\n",
       "      <td>0</td>\n",
       "      <td>2065.317272</td>\n",
       "    </tr>\n",
       "    <tr>\n",
       "      <th>2019-05-31 05:00:00</th>\n",
       "      <td>2193.292203</td>\n",
       "      <td>5</td>\n",
       "      <td>0</td>\n",
       "      <td>2115.769811</td>\n",
       "    </tr>\n",
       "    <tr>\n",
       "      <th>2019-05-31 06:00:00</th>\n",
       "      <td>2250.352160</td>\n",
       "      <td>5</td>\n",
       "      <td>0</td>\n",
       "      <td>2183.611119</td>\n",
       "    </tr>\n",
       "    <tr>\n",
       "      <th>2019-05-31 07:00:00</th>\n",
       "      <td>2604.659827</td>\n",
       "      <td>5</td>\n",
       "      <td>0</td>\n",
       "      <td>2520.562534</td>\n",
       "    </tr>\n",
       "    <tr>\n",
       "      <th>2019-05-31 08:00:00</th>\n",
       "      <td>3069.376951</td>\n",
       "      <td>5</td>\n",
       "      <td>0</td>\n",
       "      <td>2945.361627</td>\n",
       "    </tr>\n",
       "    <tr>\n",
       "      <th>2019-05-31 09:00:00</th>\n",
       "      <td>3454.950974</td>\n",
       "      <td>5</td>\n",
       "      <td>0</td>\n",
       "      <td>3263.461910</td>\n",
       "    </tr>\n",
       "    <tr>\n",
       "      <th>2019-05-31 10:00:00</th>\n",
       "      <td>3691.740169</td>\n",
       "      <td>5</td>\n",
       "      <td>0</td>\n",
       "      <td>3485.548141</td>\n",
       "    </tr>\n",
       "    <tr>\n",
       "      <th>2019-05-31 11:00:00</th>\n",
       "      <td>3865.035406</td>\n",
       "      <td>5</td>\n",
       "      <td>0</td>\n",
       "      <td>3605.303570</td>\n",
       "    </tr>\n",
       "    <tr>\n",
       "      <th>2019-05-31 12:00:00</th>\n",
       "      <td>3976.957510</td>\n",
       "      <td>5</td>\n",
       "      <td>0</td>\n",
       "      <td>3685.267131</td>\n",
       "    </tr>\n",
       "    <tr>\n",
       "      <th>2019-05-31 13:00:00</th>\n",
       "      <td>3939.563344</td>\n",
       "      <td>5</td>\n",
       "      <td>0</td>\n",
       "      <td>3657.200759</td>\n",
       "    </tr>\n",
       "    <tr>\n",
       "      <th>2019-05-31 14:00:00</th>\n",
       "      <td>3675.390775</td>\n",
       "      <td>5</td>\n",
       "      <td>0</td>\n",
       "      <td>3365.472648</td>\n",
       "    </tr>\n",
       "    <tr>\n",
       "      <th>2019-05-31 15:00:00</th>\n",
       "      <td>3463.448502</td>\n",
       "      <td>5</td>\n",
       "      <td>0</td>\n",
       "      <td>3197.415506</td>\n",
       "    </tr>\n",
       "    <tr>\n",
       "      <th>2019-05-31 16:00:00</th>\n",
       "      <td>3301.249216</td>\n",
       "      <td>5</td>\n",
       "      <td>0</td>\n",
       "      <td>3090.548057</td>\n",
       "    </tr>\n",
       "    <tr>\n",
       "      <th>2019-05-31 17:00:00</th>\n",
       "      <td>3317.603182</td>\n",
       "      <td>5</td>\n",
       "      <td>0</td>\n",
       "      <td>3117.671501</td>\n",
       "    </tr>\n",
       "    <tr>\n",
       "      <th>2019-05-31 18:00:00</th>\n",
       "      <td>3411.694348</td>\n",
       "      <td>5</td>\n",
       "      <td>0</td>\n",
       "      <td>3287.299611</td>\n",
       "    </tr>\n",
       "    <tr>\n",
       "      <th>2019-05-31 19:00:00</th>\n",
       "      <td>3503.861099</td>\n",
       "      <td>5</td>\n",
       "      <td>0</td>\n",
       "      <td>3359.813812</td>\n",
       "    </tr>\n",
       "    <tr>\n",
       "      <th>2019-05-31 20:00:00</th>\n",
       "      <td>3644.787751</td>\n",
       "      <td>5</td>\n",
       "      <td>0</td>\n",
       "      <td>3531.698930</td>\n",
       "    </tr>\n",
       "    <tr>\n",
       "      <th>2019-05-31 21:00:00</th>\n",
       "      <td>3855.600792</td>\n",
       "      <td>5</td>\n",
       "      <td>0</td>\n",
       "      <td>3789.660269</td>\n",
       "    </tr>\n",
       "    <tr>\n",
       "      <th>2019-05-31 22:00:00</th>\n",
       "      <td>3528.632281</td>\n",
       "      <td>5</td>\n",
       "      <td>0</td>\n",
       "      <td>3487.997639</td>\n",
       "    </tr>\n",
       "    <tr>\n",
       "      <th>2019-05-31 23:00:00</th>\n",
       "      <td>3135.753597</td>\n",
       "      <td>5</td>\n",
       "      <td>0</td>\n",
       "      <td>3061.794878</td>\n",
       "    </tr>\n",
       "  </tbody>\n",
       "</table>\n",
       "<p>12382 rows × 4 columns</p>\n",
       "</div>"
      ],
      "text/plain": [
       "                              XT  Weekday  Holiday  XTForecastEstimation\n",
       "Timestamp                                                               \n",
       "2018-01-01 00:00:00  3933.209685        1        1           3928.618104\n",
       "2018-01-01 01:00:00  3615.862294        1        1           3584.743969\n",
       "2018-01-01 02:00:00  3531.408073        1        1           3481.997027\n",
       "2018-01-01 03:00:00  3250.926682        1        1           3171.205588\n",
       "2018-01-01 04:00:00  3027.204711        1        1           2874.047836\n",
       "...                          ...      ...      ...                   ...\n",
       "2019-05-31 19:00:00  3503.861099        5        0           3359.813812\n",
       "2019-05-31 20:00:00  3644.787751        5        0           3531.698930\n",
       "2019-05-31 21:00:00  3855.600792        5        0           3789.660269\n",
       "2019-05-31 22:00:00  3528.632281        5        0           3487.997639\n",
       "2019-05-31 23:00:00  3135.753597        5        0           3061.794878\n",
       "\n",
       "[12382 rows x 4 columns]"
      ]
     },
     "execution_count": 22,
     "metadata": {},
     "output_type": "execute_result"
    }
   ],
   "source": [
    "final"
   ]
  },
  {
   "cell_type": "markdown",
   "metadata": {},
   "source": [
    "* Check the index for the frequency (should be hourly)."
   ]
  },
  {
   "cell_type": "code",
   "execution_count": 23,
   "metadata": {},
   "outputs": [
    {
     "data": {
      "text/plain": [
       "DatetimeIndex(['2018-01-01 00:00:00', '2018-01-01 01:00:00',\n",
       "               '2018-01-01 02:00:00', '2018-01-01 03:00:00',\n",
       "               '2018-01-01 04:00:00', '2018-01-01 05:00:00',\n",
       "               '2018-01-01 06:00:00', '2018-01-01 07:00:00',\n",
       "               '2018-01-01 08:00:00', '2018-01-01 09:00:00',\n",
       "               ...\n",
       "               '2019-05-31 14:00:00', '2019-05-31 15:00:00',\n",
       "               '2019-05-31 16:00:00', '2019-05-31 17:00:00',\n",
       "               '2019-05-31 18:00:00', '2019-05-31 19:00:00',\n",
       "               '2019-05-31 20:00:00', '2019-05-31 21:00:00',\n",
       "               '2019-05-31 22:00:00', '2019-05-31 23:00:00'],\n",
       "              dtype='datetime64[ns]', name='Timestamp', length=12382, freq=None)"
      ]
     },
     "execution_count": 23,
     "metadata": {},
     "output_type": "execute_result"
    }
   ],
   "source": [
    "final.index"
   ]
  },
  {
   "cell_type": "markdown",
   "metadata": {},
   "source": [
    "* The `None` reported value indicates that there might be missing values."
   ]
  },
  {
   "cell_type": "code",
   "execution_count": 24,
   "metadata": {},
   "outputs": [
    {
     "data": {
      "text/plain": [
       "DatetimeIndex(['2018-03-25 23:00:00', '2019-03-31 23:00:00'], dtype='datetime64[ns]', freq=None)"
      ]
     },
     "execution_count": 24,
     "metadata": {},
     "output_type": "execute_result"
    }
   ],
   "source": [
    "#check for missing values\n",
    "pd.date_range(final.index.min(), final.index.max(), freq='H').difference(final.index)"
   ]
  },
  {
   "cell_type": "markdown",
   "metadata": {},
   "source": [
    "* Let's check what happens around the first date."
   ]
  },
  {
   "cell_type": "code",
   "execution_count": 25,
   "metadata": {},
   "outputs": [
    {
     "data": {
      "text/html": [
       "<div>\n",
       "<style scoped>\n",
       "    .dataframe tbody tr th:only-of-type {\n",
       "        vertical-align: middle;\n",
       "    }\n",
       "\n",
       "    .dataframe tbody tr th {\n",
       "        vertical-align: top;\n",
       "    }\n",
       "\n",
       "    .dataframe thead th {\n",
       "        text-align: right;\n",
       "    }\n",
       "</style>\n",
       "<table border=\"1\" class=\"dataframe\">\n",
       "  <thead>\n",
       "    <tr style=\"text-align: right;\">\n",
       "      <th></th>\n",
       "      <th>XT</th>\n",
       "      <th>Weekday</th>\n",
       "      <th>Holiday</th>\n",
       "      <th>XTForecastEstimation</th>\n",
       "    </tr>\n",
       "    <tr>\n",
       "      <th>Timestamp</th>\n",
       "      <th></th>\n",
       "      <th></th>\n",
       "      <th></th>\n",
       "      <th></th>\n",
       "    </tr>\n",
       "  </thead>\n",
       "  <tbody>\n",
       "    <tr>\n",
       "      <th>2018-03-25 00:00:00</th>\n",
       "      <td>3147.824162</td>\n",
       "      <td>7</td>\n",
       "      <td>1</td>\n",
       "      <td>3171.278635</td>\n",
       "    </tr>\n",
       "    <tr>\n",
       "      <th>2018-03-25 01:00:00</th>\n",
       "      <td>2740.862797</td>\n",
       "      <td>7</td>\n",
       "      <td>1</td>\n",
       "      <td>2745.225070</td>\n",
       "    </tr>\n",
       "    <tr>\n",
       "      <th>2018-03-25 02:00:00</th>\n",
       "      <td>2654.360886</td>\n",
       "      <td>7</td>\n",
       "      <td>1</td>\n",
       "      <td>2648.583949</td>\n",
       "    </tr>\n",
       "    <tr>\n",
       "      <th>2018-03-25 03:00:00</th>\n",
       "      <td>2507.887529</td>\n",
       "      <td>7</td>\n",
       "      <td>1</td>\n",
       "      <td>NaN</td>\n",
       "    </tr>\n",
       "    <tr>\n",
       "      <th>2018-03-25 04:00:00</th>\n",
       "      <td>2440.072651</td>\n",
       "      <td>7</td>\n",
       "      <td>1</td>\n",
       "      <td>2506.587454</td>\n",
       "    </tr>\n",
       "    <tr>\n",
       "      <th>2018-03-25 05:00:00</th>\n",
       "      <td>2515.380769</td>\n",
       "      <td>7</td>\n",
       "      <td>1</td>\n",
       "      <td>2532.772226</td>\n",
       "    </tr>\n",
       "    <tr>\n",
       "      <th>2018-03-25 06:00:00</th>\n",
       "      <td>2612.671803</td>\n",
       "      <td>7</td>\n",
       "      <td>1</td>\n",
       "      <td>2604.791065</td>\n",
       "    </tr>\n",
       "    <tr>\n",
       "      <th>2018-03-25 07:00:00</th>\n",
       "      <td>2930.827226</td>\n",
       "      <td>7</td>\n",
       "      <td>1</td>\n",
       "      <td>2807.819204</td>\n",
       "    </tr>\n",
       "    <tr>\n",
       "      <th>2018-03-25 08:00:00</th>\n",
       "      <td>3306.252447</td>\n",
       "      <td>7</td>\n",
       "      <td>1</td>\n",
       "      <td>3126.662986</td>\n",
       "    </tr>\n",
       "    <tr>\n",
       "      <th>2018-03-25 09:00:00</th>\n",
       "      <td>3623.750794</td>\n",
       "      <td>7</td>\n",
       "      <td>1</td>\n",
       "      <td>3487.332781</td>\n",
       "    </tr>\n",
       "    <tr>\n",
       "      <th>2018-03-25 10:00:00</th>\n",
       "      <td>3894.060221</td>\n",
       "      <td>7</td>\n",
       "      <td>1</td>\n",
       "      <td>3826.615957</td>\n",
       "    </tr>\n",
       "    <tr>\n",
       "      <th>2018-03-25 11:00:00</th>\n",
       "      <td>4200.429617</td>\n",
       "      <td>7</td>\n",
       "      <td>1</td>\n",
       "      <td>4097.768236</td>\n",
       "    </tr>\n",
       "    <tr>\n",
       "      <th>2018-03-25 12:00:00</th>\n",
       "      <td>4287.876128</td>\n",
       "      <td>7</td>\n",
       "      <td>1</td>\n",
       "      <td>4184.362514</td>\n",
       "    </tr>\n",
       "    <tr>\n",
       "      <th>2018-03-25 13:00:00</th>\n",
       "      <td>3868.430474</td>\n",
       "      <td>7</td>\n",
       "      <td>1</td>\n",
       "      <td>4032.978451</td>\n",
       "    </tr>\n",
       "    <tr>\n",
       "      <th>2018-03-25 14:00:00</th>\n",
       "      <td>3737.711161</td>\n",
       "      <td>7</td>\n",
       "      <td>1</td>\n",
       "      <td>3741.285046</td>\n",
       "    </tr>\n",
       "    <tr>\n",
       "      <th>2018-03-25 15:00:00</th>\n",
       "      <td>3693.764639</td>\n",
       "      <td>7</td>\n",
       "      <td>1</td>\n",
       "      <td>3630.395227</td>\n",
       "    </tr>\n",
       "    <tr>\n",
       "      <th>2018-03-25 16:00:00</th>\n",
       "      <td>3597.636727</td>\n",
       "      <td>7</td>\n",
       "      <td>1</td>\n",
       "      <td>3561.810977</td>\n",
       "    </tr>\n",
       "    <tr>\n",
       "      <th>2018-03-25 17:00:00</th>\n",
       "      <td>3751.510386</td>\n",
       "      <td>7</td>\n",
       "      <td>1</td>\n",
       "      <td>3568.793722</td>\n",
       "    </tr>\n",
       "    <tr>\n",
       "      <th>2018-03-25 18:00:00</th>\n",
       "      <td>4142.893943</td>\n",
       "      <td>7</td>\n",
       "      <td>1</td>\n",
       "      <td>3897.091966</td>\n",
       "    </tr>\n",
       "    <tr>\n",
       "      <th>2018-03-25 19:00:00</th>\n",
       "      <td>4695.295605</td>\n",
       "      <td>7</td>\n",
       "      <td>1</td>\n",
       "      <td>4312.509271</td>\n",
       "    </tr>\n",
       "    <tr>\n",
       "      <th>2018-03-25 20:00:00</th>\n",
       "      <td>4623.139501</td>\n",
       "      <td>7</td>\n",
       "      <td>1</td>\n",
       "      <td>4595.028282</td>\n",
       "    </tr>\n",
       "    <tr>\n",
       "      <th>2018-03-25 21:00:00</th>\n",
       "      <td>4196.333634</td>\n",
       "      <td>7</td>\n",
       "      <td>1</td>\n",
       "      <td>4481.900948</td>\n",
       "    </tr>\n",
       "    <tr>\n",
       "      <th>2018-03-25 22:00:00</th>\n",
       "      <td>3740.489094</td>\n",
       "      <td>7</td>\n",
       "      <td>1</td>\n",
       "      <td>4037.112059</td>\n",
       "    </tr>\n",
       "    <tr>\n",
       "      <th>2018-03-26 00:00:00</th>\n",
       "      <td>3178.644630</td>\n",
       "      <td>1</td>\n",
       "      <td>0</td>\n",
       "      <td>3157.365138</td>\n",
       "    </tr>\n",
       "    <tr>\n",
       "      <th>2018-03-26 01:00:00</th>\n",
       "      <td>2703.529714</td>\n",
       "      <td>1</td>\n",
       "      <td>0</td>\n",
       "      <td>2712.227793</td>\n",
       "    </tr>\n",
       "    <tr>\n",
       "      <th>2018-03-26 02:00:00</th>\n",
       "      <td>2575.655609</td>\n",
       "      <td>1</td>\n",
       "      <td>0</td>\n",
       "      <td>2604.094611</td>\n",
       "    </tr>\n",
       "    <tr>\n",
       "      <th>2018-03-26 03:00:00</th>\n",
       "      <td>2452.983155</td>\n",
       "      <td>1</td>\n",
       "      <td>0</td>\n",
       "      <td>2471.563437</td>\n",
       "    </tr>\n",
       "    <tr>\n",
       "      <th>2018-03-26 04:00:00</th>\n",
       "      <td>2368.781011</td>\n",
       "      <td>1</td>\n",
       "      <td>0</td>\n",
       "      <td>2404.895227</td>\n",
       "    </tr>\n",
       "    <tr>\n",
       "      <th>2018-03-26 05:00:00</th>\n",
       "      <td>2419.444074</td>\n",
       "      <td>1</td>\n",
       "      <td>0</td>\n",
       "      <td>2448.565044</td>\n",
       "    </tr>\n",
       "    <tr>\n",
       "      <th>2018-03-26 06:00:00</th>\n",
       "      <td>2720.224215</td>\n",
       "      <td>1</td>\n",
       "      <td>0</td>\n",
       "      <td>2738.533675</td>\n",
       "    </tr>\n",
       "    <tr>\n",
       "      <th>2018-03-26 07:00:00</th>\n",
       "      <td>3186.878722</td>\n",
       "      <td>1</td>\n",
       "      <td>0</td>\n",
       "      <td>3260.182565</td>\n",
       "    </tr>\n",
       "    <tr>\n",
       "      <th>2018-03-26 08:00:00</th>\n",
       "      <td>3535.797199</td>\n",
       "      <td>1</td>\n",
       "      <td>0</td>\n",
       "      <td>3506.409552</td>\n",
       "    </tr>\n",
       "    <tr>\n",
       "      <th>2018-03-26 09:00:00</th>\n",
       "      <td>3900.211440</td>\n",
       "      <td>1</td>\n",
       "      <td>0</td>\n",
       "      <td>3635.428555</td>\n",
       "    </tr>\n",
       "    <tr>\n",
       "      <th>2018-03-26 10:00:00</th>\n",
       "      <td>4077.930889</td>\n",
       "      <td>1</td>\n",
       "      <td>0</td>\n",
       "      <td>3664.419581</td>\n",
       "    </tr>\n",
       "    <tr>\n",
       "      <th>2018-03-26 11:00:00</th>\n",
       "      <td>4131.639590</td>\n",
       "      <td>1</td>\n",
       "      <td>0</td>\n",
       "      <td>3627.678150</td>\n",
       "    </tr>\n",
       "    <tr>\n",
       "      <th>2018-03-26 12:00:00</th>\n",
       "      <td>4121.074893</td>\n",
       "      <td>1</td>\n",
       "      <td>0</td>\n",
       "      <td>3629.780340</td>\n",
       "    </tr>\n",
       "    <tr>\n",
       "      <th>2018-03-26 13:00:00</th>\n",
       "      <td>4059.276616</td>\n",
       "      <td>1</td>\n",
       "      <td>0</td>\n",
       "      <td>3618.593896</td>\n",
       "    </tr>\n",
       "    <tr>\n",
       "      <th>2018-03-26 14:00:00</th>\n",
       "      <td>3846.621638</td>\n",
       "      <td>1</td>\n",
       "      <td>0</td>\n",
       "      <td>3476.862323</td>\n",
       "    </tr>\n",
       "    <tr>\n",
       "      <th>2018-03-26 15:00:00</th>\n",
       "      <td>3809.305855</td>\n",
       "      <td>1</td>\n",
       "      <td>0</td>\n",
       "      <td>3440.244664</td>\n",
       "    </tr>\n",
       "    <tr>\n",
       "      <th>2018-03-26 16:00:00</th>\n",
       "      <td>3647.564241</td>\n",
       "      <td>1</td>\n",
       "      <td>0</td>\n",
       "      <td>3316.343547</td>\n",
       "    </tr>\n",
       "    <tr>\n",
       "      <th>2018-03-26 17:00:00</th>\n",
       "      <td>3533.062127</td>\n",
       "      <td>1</td>\n",
       "      <td>0</td>\n",
       "      <td>3267.609449</td>\n",
       "    </tr>\n",
       "    <tr>\n",
       "      <th>2018-03-26 18:00:00</th>\n",
       "      <td>3696.114126</td>\n",
       "      <td>1</td>\n",
       "      <td>0</td>\n",
       "      <td>3603.605371</td>\n",
       "    </tr>\n",
       "    <tr>\n",
       "      <th>2018-03-26 19:00:00</th>\n",
       "      <td>4086.071585</td>\n",
       "      <td>1</td>\n",
       "      <td>0</td>\n",
       "      <td>4105.404188</td>\n",
       "    </tr>\n",
       "    <tr>\n",
       "      <th>2018-03-26 20:00:00</th>\n",
       "      <td>4736.080405</td>\n",
       "      <td>1</td>\n",
       "      <td>0</td>\n",
       "      <td>4786.490874</td>\n",
       "    </tr>\n",
       "    <tr>\n",
       "      <th>2018-03-26 21:00:00</th>\n",
       "      <td>4657.694502</td>\n",
       "      <td>1</td>\n",
       "      <td>0</td>\n",
       "      <td>4699.232729</td>\n",
       "    </tr>\n",
       "    <tr>\n",
       "      <th>2018-03-26 22:00:00</th>\n",
       "      <td>4162.099804</td>\n",
       "      <td>1</td>\n",
       "      <td>0</td>\n",
       "      <td>4215.038112</td>\n",
       "    </tr>\n",
       "    <tr>\n",
       "      <th>2018-03-26 23:00:00</th>\n",
       "      <td>3653.889630</td>\n",
       "      <td>1</td>\n",
       "      <td>0</td>\n",
       "      <td>3685.499252</td>\n",
       "    </tr>\n",
       "  </tbody>\n",
       "</table>\n",
       "</div>"
      ],
      "text/plain": [
       "                              XT  Weekday  Holiday  XTForecastEstimation\n",
       "Timestamp                                                               \n",
       "2018-03-25 00:00:00  3147.824162        7        1           3171.278635\n",
       "2018-03-25 01:00:00  2740.862797        7        1           2745.225070\n",
       "2018-03-25 02:00:00  2654.360886        7        1           2648.583949\n",
       "2018-03-25 03:00:00  2507.887529        7        1                   NaN\n",
       "2018-03-25 04:00:00  2440.072651        7        1           2506.587454\n",
       "2018-03-25 05:00:00  2515.380769        7        1           2532.772226\n",
       "2018-03-25 06:00:00  2612.671803        7        1           2604.791065\n",
       "2018-03-25 07:00:00  2930.827226        7        1           2807.819204\n",
       "2018-03-25 08:00:00  3306.252447        7        1           3126.662986\n",
       "2018-03-25 09:00:00  3623.750794        7        1           3487.332781\n",
       "2018-03-25 10:00:00  3894.060221        7        1           3826.615957\n",
       "2018-03-25 11:00:00  4200.429617        7        1           4097.768236\n",
       "2018-03-25 12:00:00  4287.876128        7        1           4184.362514\n",
       "2018-03-25 13:00:00  3868.430474        7        1           4032.978451\n",
       "2018-03-25 14:00:00  3737.711161        7        1           3741.285046\n",
       "2018-03-25 15:00:00  3693.764639        7        1           3630.395227\n",
       "2018-03-25 16:00:00  3597.636727        7        1           3561.810977\n",
       "2018-03-25 17:00:00  3751.510386        7        1           3568.793722\n",
       "2018-03-25 18:00:00  4142.893943        7        1           3897.091966\n",
       "2018-03-25 19:00:00  4695.295605        7        1           4312.509271\n",
       "2018-03-25 20:00:00  4623.139501        7        1           4595.028282\n",
       "2018-03-25 21:00:00  4196.333634        7        1           4481.900948\n",
       "2018-03-25 22:00:00  3740.489094        7        1           4037.112059\n",
       "2018-03-26 00:00:00  3178.644630        1        0           3157.365138\n",
       "2018-03-26 01:00:00  2703.529714        1        0           2712.227793\n",
       "2018-03-26 02:00:00  2575.655609        1        0           2604.094611\n",
       "2018-03-26 03:00:00  2452.983155        1        0           2471.563437\n",
       "2018-03-26 04:00:00  2368.781011        1        0           2404.895227\n",
       "2018-03-26 05:00:00  2419.444074        1        0           2448.565044\n",
       "2018-03-26 06:00:00  2720.224215        1        0           2738.533675\n",
       "2018-03-26 07:00:00  3186.878722        1        0           3260.182565\n",
       "2018-03-26 08:00:00  3535.797199        1        0           3506.409552\n",
       "2018-03-26 09:00:00  3900.211440        1        0           3635.428555\n",
       "2018-03-26 10:00:00  4077.930889        1        0           3664.419581\n",
       "2018-03-26 11:00:00  4131.639590        1        0           3627.678150\n",
       "2018-03-26 12:00:00  4121.074893        1        0           3629.780340\n",
       "2018-03-26 13:00:00  4059.276616        1        0           3618.593896\n",
       "2018-03-26 14:00:00  3846.621638        1        0           3476.862323\n",
       "2018-03-26 15:00:00  3809.305855        1        0           3440.244664\n",
       "2018-03-26 16:00:00  3647.564241        1        0           3316.343547\n",
       "2018-03-26 17:00:00  3533.062127        1        0           3267.609449\n",
       "2018-03-26 18:00:00  3696.114126        1        0           3603.605371\n",
       "2018-03-26 19:00:00  4086.071585        1        0           4105.404188\n",
       "2018-03-26 20:00:00  4736.080405        1        0           4786.490874\n",
       "2018-03-26 21:00:00  4657.694502        1        0           4699.232729\n",
       "2018-03-26 22:00:00  4162.099804        1        0           4215.038112\n",
       "2018-03-26 23:00:00  3653.889630        1        0           3685.499252"
      ]
     },
     "execution_count": 25,
     "metadata": {},
     "output_type": "execute_result"
    }
   ],
   "source": [
    "final.loc['2018-03-25':'2018-03-26']"
   ]
  },
  {
   "cell_type": "markdown",
   "metadata": {},
   "source": [
    "* There is a missing from March 25 to March 26, 2018.\n",
    "\n",
    "* Let's also check what is happening with the second date."
   ]
  },
  {
   "cell_type": "code",
   "execution_count": 26,
   "metadata": {},
   "outputs": [
    {
     "data": {
      "text/html": [
       "<div>\n",
       "<style scoped>\n",
       "    .dataframe tbody tr th:only-of-type {\n",
       "        vertical-align: middle;\n",
       "    }\n",
       "\n",
       "    .dataframe tbody tr th {\n",
       "        vertical-align: top;\n",
       "    }\n",
       "\n",
       "    .dataframe thead th {\n",
       "        text-align: right;\n",
       "    }\n",
       "</style>\n",
       "<table border=\"1\" class=\"dataframe\">\n",
       "  <thead>\n",
       "    <tr style=\"text-align: right;\">\n",
       "      <th></th>\n",
       "      <th>XT</th>\n",
       "      <th>Weekday</th>\n",
       "      <th>Holiday</th>\n",
       "      <th>XTForecastEstimation</th>\n",
       "    </tr>\n",
       "    <tr>\n",
       "      <th>Timestamp</th>\n",
       "      <th></th>\n",
       "      <th></th>\n",
       "      <th></th>\n",
       "      <th></th>\n",
       "    </tr>\n",
       "  </thead>\n",
       "  <tbody>\n",
       "    <tr>\n",
       "      <th>2019-03-31 00:00:00</th>\n",
       "      <td>3301.206709</td>\n",
       "      <td>7</td>\n",
       "      <td>0</td>\n",
       "      <td>3247.902346</td>\n",
       "    </tr>\n",
       "    <tr>\n",
       "      <th>2019-03-31 01:00:00</th>\n",
       "      <td>2873.602290</td>\n",
       "      <td>7</td>\n",
       "      <td>0</td>\n",
       "      <td>2819.229247</td>\n",
       "    </tr>\n",
       "    <tr>\n",
       "      <th>2019-03-31 02:00:00</th>\n",
       "      <td>2747.037509</td>\n",
       "      <td>7</td>\n",
       "      <td>0</td>\n",
       "      <td>2732.615475</td>\n",
       "    </tr>\n",
       "    <tr>\n",
       "      <th>2019-03-31 03:00:00</th>\n",
       "      <td>2588.609454</td>\n",
       "      <td>7</td>\n",
       "      <td>0</td>\n",
       "      <td>2603.115607</td>\n",
       "    </tr>\n",
       "    <tr>\n",
       "      <th>2019-03-31 04:00:00</th>\n",
       "      <td>2508.161442</td>\n",
       "      <td>7</td>\n",
       "      <td>0</td>\n",
       "      <td>2440.825764</td>\n",
       "    </tr>\n",
       "    <tr>\n",
       "      <th>2019-03-31 05:00:00</th>\n",
       "      <td>2584.451302</td>\n",
       "      <td>7</td>\n",
       "      <td>0</td>\n",
       "      <td>2492.355395</td>\n",
       "    </tr>\n",
       "    <tr>\n",
       "      <th>2019-03-31 06:00:00</th>\n",
       "      <td>2782.655535</td>\n",
       "      <td>7</td>\n",
       "      <td>0</td>\n",
       "      <td>2586.818830</td>\n",
       "    </tr>\n",
       "    <tr>\n",
       "      <th>2019-03-31 07:00:00</th>\n",
       "      <td>3116.754635</td>\n",
       "      <td>7</td>\n",
       "      <td>0</td>\n",
       "      <td>2827.044553</td>\n",
       "    </tr>\n",
       "    <tr>\n",
       "      <th>2019-03-31 08:00:00</th>\n",
       "      <td>3392.986697</td>\n",
       "      <td>7</td>\n",
       "      <td>0</td>\n",
       "      <td>3069.195420</td>\n",
       "    </tr>\n",
       "    <tr>\n",
       "      <th>2019-03-31 09:00:00</th>\n",
       "      <td>3726.225782</td>\n",
       "      <td>7</td>\n",
       "      <td>0</td>\n",
       "      <td>3450.833496</td>\n",
       "    </tr>\n",
       "    <tr>\n",
       "      <th>2019-03-31 10:00:00</th>\n",
       "      <td>4053.142813</td>\n",
       "      <td>7</td>\n",
       "      <td>0</td>\n",
       "      <td>3800.837724</td>\n",
       "    </tr>\n",
       "    <tr>\n",
       "      <th>2019-03-31 11:00:00</th>\n",
       "      <td>4200.996700</td>\n",
       "      <td>7</td>\n",
       "      <td>0</td>\n",
       "      <td>4077.822801</td>\n",
       "    </tr>\n",
       "    <tr>\n",
       "      <th>2019-03-31 12:00:00</th>\n",
       "      <td>4112.829124</td>\n",
       "      <td>7</td>\n",
       "      <td>0</td>\n",
       "      <td>4142.864500</td>\n",
       "    </tr>\n",
       "    <tr>\n",
       "      <th>2019-03-31 13:00:00</th>\n",
       "      <td>3682.948983</td>\n",
       "      <td>7</td>\n",
       "      <td>0</td>\n",
       "      <td>3876.414983</td>\n",
       "    </tr>\n",
       "    <tr>\n",
       "      <th>2019-03-31 14:00:00</th>\n",
       "      <td>3426.411477</td>\n",
       "      <td>7</td>\n",
       "      <td>0</td>\n",
       "      <td>3389.640601</td>\n",
       "    </tr>\n",
       "    <tr>\n",
       "      <th>2019-03-31 15:00:00</th>\n",
       "      <td>3157.689645</td>\n",
       "      <td>7</td>\n",
       "      <td>0</td>\n",
       "      <td>3108.390085</td>\n",
       "    </tr>\n",
       "    <tr>\n",
       "      <th>2019-03-31 16:00:00</th>\n",
       "      <td>2926.069225</td>\n",
       "      <td>7</td>\n",
       "      <td>0</td>\n",
       "      <td>2932.896113</td>\n",
       "    </tr>\n",
       "    <tr>\n",
       "      <th>2019-03-31 17:00:00</th>\n",
       "      <td>3108.223191</td>\n",
       "      <td>7</td>\n",
       "      <td>0</td>\n",
       "      <td>3151.289086</td>\n",
       "    </tr>\n",
       "    <tr>\n",
       "      <th>2019-03-31 18:00:00</th>\n",
       "      <td>3692.334812</td>\n",
       "      <td>7</td>\n",
       "      <td>0</td>\n",
       "      <td>3788.538014</td>\n",
       "    </tr>\n",
       "    <tr>\n",
       "      <th>2019-03-31 19:00:00</th>\n",
       "      <td>4552.484395</td>\n",
       "      <td>7</td>\n",
       "      <td>0</td>\n",
       "      <td>4520.316156</td>\n",
       "    </tr>\n",
       "    <tr>\n",
       "      <th>2019-03-31 20:00:00</th>\n",
       "      <td>4645.136323</td>\n",
       "      <td>7</td>\n",
       "      <td>0</td>\n",
       "      <td>4549.797376</td>\n",
       "    </tr>\n",
       "    <tr>\n",
       "      <th>2019-03-31 21:00:00</th>\n",
       "      <td>4270.944582</td>\n",
       "      <td>7</td>\n",
       "      <td>0</td>\n",
       "      <td>4441.384007</td>\n",
       "    </tr>\n",
       "    <tr>\n",
       "      <th>2019-03-31 22:00:00</th>\n",
       "      <td>3783.234863</td>\n",
       "      <td>7</td>\n",
       "      <td>0</td>\n",
       "      <td>4073.814613</td>\n",
       "    </tr>\n",
       "    <tr>\n",
       "      <th>2019-04-01 00:00:00</th>\n",
       "      <td>3187.145548</td>\n",
       "      <td>1</td>\n",
       "      <td>0</td>\n",
       "      <td>2976.846149</td>\n",
       "    </tr>\n",
       "    <tr>\n",
       "      <th>2019-04-01 01:00:00</th>\n",
       "      <td>2704.463519</td>\n",
       "      <td>1</td>\n",
       "      <td>0</td>\n",
       "      <td>2527.256207</td>\n",
       "    </tr>\n",
       "    <tr>\n",
       "      <th>2019-04-01 02:00:00</th>\n",
       "      <td>2574.707241</td>\n",
       "      <td>1</td>\n",
       "      <td>0</td>\n",
       "      <td>2460.138348</td>\n",
       "    </tr>\n",
       "    <tr>\n",
       "      <th>2019-04-01 03:00:00</th>\n",
       "      <td>2437.772948</td>\n",
       "      <td>1</td>\n",
       "      <td>0</td>\n",
       "      <td>2380.170524</td>\n",
       "    </tr>\n",
       "    <tr>\n",
       "      <th>2019-04-01 04:00:00</th>\n",
       "      <td>2378.292601</td>\n",
       "      <td>1</td>\n",
       "      <td>0</td>\n",
       "      <td>2390.854232</td>\n",
       "    </tr>\n",
       "    <tr>\n",
       "      <th>2019-04-01 05:00:00</th>\n",
       "      <td>2434.107319</td>\n",
       "      <td>1</td>\n",
       "      <td>0</td>\n",
       "      <td>2456.614336</td>\n",
       "    </tr>\n",
       "    <tr>\n",
       "      <th>2019-04-01 06:00:00</th>\n",
       "      <td>2762.303343</td>\n",
       "      <td>1</td>\n",
       "      <td>0</td>\n",
       "      <td>2739.121578</td>\n",
       "    </tr>\n",
       "    <tr>\n",
       "      <th>2019-04-01 07:00:00</th>\n",
       "      <td>3210.495162</td>\n",
       "      <td>1</td>\n",
       "      <td>0</td>\n",
       "      <td>3215.926825</td>\n",
       "    </tr>\n",
       "    <tr>\n",
       "      <th>2019-04-01 08:00:00</th>\n",
       "      <td>3478.563249</td>\n",
       "      <td>1</td>\n",
       "      <td>0</td>\n",
       "      <td>3272.429048</td>\n",
       "    </tr>\n",
       "    <tr>\n",
       "      <th>2019-04-01 09:00:00</th>\n",
       "      <td>3699.114372</td>\n",
       "      <td>1</td>\n",
       "      <td>0</td>\n",
       "      <td>3592.809779</td>\n",
       "    </tr>\n",
       "    <tr>\n",
       "      <th>2019-04-01 10:00:00</th>\n",
       "      <td>3781.360851</td>\n",
       "      <td>1</td>\n",
       "      <td>0</td>\n",
       "      <td>3817.520814</td>\n",
       "    </tr>\n",
       "    <tr>\n",
       "      <th>2019-04-01 11:00:00</th>\n",
       "      <td>3818.750030</td>\n",
       "      <td>1</td>\n",
       "      <td>0</td>\n",
       "      <td>3960.817263</td>\n",
       "    </tr>\n",
       "    <tr>\n",
       "      <th>2019-04-01 12:00:00</th>\n",
       "      <td>3861.883201</td>\n",
       "      <td>1</td>\n",
       "      <td>0</td>\n",
       "      <td>4012.318029</td>\n",
       "    </tr>\n",
       "    <tr>\n",
       "      <th>2019-04-01 13:00:00</th>\n",
       "      <td>3832.719822</td>\n",
       "      <td>1</td>\n",
       "      <td>0</td>\n",
       "      <td>3968.786380</td>\n",
       "    </tr>\n",
       "    <tr>\n",
       "      <th>2019-04-01 14:00:00</th>\n",
       "      <td>3668.377006</td>\n",
       "      <td>1</td>\n",
       "      <td>0</td>\n",
       "      <td>3850.297042</td>\n",
       "    </tr>\n",
       "    <tr>\n",
       "      <th>2019-04-01 15:00:00</th>\n",
       "      <td>3611.147517</td>\n",
       "      <td>1</td>\n",
       "      <td>0</td>\n",
       "      <td>3555.042695</td>\n",
       "    </tr>\n",
       "    <tr>\n",
       "      <th>2019-04-01 16:00:00</th>\n",
       "      <td>3404.116124</td>\n",
       "      <td>1</td>\n",
       "      <td>0</td>\n",
       "      <td>3307.478098</td>\n",
       "    </tr>\n",
       "    <tr>\n",
       "      <th>2019-04-01 17:00:00</th>\n",
       "      <td>3269.526147</td>\n",
       "      <td>1</td>\n",
       "      <td>0</td>\n",
       "      <td>3344.024001</td>\n",
       "    </tr>\n",
       "    <tr>\n",
       "      <th>2019-04-01 18:00:00</th>\n",
       "      <td>3354.109016</td>\n",
       "      <td>1</td>\n",
       "      <td>0</td>\n",
       "      <td>3500.774039</td>\n",
       "    </tr>\n",
       "    <tr>\n",
       "      <th>2019-04-01 19:00:00</th>\n",
       "      <td>3752.134341</td>\n",
       "      <td>1</td>\n",
       "      <td>0</td>\n",
       "      <td>4152.025457</td>\n",
       "    </tr>\n",
       "    <tr>\n",
       "      <th>2019-04-01 20:00:00</th>\n",
       "      <td>4610.830178</td>\n",
       "      <td>1</td>\n",
       "      <td>0</td>\n",
       "      <td>4743.810201</td>\n",
       "    </tr>\n",
       "    <tr>\n",
       "      <th>2019-04-01 21:00:00</th>\n",
       "      <td>4660.451326</td>\n",
       "      <td>1</td>\n",
       "      <td>0</td>\n",
       "      <td>4752.944821</td>\n",
       "    </tr>\n",
       "    <tr>\n",
       "      <th>2019-04-01 22:00:00</th>\n",
       "      <td>4188.812481</td>\n",
       "      <td>1</td>\n",
       "      <td>0</td>\n",
       "      <td>4275.388941</td>\n",
       "    </tr>\n",
       "    <tr>\n",
       "      <th>2019-04-01 23:00:00</th>\n",
       "      <td>3669.738850</td>\n",
       "      <td>1</td>\n",
       "      <td>0</td>\n",
       "      <td>3491.561361</td>\n",
       "    </tr>\n",
       "  </tbody>\n",
       "</table>\n",
       "</div>"
      ],
      "text/plain": [
       "                              XT  Weekday  Holiday  XTForecastEstimation\n",
       "Timestamp                                                               \n",
       "2019-03-31 00:00:00  3301.206709        7        0           3247.902346\n",
       "2019-03-31 01:00:00  2873.602290        7        0           2819.229247\n",
       "2019-03-31 02:00:00  2747.037509        7        0           2732.615475\n",
       "2019-03-31 03:00:00  2588.609454        7        0           2603.115607\n",
       "2019-03-31 04:00:00  2508.161442        7        0           2440.825764\n",
       "2019-03-31 05:00:00  2584.451302        7        0           2492.355395\n",
       "2019-03-31 06:00:00  2782.655535        7        0           2586.818830\n",
       "2019-03-31 07:00:00  3116.754635        7        0           2827.044553\n",
       "2019-03-31 08:00:00  3392.986697        7        0           3069.195420\n",
       "2019-03-31 09:00:00  3726.225782        7        0           3450.833496\n",
       "2019-03-31 10:00:00  4053.142813        7        0           3800.837724\n",
       "2019-03-31 11:00:00  4200.996700        7        0           4077.822801\n",
       "2019-03-31 12:00:00  4112.829124        7        0           4142.864500\n",
       "2019-03-31 13:00:00  3682.948983        7        0           3876.414983\n",
       "2019-03-31 14:00:00  3426.411477        7        0           3389.640601\n",
       "2019-03-31 15:00:00  3157.689645        7        0           3108.390085\n",
       "2019-03-31 16:00:00  2926.069225        7        0           2932.896113\n",
       "2019-03-31 17:00:00  3108.223191        7        0           3151.289086\n",
       "2019-03-31 18:00:00  3692.334812        7        0           3788.538014\n",
       "2019-03-31 19:00:00  4552.484395        7        0           4520.316156\n",
       "2019-03-31 20:00:00  4645.136323        7        0           4549.797376\n",
       "2019-03-31 21:00:00  4270.944582        7        0           4441.384007\n",
       "2019-03-31 22:00:00  3783.234863        7        0           4073.814613\n",
       "2019-04-01 00:00:00  3187.145548        1        0           2976.846149\n",
       "2019-04-01 01:00:00  2704.463519        1        0           2527.256207\n",
       "2019-04-01 02:00:00  2574.707241        1        0           2460.138348\n",
       "2019-04-01 03:00:00  2437.772948        1        0           2380.170524\n",
       "2019-04-01 04:00:00  2378.292601        1        0           2390.854232\n",
       "2019-04-01 05:00:00  2434.107319        1        0           2456.614336\n",
       "2019-04-01 06:00:00  2762.303343        1        0           2739.121578\n",
       "2019-04-01 07:00:00  3210.495162        1        0           3215.926825\n",
       "2019-04-01 08:00:00  3478.563249        1        0           3272.429048\n",
       "2019-04-01 09:00:00  3699.114372        1        0           3592.809779\n",
       "2019-04-01 10:00:00  3781.360851        1        0           3817.520814\n",
       "2019-04-01 11:00:00  3818.750030        1        0           3960.817263\n",
       "2019-04-01 12:00:00  3861.883201        1        0           4012.318029\n",
       "2019-04-01 13:00:00  3832.719822        1        0           3968.786380\n",
       "2019-04-01 14:00:00  3668.377006        1        0           3850.297042\n",
       "2019-04-01 15:00:00  3611.147517        1        0           3555.042695\n",
       "2019-04-01 16:00:00  3404.116124        1        0           3307.478098\n",
       "2019-04-01 17:00:00  3269.526147        1        0           3344.024001\n",
       "2019-04-01 18:00:00  3354.109016        1        0           3500.774039\n",
       "2019-04-01 19:00:00  3752.134341        1        0           4152.025457\n",
       "2019-04-01 20:00:00  4610.830178        1        0           4743.810201\n",
       "2019-04-01 21:00:00  4660.451326        1        0           4752.944821\n",
       "2019-04-01 22:00:00  4188.812481        1        0           4275.388941\n",
       "2019-04-01 23:00:00  3669.738850        1        0           3491.561361"
      ]
     },
     "execution_count": 26,
     "metadata": {},
     "output_type": "execute_result"
    }
   ],
   "source": [
    "final.loc['2019-03-31':'2019-04-01']"
   ]
  },
  {
   "cell_type": "markdown",
   "metadata": {},
   "source": [
    "* Same story, an hour was skipped between March 31 and April 1, 2019."
   ]
  },
  {
   "cell_type": "markdown",
   "metadata": {},
   "source": [
    "* We'll fix the issue by using the previous value."
   ]
  },
  {
   "cell_type": "code",
   "execution_count": 27,
   "metadata": {},
   "outputs": [
    {
     "data": {
      "text/plain": [
       "DatetimeIndex(['2018-01-01 00:00:00', '2018-01-01 01:00:00',\n",
       "               '2018-01-01 02:00:00', '2018-01-01 03:00:00',\n",
       "               '2018-01-01 04:00:00', '2018-01-01 05:00:00',\n",
       "               '2018-01-01 06:00:00', '2018-01-01 07:00:00',\n",
       "               '2018-01-01 08:00:00', '2018-01-01 09:00:00',\n",
       "               ...\n",
       "               '2019-05-31 14:00:00', '2019-05-31 15:00:00',\n",
       "               '2019-05-31 16:00:00', '2019-05-31 17:00:00',\n",
       "               '2019-05-31 18:00:00', '2019-05-31 19:00:00',\n",
       "               '2019-05-31 20:00:00', '2019-05-31 21:00:00',\n",
       "               '2019-05-31 22:00:00', '2019-05-31 23:00:00'],\n",
       "              dtype='datetime64[ns]', name='Timestamp', length=12384, freq='H')"
      ]
     },
     "execution_count": 27,
     "metadata": {},
     "output_type": "execute_result"
    }
   ],
   "source": [
    "#set Hourly index frequency\n",
    "final = final.asfreq(freq='H', method='pad')\n",
    "final.index"
   ]
  },
  {
   "cell_type": "code",
   "execution_count": 28,
   "metadata": {},
   "outputs": [
    {
     "data": {
      "text/html": [
       "<div>\n",
       "<style scoped>\n",
       "    .dataframe tbody tr th:only-of-type {\n",
       "        vertical-align: middle;\n",
       "    }\n",
       "\n",
       "    .dataframe tbody tr th {\n",
       "        vertical-align: top;\n",
       "    }\n",
       "\n",
       "    .dataframe thead th {\n",
       "        text-align: right;\n",
       "    }\n",
       "</style>\n",
       "<table border=\"1\" class=\"dataframe\">\n",
       "  <thead>\n",
       "    <tr style=\"text-align: right;\">\n",
       "      <th></th>\n",
       "      <th>XT</th>\n",
       "      <th>Weekday</th>\n",
       "      <th>Holiday</th>\n",
       "      <th>XTForecastEstimation</th>\n",
       "    </tr>\n",
       "    <tr>\n",
       "      <th>Timestamp</th>\n",
       "      <th></th>\n",
       "      <th></th>\n",
       "      <th></th>\n",
       "      <th></th>\n",
       "    </tr>\n",
       "  </thead>\n",
       "  <tbody>\n",
       "    <tr>\n",
       "      <th>2018-03-25 03:00:00</th>\n",
       "      <td>2507.887529</td>\n",
       "      <td>7</td>\n",
       "      <td>1</td>\n",
       "      <td>NaN</td>\n",
       "    </tr>\n",
       "  </tbody>\n",
       "</table>\n",
       "</div>"
      ],
      "text/plain": [
       "                              XT  Weekday  Holiday  XTForecastEstimation\n",
       "Timestamp                                                               \n",
       "2018-03-25 03:00:00  2507.887529        7        1                   NaN"
      ]
     },
     "execution_count": 28,
     "metadata": {},
     "output_type": "execute_result"
    }
   ],
   "source": [
    "#check again for NaN in dataframe γιατι τώρα που κουβαλάω και την επιπλέον στήλη εχω το ίδιο θέμα με την ώρα\n",
    "final[final.isnull().any(axis=1)]"
   ]
  },
  {
   "cell_type": "code",
   "execution_count": 29,
   "metadata": {},
   "outputs": [
    {
     "data": {
      "text/plain": [
       "XT                      2507.887529\n",
       "Weekday                    7.000000\n",
       "Holiday                    1.000000\n",
       "XTForecastEstimation            NaN\n",
       "Name: 2018-03-25 03:00:00, dtype: float64"
      ]
     },
     "execution_count": 29,
     "metadata": {},
     "output_type": "execute_result"
    }
   ],
   "source": [
    "#NaN that day for forecastedValues\n",
    "final.loc['2018-03-25 03:00:00']"
   ]
  },
  {
   "cell_type": "code",
   "execution_count": 30,
   "metadata": {},
   "outputs": [],
   "source": [
    "#fill with previous value ΝαΝ\n",
    "final=final.fillna(method='ffill')"
   ]
  },
  {
   "cell_type": "code",
   "execution_count": 31,
   "metadata": {},
   "outputs": [
    {
     "data": {
      "text/plain": [
       "XT                      2507.887529\n",
       "Weekday                    7.000000\n",
       "Holiday                    1.000000\n",
       "XTForecastEstimation    2648.583949\n",
       "Name: 2018-03-25 03:00:00, dtype: float64"
      ]
     },
     "execution_count": 31,
     "metadata": {},
     "output_type": "execute_result"
    }
   ],
   "source": [
    "#fixed\n",
    "final.loc['2018-03-25 03:00:00']"
   ]
  },
  {
   "cell_type": "code",
   "execution_count": 32,
   "metadata": {},
   "outputs": [],
   "source": [
    "#Here is going to be the EDA part-just some quick insights"
   ]
  },
  {
   "cell_type": "code",
   "execution_count": 33,
   "metadata": {},
   "outputs": [
    {
     "data": {
      "text/plain": [
       "Text(0.5, 1.0, 'Low Voltage Consumption VS Holiday')"
      ]
     },
     "execution_count": 33,
     "metadata": {},
     "output_type": "execute_result"
    },
    {
     "data": {
      "image/png": "[encoded data removed]",
      "text/plain": [
       "<Figure size 432x288 with 1 Axes>"
      ]
     },
     "metadata": {
      "needs_background": "light"
     },
     "output_type": "display_data"
    }
   ],
   "source": [
    "import seaborn as sns\n",
    "sns.boxplot(x=final['Holiday'],y=final['XT']).set(ylabel='LV Consumption',xlabel='Holiday')\n",
    "plt.title('Low Voltage Consumption VS Holiday',fontsize=16)"
   ]
  },
  {
   "cell_type": "code",
   "execution_count": 34,
   "metadata": {},
   "outputs": [
    {
     "data": {
      "text/plain": [
       "Text(0.5, 1.0, 'Low Voltage Consumption VS Weekday')"
      ]
     },
     "execution_count": 34,
     "metadata": {},
     "output_type": "execute_result"
    },
    {
     "data": {
      "image/png": "[encoded data removed]",
      "text/plain": [
       "<Figure size 432x288 with 1 Axes>"
      ]
     },
     "metadata": {
      "needs_background": "light"
     },
     "output_type": "display_data"
    }
   ],
   "source": [
    "sns.boxplot(x=final['Weekday'],y=final['XT'],palette='rainbow').set(ylabel='LV Consumption',xlabel='Weekday')\n",
    "plt.title('Low Voltage Consumption VS Weekday',fontsize=16)"
   ]
  },
  {
   "cell_type": "code",
   "execution_count": 35,
   "metadata": {},
   "outputs": [
    {
     "data": {
      "text/plain": [
       "Text(0.5, 1.0, 'Low Voltage Consumption')"
      ]
     },
     "execution_count": 35,
     "metadata": {},
     "output_type": "execute_result"
    },
    {
     "data": {
      "image/png": "[encoded data removed]",
      "text/plain": [
       "<Figure size 432x288 with 1 Axes>"
      ]
     },
     "metadata": {
      "needs_background": "light"
     },
     "output_type": "display_data"
    }
   ],
   "source": [
    "#there are some outliers\n",
    "sns.boxplot(x=final['XT']).set_xlabel('LV Consumption',fontsize=14)\n",
    "plt.title('Low Voltage Consumption',fontsize=16)\n"
   ]
  },
  {
   "cell_type": "code",
   "execution_count": 36,
   "metadata": {},
   "outputs": [
    {
     "name": "stdout",
     "output_type": "stream",
     "text": [
      "Timestamp\n",
      "2019-01-08 19:00:00    7187.273484\n",
      "2019-01-08 18:00:00    7092.001648\n",
      "2019-01-08 20:00:00    7087.291997\n",
      "2019-01-07 19:00:00    6889.243639\n",
      "2018-12-31 19:00:00    6886.460958\n",
      "                          ...     \n",
      "2019-01-07 14:00:00    6084.083217\n",
      "2018-12-18 19:00:00    6070.501313\n",
      "2019-02-24 19:00:00    6066.652340\n",
      "2019-01-11 20:00:00    6064.160066\n",
      "2018-12-19 18:00:00    6059.806308\n",
      "Name: XT, Length: 100, dtype: float64\n"
     ]
    }
   ],
   "source": [
    "#check largest Values-seems logical not extreme values\n",
    "print( final['XT'].nlargest(100))"
   ]
  },
  {
   "cell_type": "code",
   "execution_count": 37,
   "metadata": {},
   "outputs": [
    {
     "data": {
      "text/plain": [
       "Text(0.5, 1.0, 'Daily Actual Consumption per Hour')"
      ]
     },
     "execution_count": 37,
     "metadata": {},
     "output_type": "execute_result"
    },
    {
     "data": {
      "image/png": "[encoded data removed]",
      "text/plain": [
       "<Figure size 864x432 with 1 Axes>"
      ]
     },
     "metadata": {
      "needs_background": "light"
     },
     "output_type": "display_data"
    }
   ],
   "source": [
    "final['XT'].iloc[:23].plot(figsize=(12,6)).autoscale(axis='x',tight=True);\n",
    "plt.xlabel('Datetime', fontsize=14)\n",
    "plt.ylabel('Actual Consumption', fontsize=14)\n",
    "plt.title('Daily Actual Consumption per Hour', fontsize=16)"
   ]
  },
  {
   "cell_type": "code",
   "execution_count": 38,
   "metadata": {},
   "outputs": [
    {
     "data": {
      "text/plain": [
       "Text(0.5, 1.0, 'Actual Consumption (Historical Data)')"
      ]
     },
     "execution_count": 38,
     "metadata": {},
     "output_type": "execute_result"
    },
    {
     "data": {
      "image/png": "[encoded data removed]",
      "text/plain": [
       "<Figure size 864x432 with 1 Axes>"
      ]
     },
     "metadata": {
      "needs_background": "light"
     },
     "output_type": "display_data"
    }
   ],
   "source": [
    "final['XT'].plot(figsize=(12,6)).autoscale(axis='x',tight=True);\n",
    "plt.xlabel('Datetime', fontsize=14)\n",
    "plt.ylabel('Actual Consumption', fontsize=14)\n",
    "plt.title('Actual Consumption (Historical Data)', fontsize=16)"
   ]
  },
  {
   "cell_type": "code",
   "execution_count": 39,
   "metadata": {},
   "outputs": [
    {
     "data": {
      "text/plain": [
       "Text(0, 0.5, 'Residual')"
      ]
     },
     "execution_count": 39,
     "metadata": {},
     "output_type": "execute_result"
    },
    {
     "data": {
      "image/png": "[encoded data removed]",
      "text/plain": [
       "<Figure size 1152x432 with 4 Axes>"
      ]
     },
     "metadata": {
      "needs_background": "light"
     },
     "output_type": "display_data"
    }
   ],
   "source": [
    "fig, axes = plt.subplots(nrows=4, sharex=True, figsize=(16,6))\n",
    "\n",
    "result = seasonal_decompose(final['XT'])\n",
    "\n",
    "result.observed.plot(ax=axes[0], legend=False)\n",
    "axes[0].set_ylabel('Observed',fontsize=14)\n",
    "result.trend.plot(ax=axes[1], legend=False)\n",
    "axes[1].set_ylabel('Trend',fontsize=14)\n",
    "result.seasonal.plot(ax=axes[2], legend=False)\n",
    "axes[2].set_ylabel('Seasonal',fontsize=14)\n",
    "result.resid.plot(ax=axes[3], legend=False)\n",
    "axes[3].set_ylabel('Residual',fontsize=14)\n"
   ]
  },
  {
   "cell_type": "code",
   "execution_count": 40,
   "metadata": {},
   "outputs": [],
   "source": [
    "#create ad-fuller test function\n",
    "from statsmodels.tsa.stattools import adfuller\n",
    "\n",
    "def adf_test(series,title=''):\n",
    "    \"\"\"\n",
    "    Pass in a time series and an optional title, returns an ADF report\n",
    "    \"\"\"\n",
    "    print(f'Augmented Dickey-Fuller Test: {title}')\n",
    "    result = adfuller(series.dropna(),autolag='AIC') # .dropna() handles differenced data\n",
    "    \n",
    "    labels = ['ADF test statistic','p-value','# lags used','# observations']\n",
    "    out = pd.Series(result[0:4],index=labels)\n",
    "\n",
    "    for key,val in result[4].items():\n",
    "        out[f'critical value ({key})']=val\n",
    "        \n",
    "    print(out.to_string())          # .to_string() removes the line \"dtype: float64\"\n",
    "    \n",
    "    if result[1] <= 0.05:\n",
    "        print(\"Strong evidence against the null hypothesis\")\n",
    "        print(\"Reject the null hypothesis\")\n",
    "        print(\"Data has no unit root and is stationary\")\n",
    "    else:\n",
    "        print(\"Weak evidence against the null hypothesis\")\n",
    "        print(\"Fail to reject the null hypothesis\")\n",
    "        print(\"Data has a unit root and is non-stationary\")"
   ]
  },
  {
   "cell_type": "code",
   "execution_count": 41,
   "metadata": {},
   "outputs": [],
   "source": [
    "from statsmodels.graphics.tsaplots import plot_acf,plot_pacf"
   ]
  },
  {
   "cell_type": "code",
   "execution_count": 42,
   "metadata": {},
   "outputs": [
    {
     "data": {
      "image/png": "[encoded data removed]",
      "text/plain": [
       "<Figure size 432x288 with 1 Axes>"
      ]
     },
     "metadata": {
      "needs_background": "light"
     },
     "output_type": "display_data"
    }
   ],
   "source": [
    "# Now let's plot the autocorrelation at different lags\n",
    "title = 'Autocorrelation: Low Voltage Consumption'\n",
    "lags = 40\n",
    "plot_acf(final['XT'],title=title,lags=lags);"
   ]
  },
  {
   "cell_type": "code",
   "execution_count": 43,
   "metadata": {},
   "outputs": [
    {
     "data": {
      "image/png": "[encoded data removed]",
      "text/plain": [
       "<Figure size 432x288 with 1 Axes>"
      ]
     },
     "metadata": {
      "needs_background": "light"
     },
     "output_type": "display_data"
    }
   ],
   "source": [
    "title='Partial Autocorrelation:  Low Voltage Consumption'\n",
    "lags=40\n",
    "plot_pacf(final['XT'],title=title,lags=lags);"
   ]
  },
  {
   "cell_type": "code",
   "execution_count": 49,
   "metadata": {},
   "outputs": [],
   "source": [
    "#KPSS test\n",
    "from statsmodels.tsa.stattools import kpss\n",
    "#define KPSS\n",
    "def kpss_test(series):\n",
    "    print ('Results of KPSS Test:')\n",
    "    kpsstest = kpss(series, regression='c', lags='auto')\n",
    "    kpss_output = pd.Series(kpsstest[0:3], index=['Test Statistic','p-value','Lags Used'])\n",
    "    for key,value in kpsstest[3].items():\n",
    "        kpss_output['Critical Value (%s)'%key] = value\n",
    "    print (kpss_output)"
   ]
  },
  {
   "cell_type": "code",
   "execution_count": 50,
   "metadata": {},
   "outputs": [
    {
     "name": "stdout",
     "output_type": "stream",
     "text": [
      "Results of KPSS Test:\n",
      "Test Statistic            1.138627\n",
      "p-value                   0.010000\n",
      "Lags Used                52.000000\n",
      "Critical Value (10%)      0.347000\n",
      "Critical Value (5%)       0.463000\n",
      "Critical Value (2.5%)     0.574000\n",
      "Critical Value (1%)       0.739000\n",
      "dtype: float64\n"
     ]
    },
    {
     "name": "stderr",
     "output_type": "stream",
     "text": [
      "/Library/Frameworks/Python.framework/Versions/3.7/lib/python3.7/site-packages/statsmodels/tsa/stattools.py:1708: InterpolationWarning: p-value is smaller than the indicated p-value\n",
      "  warn(\"p-value is smaller than the indicated p-value\", InterpolationWarning)\n"
     ]
    }
   ],
   "source": [
    "kpss_test(final['XT'])"
   ]
  },
  {
   "cell_type": "code",
   "execution_count": 46,
   "metadata": {},
   "outputs": [
    {
     "name": "stdout",
     "output_type": "stream",
     "text": [
      "Augmented Dickey-Fuller Test: \n",
      "ADF test statistic         -3.934115\n",
      "p-value                     0.001798\n",
      "# lags used                41.000000\n",
      "# observations          12342.000000\n",
      "critical value (1%)        -3.430880\n",
      "critical value (5%)        -2.861774\n",
      "critical value (10%)       -2.566895\n",
      "Strong evidence against the null hypothesis\n",
      "Reject the null hypothesis\n",
      "Data has no unit root and is stationary\n"
     ]
    }
   ],
   "source": [
    "adf_test(final['XT'])"
   ]
  },
  {
   "cell_type": "code",
   "execution_count": 47,
   "metadata": {},
   "outputs": [],
   "source": [
    "final2=final"
   ]
  },
  {
   "cell_type": "code",
   "execution_count": 48,
   "metadata": {},
   "outputs": [
    {
     "name": "stderr",
     "output_type": "stream",
     "text": [
      "/Library/Frameworks/Python.framework/Versions/3.7/lib/python3.7/site-packages/pmdarima/arima/_auto_solvers.py:207: ModelFitWarning: Unable to fit ARIMA for order=(2, 1, 2) seasonal_order=(1, 0, 1, 24); data is likely non-stationary. (if you do not want to see these warnings, run with error_action=\"ignore\")\n",
      "  ModelFitWarning)\n",
      "/Library/Frameworks/Python.framework/Versions/3.7/lib/python3.7/site-packages/statsmodels/base/model.py:512: ConvergenceWarning: Maximum Likelihood optimization failed to converge. Check mle_retvals\n",
      "  \"Check mle_retvals\", ConvergenceWarning)\n",
      "/Library/Frameworks/Python.framework/Versions/3.7/lib/python3.7/site-packages/pmdarima/arima/_auto_solvers.py:207: ModelFitWarning: Unable to fit ARIMA for order=(0, 1, 0) seasonal_order=(2, 0, 1, 24); data is likely non-stationary. (if you do not want to see these warnings, run with error_action=\"ignore\")\n",
      "  ModelFitWarning)\n",
      "/Library/Frameworks/Python.framework/Versions/3.7/lib/python3.7/site-packages/pmdarima/arima/_auto_solvers.py:207: ModelFitWarning: Unable to fit ARIMA for order=(2, 1, 0) seasonal_order=(2, 0, 1, 24); data is likely non-stationary. (if you do not want to see these warnings, run with error_action=\"ignore\")\n",
      "  ModelFitWarning)\n",
      "/Library/Frameworks/Python.framework/Versions/3.7/lib/python3.7/site-packages/statsmodels/base/model.py:512: ConvergenceWarning: Maximum Likelihood optimization failed to converge. Check mle_retvals\n",
      "  \"Check mle_retvals\", ConvergenceWarning)\n",
      "/Library/Frameworks/Python.framework/Versions/3.7/lib/python3.7/site-packages/pmdarima/arima/_auto_solvers.py:207: ModelFitWarning: Unable to fit ARIMA for order=(2, 1, 1) seasonal_order=(2, 0, 1, 24); data is likely non-stationary. (if you do not want to see these warnings, run with error_action=\"ignore\")\n",
      "  ModelFitWarning)\n",
      "/Library/Frameworks/Python.framework/Versions/3.7/lib/python3.7/site-packages/pmdarima/arima/_auto_solvers.py:207: ModelFitWarning: Unable to fit ARIMA for order=(1, 1, 0) seasonal_order=(2, 0, 2, 24); data is likely non-stationary. (if you do not want to see these warnings, run with error_action=\"ignore\")\n",
      "  ModelFitWarning)\n"
     ]
    },
    {
     "data": {
      "text/html": [
       "<table class=\"simpletable\">\n",
       "<caption>Statespace Model Results</caption>\n",
       "<tr>\n",
       "  <th>Dep. Variable:</th>                  <td>y</td>               <th>  No. Observations:  </th>    <td>8784</td>   \n",
       "</tr>\n",
       "<tr>\n",
       "  <th>Model:</th>           <td>SARIMAX(1, 1, 0)x(2, 0, 1, 24)</td> <th>  Log Likelihood     </th> <td>-48606.019</td>\n",
       "</tr>\n",
       "<tr>\n",
       "  <th>Date:</th>                   <td>Tue, 27 Aug 2019</td>        <th>  AIC                </th>  <td>97224.037</td>\n",
       "</tr>\n",
       "<tr>\n",
       "  <th>Time:</th>                       <td>23:14:56</td>            <th>  BIC                </th>  <td>97266.521</td>\n",
       "</tr>\n",
       "<tr>\n",
       "  <th>Sample:</th>                         <td>0</td>               <th>  HQIC               </th>  <td>97238.511</td>\n",
       "</tr>\n",
       "<tr>\n",
       "  <th></th>                             <td> - 8784</td>            <th>                     </th>      <td> </td>    \n",
       "</tr>\n",
       "<tr>\n",
       "  <th>Covariance Type:</th>               <td>opg</td>              <th>                     </th>      <td> </td>    \n",
       "</tr>\n",
       "</table>\n",
       "<table class=\"simpletable\">\n",
       "<tr>\n",
       "      <td></td>         <th>coef</th>     <th>std err</th>      <th>z</th>      <th>P>|z|</th>  <th>[0.025</th>    <th>0.975]</th>  \n",
       "</tr>\n",
       "<tr>\n",
       "  <th>intercept</th> <td>   -0.0150</td> <td>    0.059</td> <td>   -0.253</td> <td> 0.800</td> <td>   -0.131</td> <td>    0.101</td>\n",
       "</tr>\n",
       "<tr>\n",
       "  <th>ar.L1</th>     <td>    0.5681</td> <td>    0.004</td> <td>  131.403</td> <td> 0.000</td> <td>    0.560</td> <td>    0.577</td>\n",
       "</tr>\n",
       "<tr>\n",
       "  <th>ar.S.L24</th>  <td>    1.2441</td> <td>    0.009</td> <td>  144.582</td> <td> 0.000</td> <td>    1.227</td> <td>    1.261</td>\n",
       "</tr>\n",
       "<tr>\n",
       "  <th>ar.S.L48</th>  <td>   -0.2443</td> <td>    0.009</td> <td>  -28.418</td> <td> 0.000</td> <td>   -0.261</td> <td>   -0.227</td>\n",
       "</tr>\n",
       "<tr>\n",
       "  <th>ma.S.L24</th>  <td>   -0.7917</td> <td>    0.006</td> <td> -129.930</td> <td> 0.000</td> <td>   -0.804</td> <td>   -0.780</td>\n",
       "</tr>\n",
       "<tr>\n",
       "  <th>sigma2</th>    <td> 3696.9293</td> <td>   20.271</td> <td>  182.372</td> <td> 0.000</td> <td> 3657.198</td> <td> 3736.660</td>\n",
       "</tr>\n",
       "</table>\n",
       "<table class=\"simpletable\">\n",
       "<tr>\n",
       "  <th>Ljung-Box (Q):</th>          <td>1762.36</td> <th>  Jarque-Bera (JB):  </th> <td>83121.46</td>\n",
       "</tr>\n",
       "<tr>\n",
       "  <th>Prob(Q):</th>                 <td>0.00</td>   <th>  Prob(JB):          </th>   <td>0.00</td>  \n",
       "</tr>\n",
       "<tr>\n",
       "  <th>Heteroskedasticity (H):</th>  <td>3.64</td>   <th>  Skew:              </th>   <td>0.47</td>  \n",
       "</tr>\n",
       "<tr>\n",
       "  <th>Prob(H) (two-sided):</th>     <td>0.00</td>   <th>  Kurtosis:          </th>   <td>18.04</td> \n",
       "</tr>\n",
       "</table><br/><br/>Warnings:<br/>[1] Covariance matrix calculated using the outer product of gradients (complex-step)."
      ],
      "text/plain": [
       "<class 'statsmodels.iolib.summary.Summary'>\n",
       "\"\"\"\n",
       "                                 Statespace Model Results                                 \n",
       "==========================================================================================\n",
       "Dep. Variable:                                  y   No. Observations:                 8784\n",
       "Model:             SARIMAX(1, 1, 0)x(2, 0, 1, 24)   Log Likelihood              -48606.019\n",
       "Date:                            Tue, 27 Aug 2019   AIC                          97224.037\n",
       "Time:                                    23:14:56   BIC                          97266.521\n",
       "Sample:                                         0   HQIC                         97238.511\n",
       "                                           - 8784                                         \n",
       "Covariance Type:                              opg                                         \n",
       "==============================================================================\n",
       "                 coef    std err          z      P>|z|      [0.025      0.975]\n",
       "------------------------------------------------------------------------------\n",
       "intercept     -0.0150      0.059     -0.253      0.800      -0.131       0.101\n",
       "ar.L1          0.5681      0.004    131.403      0.000       0.560       0.577\n",
       "ar.S.L24       1.2441      0.009    144.582      0.000       1.227       1.261\n",
       "ar.S.L48      -0.2443      0.009    -28.418      0.000      -0.261      -0.227\n",
       "ma.S.L24      -0.7917      0.006   -129.930      0.000      -0.804      -0.780\n",
       "sigma2      3696.9293     20.271    182.372      0.000    3657.198    3736.660\n",
       "===================================================================================\n",
       "Ljung-Box (Q):                     1762.36   Jarque-Bera (JB):             83121.46\n",
       "Prob(Q):                              0.00   Prob(JB):                         0.00\n",
       "Heteroskedasticity (H):               3.64   Skew:                             0.47\n",
       "Prob(H) (two-sided):                  0.00   Kurtosis:                        18.04\n",
       "===================================================================================\n",
       "\n",
       "Warnings:\n",
       "[1] Covariance matrix calculated using the outer product of gradients (complex-step).\n",
       "\"\"\""
      ]
     },
     "execution_count": 48,
     "metadata": {},
     "output_type": "execute_result"
    }
   ],
   "source": [
    "# For SARIMA Orders we set seasonal=True and pass in an m value\n",
    "auto_arima(final['XT'].loc['2018-05-01':'2019-05-01'], seasonal=True, m=24).summary()"
   ]
  },
  {
   "cell_type": "code",
   "execution_count": 51,
   "metadata": {},
   "outputs": [
    {
     "data": {
      "text/plain": [
       "(8784, 4)"
      ]
     },
     "execution_count": 51,
     "metadata": {},
     "output_type": "execute_result"
    }
   ],
   "source": [
    "#use the period used for training\n",
    "df1=final.loc['2018-05-01':'2019-05-01']\n",
    "df1.shape"
   ]
  },
  {
   "cell_type": "markdown",
   "metadata": {},
   "source": [
    "* Use all data except the last two days for training and the last two days for testing."
   ]
  },
  {
   "cell_type": "code",
   "execution_count": 52,
   "metadata": {},
   "outputs": [],
   "source": [
    "#train test split\n",
    "train = df1.iloc[:-24*2]\n",
    "test = df1.iloc[-24*2:]"
   ]
  },
  {
   "cell_type": "code",
   "execution_count": 53,
   "metadata": {},
   "outputs": [
    {
     "data": {
      "text/html": [
       "<table class=\"simpletable\">\n",
       "<caption>Statespace Model Results</caption>\n",
       "<tr>\n",
       "  <th>Dep. Variable:</th>                 <td>XT</td>               <th>  No. Observations:  </th>    <td>8736</td>   \n",
       "</tr>\n",
       "<tr>\n",
       "  <th>Model:</th>           <td>SARIMAX(1, 1, 0)x(2, 0, 1, 24)</td> <th>  Log Likelihood     </th> <td>-48337.953</td>\n",
       "</tr>\n",
       "<tr>\n",
       "  <th>Date:</th>                   <td>Wed, 28 Aug 2019</td>        <th>  AIC                </th>  <td>96689.905</td>\n",
       "</tr>\n",
       "<tr>\n",
       "  <th>Time:</th>                       <td>16:54:02</td>            <th>  BIC                </th>  <td>96739.431</td>\n",
       "</tr>\n",
       "<tr>\n",
       "  <th>Sample:</th>                    <td>05-01-2018</td>           <th>  HQIC               </th>  <td>96706.783</td>\n",
       "</tr>\n",
       "<tr>\n",
       "  <th></th>                          <td>- 04-29-2019</td>          <th>                     </th>      <td> </td>    \n",
       "</tr>\n",
       "<tr>\n",
       "  <th>Covariance Type:</th>               <td>opg</td>              <th>                     </th>      <td> </td>    \n",
       "</tr>\n",
       "</table>\n",
       "<table class=\"simpletable\">\n",
       "<tr>\n",
       "      <td></td>        <th>coef</th>     <th>std err</th>      <th>z</th>      <th>P>|z|</th>  <th>[0.025</th>    <th>0.975]</th>  \n",
       "</tr>\n",
       "<tr>\n",
       "  <th>Weekday</th>  <td>    2.6108</td> <td>    1.195</td> <td>    2.184</td> <td> 0.029</td> <td>    0.268</td> <td>    4.953</td>\n",
       "</tr>\n",
       "<tr>\n",
       "  <th>Holiday</th>  <td>   27.4507</td> <td>    6.509</td> <td>    4.217</td> <td> 0.000</td> <td>   14.693</td> <td>   40.208</td>\n",
       "</tr>\n",
       "<tr>\n",
       "  <th>ar.L1</th>    <td>    0.5697</td> <td>    0.004</td> <td>  130.783</td> <td> 0.000</td> <td>    0.561</td> <td>    0.578</td>\n",
       "</tr>\n",
       "<tr>\n",
       "  <th>ar.S.L24</th> <td>    1.2484</td> <td>    0.009</td> <td>  144.742</td> <td> 0.000</td> <td>    1.231</td> <td>    1.265</td>\n",
       "</tr>\n",
       "<tr>\n",
       "  <th>ar.S.L48</th> <td>   -0.2486</td> <td>    0.009</td> <td>  -28.860</td> <td> 0.000</td> <td>   -0.265</td> <td>   -0.232</td>\n",
       "</tr>\n",
       "<tr>\n",
       "  <th>ma.S.L24</th> <td>   -0.7933</td> <td>    0.006</td> <td> -130.159</td> <td> 0.000</td> <td>   -0.805</td> <td>   -0.781</td>\n",
       "</tr>\n",
       "<tr>\n",
       "  <th>sigma2</th>   <td> 3697.0447</td> <td>   20.317</td> <td>  181.972</td> <td> 0.000</td> <td> 3657.225</td> <td> 3736.864</td>\n",
       "</tr>\n",
       "</table>\n",
       "<table class=\"simpletable\">\n",
       "<tr>\n",
       "  <th>Ljung-Box (Q):</th>          <td>1729.63</td> <th>  Jarque-Bera (JB):  </th> <td>82948.57</td>\n",
       "</tr>\n",
       "<tr>\n",
       "  <th>Prob(Q):</th>                 <td>0.00</td>   <th>  Prob(JB):          </th>   <td>0.00</td>  \n",
       "</tr>\n",
       "<tr>\n",
       "  <th>Heteroskedasticity (H):</th>  <td>3.67</td>   <th>  Skew:              </th>   <td>0.48</td>  \n",
       "</tr>\n",
       "<tr>\n",
       "  <th>Prob(H) (two-sided):</th>     <td>0.00</td>   <th>  Kurtosis:          </th>   <td>18.07</td> \n",
       "</tr>\n",
       "</table><br/><br/>Warnings:<br/>[1] Covariance matrix calculated using the outer product of gradients (complex-step)."
      ],
      "text/plain": [
       "<class 'statsmodels.iolib.summary.Summary'>\n",
       "\"\"\"\n",
       "                                 Statespace Model Results                                 \n",
       "==========================================================================================\n",
       "Dep. Variable:                                 XT   No. Observations:                 8736\n",
       "Model:             SARIMAX(1, 1, 0)x(2, 0, 1, 24)   Log Likelihood              -48337.953\n",
       "Date:                            Wed, 28 Aug 2019   AIC                          96689.905\n",
       "Time:                                    16:54:02   BIC                          96739.431\n",
       "Sample:                                05-01-2018   HQIC                         96706.783\n",
       "                                     - 04-29-2019                                         \n",
       "Covariance Type:                              opg                                         \n",
       "==============================================================================\n",
       "                 coef    std err          z      P>|z|      [0.025      0.975]\n",
       "------------------------------------------------------------------------------\n",
       "Weekday        2.6108      1.195      2.184      0.029       0.268       4.953\n",
       "Holiday       27.4507      6.509      4.217      0.000      14.693      40.208\n",
       "ar.L1          0.5697      0.004    130.783      0.000       0.561       0.578\n",
       "ar.S.L24       1.2484      0.009    144.742      0.000       1.231       1.265\n",
       "ar.S.L48      -0.2486      0.009    -28.860      0.000      -0.265      -0.232\n",
       "ma.S.L24      -0.7933      0.006   -130.159      0.000      -0.805      -0.781\n",
       "sigma2      3697.0447     20.317    181.972      0.000    3657.225    3736.864\n",
       "===================================================================================\n",
       "Ljung-Box (Q):                     1729.63   Jarque-Bera (JB):             82948.57\n",
       "Prob(Q):                              0.00   Prob(JB):                         0.00\n",
       "Heteroskedasticity (H):               3.67   Skew:                             0.48\n",
       "Prob(H) (two-sided):                  0.00   Kurtosis:                        18.07\n",
       "===================================================================================\n",
       "\n",
       "Warnings:\n",
       "[1] Covariance matrix calculated using the outer product of gradients (complex-step).\n",
       "\"\"\""
      ]
     },
     "execution_count": 53,
     "metadata": {},
     "output_type": "execute_result"
    }
   ],
   "source": [
    "#run model\n",
    "model = SARIMAX(train['XT'],\n",
    "                exog=train[['Weekday','Holiday']],\n",
    "                order=(1,1,0),\n",
    "                seasonal_order=(2,0,1,24),\n",
    "                enforce_invertibility=False)\n",
    "results = model.fit()\n",
    "results.summary()"
   ]
  },
  {
   "cell_type": "code",
   "execution_count": 54,
   "metadata": {},
   "outputs": [],
   "source": [
    "# Obtain predicted values\n",
    "start=len(train)\n",
    "end=len(train)+len(test)-1\n",
    "exog_forecast = test[['Holiday','Weekday']]  # requires two brackets to yield a shape of (35,1)\n",
    "predictions = results.predict(start=start, \n",
    "                              end=end, \n",
    "                              exog=exog_forecast).rename('SARIMAX(1,1,0)(2,0,1,24) Predictions')"
   ]
  },
  {
   "cell_type": "code",
   "execution_count": 55,
   "metadata": {},
   "outputs": [
    {
     "data": {
      "image/png": "[encoded data removed]",
      "text/plain": [
       "<Figure size 864x432 with 1 Axes>"
      ]
     },
     "metadata": {
      "needs_background": "light"
     },
     "output_type": "display_data"
    }
   ],
   "source": [
    "# Plot predictions against known values\n",
    "ax = test['XT'].plot(legend=True,figsize=(12,6))\n",
    "predictions.plot(legend=True)\n",
    "final['XTForecastEstimation'].loc['2019-04-30':'2019-05-01'].plot(legend=True)\n",
    "ax.autoscale(axis='x',tight=True)"
   ]
  },
  {
   "cell_type": "code",
   "execution_count": 56,
   "metadata": {},
   "outputs": [],
   "source": [
    "from statsmodels.tools.eval_measures import mse,rmse\n",
    "#calculate rmse\n",
    "OurError= rmse(test['XT'], predictions)\n",
    "TheirError = rmse(final['XTForecastEstimation'].loc['2019-04-30':'2019-05-01'], test['XT'])"
   ]
  },
  {
   "cell_type": "code",
   "execution_count": 57,
   "metadata": {},
   "outputs": [
    {
     "data": {
      "text/plain": [
       "243.02998816611498"
      ]
     },
     "execution_count": 57,
     "metadata": {},
     "output_type": "execute_result"
    }
   ],
   "source": [
    "TheirError"
   ]
  },
  {
   "cell_type": "code",
   "execution_count": 58,
   "metadata": {},
   "outputs": [
    {
     "data": {
      "text/plain": [
       "116.87128474378312"
      ]
     },
     "execution_count": 58,
     "metadata": {},
     "output_type": "execute_result"
    }
   ],
   "source": [
    "#WIN??\n",
    "OurError"
   ]
  },
  {
   "cell_type": "code",
   "execution_count": 59,
   "metadata": {},
   "outputs": [],
   "source": [
    "#create copy of df in order to make prediction for the future\n",
    "df2=final.loc['2018-05-01':'2019-05-03'].copy()"
   ]
  },
  {
   "cell_type": "code",
   "execution_count": 60,
   "metadata": {},
   "outputs": [],
   "source": [
    "#set NaN to the target variable \n",
    "df2.loc['2019-05-02':'2019-05-03', 'XT'] = np.NaN"
   ]
  },
  {
   "cell_type": "code",
   "execution_count": 61,
   "metadata": {},
   "outputs": [],
   "source": [
    "#retrain of full dataset\n",
    "model = SARIMAX(df1['XT'],\n",
    "                exog=df1[['Weekday','Holiday']],\n",
    "                order=(1,1,0),\n",
    "                seasonal_order=(2,0,1,24),\n",
    "                enforce_invertibility=False)"
   ]
  },
  {
   "cell_type": "code",
   "execution_count": 49,
   "metadata": {},
   "outputs": [],
   "source": [
    "results = model.fit()"
   ]
  },
  {
   "cell_type": "code",
   "execution_count": 50,
   "metadata": {},
   "outputs": [],
   "source": [
    "#get the future data for holidays and weekday\n",
    "exog_forecast = df2.iloc[len(df1):][['Holiday','Weekday']]"
   ]
  },
  {
   "cell_type": "code",
   "execution_count": 51,
   "metadata": {},
   "outputs": [
    {
     "name": "stderr",
     "output_type": "stream",
     "text": [
      "C:\\Users\\ntarz\\Anaconda3\\lib\\site-packages\\statsmodels\\tsa\\base\\tsa_model.py:320: FutureWarning: Creating a DatetimeIndex by passing range endpoints is deprecated.  Use `pandas.date_range` instead.\n",
      "  freq=base_index.freq)\n"
     ]
    }
   ],
   "source": [
    "#make forcast for 2 days ahead\n",
    "fcast = results.predict(len(df1),len(df1)+47,exog=exog_forecast).rename('SARIMAX(1,0,0)(2,0,0,7) Forecast')"
   ]
  },
  {
   "cell_type": "code",
   "execution_count": 52,
   "metadata": {},
   "outputs": [
    {
     "data": {
      "image/png": "[encoded data removed]",
      "text/plain": [
       "<Figure size 864x432 with 1 Axes>"
      ]
     },
     "metadata": {
      "needs_background": "light"
     },
     "output_type": "display_data"
    }
   ],
   "source": [
    "# Plot predictions against known values\n",
    "ax = fcast.plot(legend=True,figsize=(12,6))\n",
    "final['XTForecastEstimation'].loc['2019-05-02':'2019-05-03'].plot(legend=True)\n",
    "final['XT'].loc['2019-05-02':'2019-05-03'].plot(legend=True)\n",
    "ax.autoscale(axis='x',tight=True)"
   ]
  },
  {
   "cell_type": "code",
   "execution_count": 53,
   "metadata": {},
   "outputs": [],
   "source": [
    "from statsmodels.tools.eval_measures import mse,rmse\n",
    "#calculate error\n",
    "OurError= rmse(final['XT'].loc['2019-05-02':'2019-05-03'], fcast)\n",
    "TheirError = rmse(final['XT'].loc['2019-05-02':'2019-05-03'], final['XTForecastEstimation'].loc['2019-05-02':'2019-05-03'])"
   ]
  },
  {
   "cell_type": "code",
   "execution_count": 54,
   "metadata": {},
   "outputs": [
    {
     "data": {
      "text/plain": [
       "138.20360108833202"
      ]
     },
     "execution_count": 54,
     "metadata": {},
     "output_type": "execute_result"
    }
   ],
   "source": [
    "#WinAgain\n",
    "OurError"
   ]
  },
  {
   "cell_type": "code",
   "execution_count": 55,
   "metadata": {},
   "outputs": [
    {
     "data": {
      "text/plain": [
       "167.8694440547491"
      ]
     },
     "execution_count": 55,
     "metadata": {},
     "output_type": "execute_result"
    }
   ],
   "source": [
    "#FairlyClose\n",
    "TheirError"
   ]
  },
  {
   "cell_type": "markdown",
   "metadata": {},
   "source": [
    "# Prophet"
   ]
  },
  {
   "cell_type": "code",
   "execution_count": 93,
   "metadata": {},
   "outputs": [
    {
     "name": "stderr",
     "output_type": "stream",
     "text": [
      "ERROR:fbprophet:Importing plotly failed. Interactive plots will not work.\n"
     ]
    }
   ],
   "source": [
    "#import ProphetLibrary\n",
    "from fbprophet import Prophet"
   ]
  },
  {
   "cell_type": "code",
   "execution_count": 94,
   "metadata": {},
   "outputs": [],
   "source": [
    "#create holidays Dataframe for possible use by Prophet\n",
    "holidays = pd.DataFrame({\n",
    "    'ds': train.reset_index().query('Holiday == 1')['Timestamp'],\n",
    "    'holiday': 'holiday'\n",
    "})\n",
    "holidays.head()"
   ]
  },
  {
   "cell_type": "code",
   "execution_count": 95,
   "metadata": {},
   "outputs": [
    {
     "name": "stderr",
     "output_type": "stream",
     "text": [
      "INFO:fbprophet:Disabling yearly seasonality. Run prophet with yearly_seasonality=True to override this.\n",
      "C:\\Users\\ntarz\\Anaconda3\\lib\\site-packages\\pystan\\misc.py:399: FutureWarning: Conversion of the second argument of issubdtype from `float` to `np.floating` is deprecated. In future, it will be treated as `np.float64 == np.dtype(float).type`.\n",
      "  elif np.issubdtype(np.asarray(v).dtype, float):\n"
     ]
    },
    {
     "data": {
      "text/plain": [
       "<fbprophet.forecaster.Prophet at 0x239e1b08438>"
      ]
     },
     "execution_count": 95,
     "metadata": {},
     "output_type": "execute_result"
    }
   ],
   "source": [
    "#fit Prophet model\n",
    "prophet_model = Prophet(daily_seasonality=True, yearly_seasonality=True)#, holidays=holidays)\n",
    "prophet_model.fit(train['XT'].reset_index().rename(columns={'Timestamp':'ds', 'XT':'y'}))"
   ]
  },
  {
   "cell_type": "code",
   "execution_count": 96,
   "metadata": {},
   "outputs": [],
   "source": [
    "#predict\n",
    "prophet_forecast = prophet_model.predict(df=test['XT'].reset_index().rename(columns={'Timestamp':'ds'}))"
   ]
  },
  {
   "cell_type": "code",
   "execution_count": 97,
   "metadata": {},
   "outputs": [],
   "source": [
    "#store predictions\n",
    "_ = prophet_model.plot_components(prophet_forecast)"
   ]
  },
  {
   "cell_type": "code",
   "execution_count": null,
   "metadata": {},
   "outputs": [],
   "source": [
    "# Plot predictions against known values\n",
    "fig, axes = plt.subplots(1, figsize=(16,6))\n",
    "axes.plot(test.index, test['XT'], label='XT')\n",
    "axes.plot(test.index, prophet_forecast['yhat'], label='Prophet', axes=axes)\n",
    "final['XTForecastEstimation'].loc['2019-04-30':'2019-05-01'].plot(legend=True, axes=axes)\n",
    "axes.autoscale(axis='x', tight=True)\n",
    "axes.legend()"
   ]
  },
  {
   "cell_type": "code",
   "execution_count": 98,
   "metadata": {},
   "outputs": [],
   "source": [
    "#calculate Error\n",
    "from statsmodels.tools.eval_measures import mse,rmse\n",
    "prophet_error= rmse(test['XT'], prophet_forecast['yhat'])"
   ]
  },
  {
   "cell_type": "code",
   "execution_count": 99,
   "metadata": {},
   "outputs": [
    {
     "data": {
      "text/plain": [
       "330.97786559210465"
      ]
     },
     "execution_count": 99,
     "metadata": {},
     "output_type": "execute_result"
    }
   ],
   "source": [
    "#worse\n",
    "prophet_error"
   ]
  },
  {
   "cell_type": "markdown",
   "metadata": {},
   "source": [
    "# RNN Keras (Univariate)"
   ]
  },
  {
   "cell_type": "code",
   "execution_count": 62,
   "metadata": {},
   "outputs": [
    {
     "data": {
      "text/html": [
       "<div>\n",
       "<style scoped>\n",
       "    .dataframe tbody tr th:only-of-type {\n",
       "        vertical-align: middle;\n",
       "    }\n",
       "\n",
       "    .dataframe tbody tr th {\n",
       "        vertical-align: top;\n",
       "    }\n",
       "\n",
       "    .dataframe thead th {\n",
       "        text-align: right;\n",
       "    }\n",
       "</style>\n",
       "<table border=\"1\" class=\"dataframe\">\n",
       "  <thead>\n",
       "    <tr style=\"text-align: right;\">\n",
       "      <th></th>\n",
       "      <th>XT</th>\n",
       "    </tr>\n",
       "    <tr>\n",
       "      <th>Timestamp</th>\n",
       "      <th></th>\n",
       "    </tr>\n",
       "  </thead>\n",
       "  <tbody>\n",
       "    <tr>\n",
       "      <th>2018-01-01 00:00:00</th>\n",
       "      <td>3933.209685</td>\n",
       "    </tr>\n",
       "    <tr>\n",
       "      <th>2018-01-01 01:00:00</th>\n",
       "      <td>3615.862294</td>\n",
       "    </tr>\n",
       "    <tr>\n",
       "      <th>2018-01-01 02:00:00</th>\n",
       "      <td>3531.408073</td>\n",
       "    </tr>\n",
       "    <tr>\n",
       "      <th>2018-01-01 03:00:00</th>\n",
       "      <td>3250.926682</td>\n",
       "    </tr>\n",
       "    <tr>\n",
       "      <th>2018-01-01 04:00:00</th>\n",
       "      <td>3027.204711</td>\n",
       "    </tr>\n",
       "  </tbody>\n",
       "</table>\n",
       "</div>"
      ],
      "text/plain": [
       "                              XT\n",
       "Timestamp                       \n",
       "2018-01-01 00:00:00  3933.209685\n",
       "2018-01-01 01:00:00  3615.862294\n",
       "2018-01-01 02:00:00  3531.408073\n",
       "2018-01-01 03:00:00  3250.926682\n",
       "2018-01-01 04:00:00  3027.204711"
      ]
     },
     "execution_count": 62,
     "metadata": {},
     "output_type": "execute_result"
    }
   ],
   "source": [
    "final2=final['XT']\n",
    "final2=pd.DataFrame(final2)\n",
    "final2.head()"
   ]
  },
  {
   "cell_type": "code",
   "execution_count": 72,
   "metadata": {},
   "outputs": [],
   "source": [
    "import pandas as pd\n",
    "import numpy as np\n",
    "import tensorflow as tf\n",
    "\n",
    "import time\n",
    "from sklearn.metrics import mean_squared_error\n",
    "from matplotlib import pyplot\n",
    "from sklearn.preprocessing import MinMaxScaler\n",
    "from sklearn.preprocessing import StandardScaler"
   ]
  },
  {
   "cell_type": "code",
   "execution_count": 74,
   "metadata": {},
   "outputs": [],
   "source": [
    "from sklearn.preprocessing import MinMaxScaler\n",
    "sc = MinMaxScaler(feature_range=(0,1))\n",
    "input_data= sc.fit_transform(final2)"
   ]
  },
  {
   "cell_type": "code",
   "execution_count": 97,
   "metadata": {},
   "outputs": [],
   "source": [
    "#one week\n",
    "lookback = 7 * 24\n",
    "\n",
    "test_size = len(final2) // 10\n",
    "X = []\n",
    "y = []\n",
    "for i in range(len(final2)-lookback-1):\n",
    "    t = [ [input_data[i+j, 0]] for j in range(lookback) ]\n",
    "    X.append(t)\n",
    "    y.append(input_data[i+ lookback])"
   ]
  },
  {
   "cell_type": "code",
   "execution_count": 106,
   "metadata": {},
   "outputs": [
    {
     "name": "stdout",
     "output_type": "stream",
     "text": [
      "(12215, 168, 1)\n",
      "(12215, 1)\n",
      "(1406, 168, 1)\n"
     ]
    }
   ],
   "source": [
    "X, y = np.array(X), np.array(y)\n",
    "print(X.shape)\n",
    "print(y.shape)\n",
    "X_test = X[:test_size+lookback]\n",
    "print(X_test.shape)"
   ]
  },
  {
   "cell_type": "code",
   "execution_count": 100,
   "metadata": {},
   "outputs": [],
   "source": [
    "from keras import Sequential\n",
    "from keras.layers import Dense, LSTM"
   ]
  },
  {
   "cell_type": "code",
   "execution_count": 99,
   "metadata": {},
   "outputs": [
    {
     "name": "stdout",
     "output_type": "stream",
     "text": [
      "Model: \"sequential_6\"\n",
      "_________________________________________________________________\n",
      "Layer (type)                 Output Shape              Param #   \n",
      "=================================================================\n",
      "lstm_8 (LSTM)                (None, 168, 300)          362400    \n",
      "_________________________________________________________________\n",
      "lstm_9 (LSTM)                (None, 168, 300)          721200    \n",
      "_________________________________________________________________\n",
      "lstm_10 (LSTM)               (None, 100)               160400    \n",
      "_________________________________________________________________\n",
      "dense_1 (Dense)              (None, 1)                 101       \n",
      "=================================================================\n",
      "Total params: 1,244,101\n",
      "Trainable params: 1,244,101\n",
      "Non-trainable params: 0\n",
      "_________________________________________________________________\n"
     ]
    }
   ],
   "source": [
    "model = tf.keras.models.Sequential()\n",
    "model.add(tf.keras.layers.LSTM(units=300, return_sequences= True, input_shape=(X.shape[-2:])))\n",
    "model.add(tf.keras.layers.LSTM(units=300, return_sequences=True))\n",
    "model.add(tf.keras.layers.LSTM(units=100))\n",
    "model.add(tf.keras.layers.Dense(units=1))\n",
    "model.summary()"
   ]
  },
  {
   "cell_type": "code",
   "execution_count": 100,
   "metadata": {},
   "outputs": [
    {
     "name": "stderr",
     "output_type": "stream",
     "text": [
      "W0828 17:26:15.037882 4637054400 deprecation.py:323] From /Library/Frameworks/Python.framework/Versions/3.7/lib/python3.7/site-packages/tensorflow/python/ops/math_grad.py:1250: add_dispatch_support.<locals>.wrapper (from tensorflow.python.ops.array_ops) is deprecated and will be removed in a future version.\n",
      "Instructions for updating:\n",
      "Use tf.where in 2.0, which has the same broadcast rule as np.where\n"
     ]
    },
    {
     "name": "stdout",
     "output_type": "stream",
     "text": [
      "Epoch 1/10\n",
      "12215/12215 [==============================] - 181s 15ms/sample - loss: 0.0271\n",
      "Epoch 2/10\n",
      "12215/12215 [==============================] - 179s 15ms/sample - loss: 0.0085\n",
      "Epoch 3/10\n",
      "12215/12215 [==============================] - 186s 15ms/sample - loss: 0.0061\n",
      "Epoch 4/10\n",
      "12215/12215 [==============================] - 182s 15ms/sample - loss: 0.0034\n",
      "Epoch 5/10\n",
      "12215/12215 [==============================] - 182s 15ms/sample - loss: 0.0025\n",
      "Epoch 6/10\n",
      "12215/12215 [==============================] - 188s 15ms/sample - loss: 0.0023\n",
      "Epoch 7/10\n",
      "12215/12215 [==============================] - 179s 15ms/sample - loss: 0.0018\n",
      "Epoch 8/10\n",
      "12215/12215 [==============================] - 184s 15ms/sample - loss: 0.0015\n",
      "Epoch 9/10\n",
      "12215/12215 [==============================] - 176s 14ms/sample - loss: 0.0010\n",
      "Epoch 10/10\n",
      "12215/12215 [==============================] - 174s 14ms/sample - loss: 9.7114e-04\n"
     ]
    }
   ],
   "source": [
    "model.compile(optimizer='adam', loss='mean_squared_error')\n",
    "history=model.fit(X, y, epochs=10, batch_size=200)"
   ]
  },
  {
   "cell_type": "code",
   "execution_count": 101,
   "metadata": {},
   "outputs": [
    {
     "data": {
      "image/png": "[encoded data removed]",
      "text/plain": [
       "<Figure size 432x288 with 1 Axes>"
      ]
     },
     "metadata": {
      "needs_background": "light"
     },
     "output_type": "display_data"
    }
   ],
   "source": [
    "# summarize history for loss\n",
    "plt.plot(history.history['loss'])\n",
    "plt.title('model loss')\n",
    "plt.ylabel('loss')\n",
    "plt.xlabel('epoch')\n",
    "plt.legend(['train', 'test'], loc='upper left')\n",
    "plt.show()"
   ]
  },
  {
   "cell_type": "code",
   "execution_count": 107,
   "metadata": {},
   "outputs": [],
   "source": [
    "predicted_value = model.predict(X_test)"
   ]
  },
  {
   "cell_type": "code",
   "execution_count": 280,
   "metadata": {},
   "outputs": [
    {
     "data": {
      "image/png": "[encoded data removed]",
      "text/plain": [
       "<Figure size 1440x720 with 1 Axes>"
      ]
     },
     "metadata": {
      "needs_background": "light"
     },
     "output_type": "display_data"
    }
   ],
   "source": [
    "plt.figure(figsize=(20,10))\n",
    "plt.plot(predicted_value, 'ro', label='predicted')\n",
    "plt.plot(y[:test_size+lookback], 'g*', label='actual')\n",
    "plt.title(\"Predictions and Actual Values\")\n",
    "plt.xlabel(\"Time (latest-> oldest)\")\n",
    "plt.ylabel(\"Value\")\n",
    "plt.legend()\n",
    "plt.show()"
   ]
  },
  {
   "cell_type": "code",
   "execution_count": 281,
   "metadata": {},
   "outputs": [
    {
     "ename": "ValueError",
     "evalue": "non-broadcastable output operand with shape (1406,1) doesn't match the broadcast shape (1406,3)",
     "output_type": "error",
     "traceback": [
      "\u001b[0;31m---------------------------------------------------------------------------\u001b[0m",
      "\u001b[0;31mValueError\u001b[0m                                Traceback (most recent call last)",
      "\u001b[0;32m<ipython-input-281-2321f92bd292>\u001b[0m in \u001b[0;36m<module>\u001b[0;34m\u001b[0m\n\u001b[0;32m----> 1\u001b[0;31m \u001b[0mpred\u001b[0m\u001b[0;34m=\u001b[0m\u001b[0msc\u001b[0m\u001b[0;34m.\u001b[0m\u001b[0minverse_transform\u001b[0m\u001b[0;34m(\u001b[0m\u001b[0mpredicted_value\u001b[0m\u001b[0;34m)\u001b[0m\u001b[0;34m\u001b[0m\u001b[0;34m\u001b[0m\u001b[0m\n\u001b[0m",
      "\u001b[0;32m/Library/Frameworks/Python.framework/Versions/3.7/lib/python3.7/site-packages/sklearn/preprocessing/data.py\u001b[0m in \u001b[0;36minverse_transform\u001b[0;34m(self, X)\u001b[0m\n\u001b[1;32m    404\u001b[0m                         force_all_finite=\"allow-nan\")\n\u001b[1;32m    405\u001b[0m \u001b[0;34m\u001b[0m\u001b[0m\n\u001b[0;32m--> 406\u001b[0;31m         \u001b[0mX\u001b[0m \u001b[0;34m-=\u001b[0m \u001b[0mself\u001b[0m\u001b[0;34m.\u001b[0m\u001b[0mmin_\u001b[0m\u001b[0;34m\u001b[0m\u001b[0;34m\u001b[0m\u001b[0m\n\u001b[0m\u001b[1;32m    407\u001b[0m         \u001b[0mX\u001b[0m \u001b[0;34m/=\u001b[0m \u001b[0mself\u001b[0m\u001b[0;34m.\u001b[0m\u001b[0mscale_\u001b[0m\u001b[0;34m\u001b[0m\u001b[0;34m\u001b[0m\u001b[0m\n\u001b[1;32m    408\u001b[0m         \u001b[0;32mreturn\u001b[0m \u001b[0mX\u001b[0m\u001b[0;34m\u001b[0m\u001b[0;34m\u001b[0m\u001b[0m\n",
      "\u001b[0;31mValueError\u001b[0m: non-broadcastable output operand with shape (1406,1) doesn't match the broadcast shape (1406,3)"
     ]
    }
   ],
   "source": [
    "pred=sc.inverse_transform(predicted_value)"
   ]
  },
  {
   "cell_type": "code",
   "execution_count": 112,
   "metadata": {},
   "outputs": [],
   "source": [
    "actual=sc.inverse_transform(input_data[lookback:test_size+(2*lookback)])\n"
   ]
  },
  {
   "cell_type": "code",
   "execution_count": 113,
   "metadata": {},
   "outputs": [],
   "source": [
    "from statsmodels.tools.eval_measures import mse,rmse\n",
    "\n",
    "OurError = rmse(pred, actual)"
   ]
  },
  {
   "cell_type": "code",
   "execution_count": 114,
   "metadata": {},
   "outputs": [
    {
     "data": {
      "text/plain": [
       "array([181.71913034])"
      ]
     },
     "execution_count": 114,
     "metadata": {},
     "output_type": "execute_result"
    }
   ],
   "source": [
    "OurError"
   ]
  },
  {
   "cell_type": "markdown",
   "metadata": {},
   "source": [
    "# RNN Keras (Multivariate)"
   ]
  },
  {
   "cell_type": "code",
   "execution_count": 130,
   "metadata": {},
   "outputs": [
    {
     "data": {
      "text/html": [
       "<div>\n",
       "<style scoped>\n",
       "    .dataframe tbody tr th:only-of-type {\n",
       "        vertical-align: middle;\n",
       "    }\n",
       "\n",
       "    .dataframe tbody tr th {\n",
       "        vertical-align: top;\n",
       "    }\n",
       "\n",
       "    .dataframe thead th {\n",
       "        text-align: right;\n",
       "    }\n",
       "</style>\n",
       "<table border=\"1\" class=\"dataframe\">\n",
       "  <thead>\n",
       "    <tr style=\"text-align: right;\">\n",
       "      <th></th>\n",
       "      <th>Weekday</th>\n",
       "      <th>XT</th>\n",
       "      <th>Holiday</th>\n",
       "    </tr>\n",
       "    <tr>\n",
       "      <th>Timestamp</th>\n",
       "      <th></th>\n",
       "      <th></th>\n",
       "      <th></th>\n",
       "    </tr>\n",
       "  </thead>\n",
       "  <tbody>\n",
       "    <tr>\n",
       "      <th>2018-01-01 00:00:00</th>\n",
       "      <td>1</td>\n",
       "      <td>3933.209685</td>\n",
       "      <td>1</td>\n",
       "    </tr>\n",
       "    <tr>\n",
       "      <th>2018-01-01 01:00:00</th>\n",
       "      <td>1</td>\n",
       "      <td>3615.862294</td>\n",
       "      <td>1</td>\n",
       "    </tr>\n",
       "    <tr>\n",
       "      <th>2018-01-01 02:00:00</th>\n",
       "      <td>1</td>\n",
       "      <td>3531.408073</td>\n",
       "      <td>1</td>\n",
       "    </tr>\n",
       "    <tr>\n",
       "      <th>2018-01-01 03:00:00</th>\n",
       "      <td>1</td>\n",
       "      <td>3250.926682</td>\n",
       "      <td>1</td>\n",
       "    </tr>\n",
       "    <tr>\n",
       "      <th>2018-01-01 04:00:00</th>\n",
       "      <td>1</td>\n",
       "      <td>3027.204711</td>\n",
       "      <td>1</td>\n",
       "    </tr>\n",
       "  </tbody>\n",
       "</table>\n",
       "</div>"
      ],
      "text/plain": [
       "                     Weekday           XT  Holiday\n",
       "Timestamp                                         \n",
       "2018-01-01 00:00:00        1  3933.209685        1\n",
       "2018-01-01 01:00:00        1  3615.862294        1\n",
       "2018-01-01 02:00:00        1  3531.408073        1\n",
       "2018-01-01 03:00:00        1  3250.926682        1\n",
       "2018-01-01 04:00:00        1  3027.204711        1"
      ]
     },
     "execution_count": 130,
     "metadata": {},
     "output_type": "execute_result"
    }
   ],
   "source": [
    "final3 = final[['Weekday','XT','Holiday']]\n",
    "final3 = pd.DataFrame(final3)\n",
    "final3.head()"
   ]
  },
  {
   "cell_type": "code",
   "execution_count": 131,
   "metadata": {},
   "outputs": [
    {
     "name": "stdout",
     "output_type": "stream",
     "text": [
      "<class 'pandas.core.frame.DataFrame'>\n",
      "DatetimeIndex: 12384 entries, 2018-01-01 00:00:00 to 2019-05-31 23:00:00\n",
      "Freq: H\n",
      "Data columns (total 3 columns):\n",
      "Weekday    12384 non-null int64\n",
      "XT         12384 non-null float64\n",
      "Holiday    12384 non-null int64\n",
      "dtypes: float64(1), int64(2)\n",
      "memory usage: 707.0 KB\n"
     ]
    }
   ],
   "source": [
    "final3.info()"
   ]
  },
  {
   "cell_type": "code",
   "execution_count": 234,
   "metadata": {},
   "outputs": [],
   "source": [
    "from sklearn.compose import ColumnTransformer\n",
    "from sklearn.preprocessing import MinMaxScaler\n",
    "from sklearn.preprocessing import OneHotEncoder\n",
    "\n",
    "ct = ColumnTransformer([\n",
    "        (\"weekday\", OneHotEncoder(categories='auto'), [0]),\n",
    "        (\"xt\", MinMaxScaler(feature_range=(0,1)), [1]),\n",
    "        (\"holiday\", \"passthrough\", [2])],\n",
    "        sparse_threshold=0)"
   ]
  },
  {
   "cell_type": "code",
   "execution_count": 241,
   "metadata": {},
   "outputs": [
    {
     "data": {
      "text/plain": [
       "array([[1.        , 0.        , 0.        , 0.        , 0.        ,\n",
       "        0.        , 0.        , 0.3855027 , 1.        ],\n",
       "       [1.        , 0.        , 0.        , 0.        , 0.        ,\n",
       "        0.        , 0.        , 0.40293079, 1.        ],\n",
       "       [1.        , 0.        , 0.        , 0.        , 0.        ,\n",
       "        0.        , 0.        , 0.51495865, 1.        ],\n",
       "       [0.        , 1.        , 0.        , 0.        , 0.        ,\n",
       "        0.        , 0.        , 0.19206572, 0.        ],\n",
       "       [0.        , 1.        , 0.        , 0.        , 0.        ,\n",
       "        0.        , 0.        , 0.441267  , 0.        ],\n",
       "       [0.        , 0.        , 1.        , 0.        , 0.        ,\n",
       "        0.        , 0.        , 0.20653378, 0.        ],\n",
       "       [0.        , 0.        , 1.        , 0.        , 0.        ,\n",
       "        0.        , 0.        , 0.513591  , 0.        ],\n",
       "       [0.        , 0.        , 1.        , 0.        , 0.        ,\n",
       "        0.        , 0.        , 0.50337793, 0.        ],\n",
       "       [0.        , 0.        , 0.        , 1.        , 0.        ,\n",
       "        0.        , 0.        , 0.39268126, 0.        ],\n",
       "       [0.        , 0.        , 0.        , 1.        , 0.        ,\n",
       "        0.        , 0.        , 0.74107285, 0.        ]])"
      ]
     },
     "execution_count": 241,
     "metadata": {},
     "output_type": "execute_result"
    }
   ],
   "source": [
    "input_data = ct.fit_transform(final3.values)\n",
    "input_data[0:100:10]"
   ]
  },
  {
   "cell_type": "code",
   "execution_count": 242,
   "metadata": {},
   "outputs": [],
   "source": [
    "import pandas as pd\n",
    "import numpy as np\n",
    "import tensorflow as tf\n",
    "\n",
    "import time\n",
    "from sklearn.metrics import mean_squared_error\n",
    "from matplotlib import pyplot"
   ]
  },
  {
   "cell_type": "code",
   "execution_count": 253,
   "metadata": {},
   "outputs": [],
   "source": [
    "#one week\n",
    "lookback = 7 * 24\n",
    "\n",
    "test_size = len(final2) // 10\n",
    "X = []\n",
    "y = []\n",
    "for i in range(len(final2)-lookback-1):\n",
    "    t = [ input_data[i+j] for j in range(lookback) ]\n",
    "    X.append(t)\n",
    "    y.append([input_data[i+lookback, 1]])"
   ]
  },
  {
   "cell_type": "code",
   "execution_count": 254,
   "metadata": {},
   "outputs": [
    {
     "name": "stdout",
     "output_type": "stream",
     "text": [
      "(12215, 168, 9)\n",
      "(12215, 1)\n",
      "(1406, 168, 9)\n"
     ]
    }
   ],
   "source": [
    "X, y = np.array(X), np.array(y)\n",
    "print(X.shape)\n",
    "print(y.shape)\n",
    "X_test = X[:test_size+lookback]\n",
    "print(X_test.shape)"
   ]
  },
  {
   "cell_type": "code",
   "execution_count": 256,
   "metadata": {},
   "outputs": [
    {
     "name": "stdout",
     "output_type": "stream",
     "text": [
      "Model: \"sequential_24\"\n",
      "_________________________________________________________________\n",
      "Layer (type)                 Output Shape              Param #   \n",
      "=================================================================\n",
      "lstm_63 (LSTM)               (None, 168, 300)          372000    \n",
      "_________________________________________________________________\n",
      "lstm_64 (LSTM)               (None, 168, 300)          721200    \n",
      "_________________________________________________________________\n",
      "lstm_65 (LSTM)               (None, 168, 300)          721200    \n",
      "_________________________________________________________________\n",
      "lstm_66 (LSTM)               (None, 100)               160400    \n",
      "_________________________________________________________________\n",
      "dense_15 (Dense)             (None, 1)                 101       \n",
      "=================================================================\n",
      "Total params: 1,974,901\n",
      "Trainable params: 1,974,901\n",
      "Non-trainable params: 0\n",
      "_________________________________________________________________\n"
     ]
    }
   ],
   "source": [
    "model = tf.keras.models.Sequential()\n",
    "model.add(tf.keras.layers.LSTM(units=300, return_sequences=True, input_shape=(X.shape[-2:])))\n",
    "model.add(tf.keras.layers.LSTM(units=300, return_sequences=True))\n",
    "model.add(tf.keras.layers.LSTM(units=300, return_sequences=True))\n",
    "model.add(tf.keras.layers.LSTM(units=100))\n",
    "model.add(tf.keras.layers.Dense(units=1))\n",
    "model.summary()"
   ]
  },
  {
   "cell_type": "code",
   "execution_count": 257,
   "metadata": {},
   "outputs": [],
   "source": [
    "model.compile(optimizer='adam', loss='mean_squared_error')"
   ]
  },
  {
   "cell_type": "code",
   "execution_count": 258,
   "metadata": {},
   "outputs": [
    {
     "name": "stdout",
     "output_type": "stream",
     "text": [
      "Epoch 1/10\n",
      "12215/12215 [==============================] - 272s 22ms/sample - loss: 0.0269\n",
      "Epoch 2/10\n",
      "12215/12215 [==============================] - 300s 25ms/sample - loss: 0.0091\n",
      "Epoch 3/10\n",
      "12215/12215 [==============================] - 290s 24ms/sample - loss: 0.0095\n",
      "Epoch 4/10\n",
      "12215/12215 [==============================] - 267s 22ms/sample - loss: 0.0077\n",
      "Epoch 5/10\n",
      "12215/12215 [==============================] - 266s 22ms/sample - loss: 0.0054\n",
      "Epoch 6/10\n",
      "12215/12215 [==============================] - 266s 22ms/sample - loss: 0.0081\n",
      "Epoch 7/10\n",
      "12215/12215 [==============================] - 293s 24ms/sample - loss: 0.0040\n",
      "Epoch 8/10\n",
      "12215/12215 [==============================] - 269s 22ms/sample - loss: 0.0059\n",
      "Epoch 9/10\n",
      "12215/12215 [==============================] - 282s 23ms/sample - loss: 0.0049\n",
      "Epoch 10/10\n",
      "12215/12215 [==============================] - 276s 23ms/sample - loss: 0.0063\n"
     ]
    }
   ],
   "source": [
    "history = model.fit(X, y, epochs=10, batch_size=200)"
   ]
  },
  {
   "cell_type": "code",
   "execution_count": 259,
   "metadata": {},
   "outputs": [
    {
     "data": {
      "image/png": "[encoded data removed]",
      "text/plain": [
       "<Figure size 432x288 with 1 Axes>"
      ]
     },
     "metadata": {
      "needs_background": "light"
     },
     "output_type": "display_data"
    }
   ],
   "source": [
    "# summarize history for loss\n",
    "plt.plot(history.history['loss'])\n",
    "plt.title('model loss')\n",
    "plt.ylabel('loss')\n",
    "plt.xlabel('epoch')\n",
    "plt.legend(['train', 'test'], loc='upper left')\n",
    "plt.show()"
   ]
  },
  {
   "cell_type": "code",
   "execution_count": 260,
   "metadata": {},
   "outputs": [],
   "source": [
    "predicted_value = model.predict(X_test)"
   ]
  },
  {
   "cell_type": "code",
   "execution_count": 279,
   "metadata": {},
   "outputs": [
    {
     "data": {
      "text/plain": [
       "array([[0.02635865],\n",
       "       [0.0289893 ],\n",
       "       [0.03071737],\n",
       "       ...,\n",
       "       [0.02523463],\n",
       "       [0.02537026],\n",
       "       [0.02525763]], dtype=float32)"
      ]
     },
     "execution_count": 279,
     "metadata": {},
     "output_type": "execute_result"
    }
   ],
   "source": [
    "predicted_value"
   ]
  },
  {
   "cell_type": "code",
   "execution_count": 278,
   "metadata": {},
   "outputs": [
    {
     "data": {
      "image/png": "[encoded data removed]",
      "text/plain": [
       "<Figure size 1440x720 with 1 Axes>"
      ]
     },
     "metadata": {
      "needs_background": "light"
     },
     "output_type": "display_data"
    }
   ],
   "source": [
    "plt.figure(figsize=(20,10))\n",
    "plt.plot(predicted_value, 'ro', label='predicted')\n",
    "plt.plot(y[:test_size+lookback], 'g*', label='actual')\n",
    "plt.title(\"Predictions and Actual Values\")\n",
    "plt.xlabel(\"Time (latest-> oldest)\")\n",
    "plt.ylabel(\"Value\")\n",
    "plt.legend()\n",
    "plt.show()"
   ]
  },
  {
   "cell_type": "code",
   "execution_count": 75,
   "metadata": {},
   "outputs": [],
   "source": [
    "#had problem in inversing the scaling because I provide 1D instead of 3D, found it on stackoverflow\n",
    "# create empty table with 3 fields\n",
    "trainPredict_dataset_like = np.zeros(shape=(len(predicted_value), 3) )\n",
    "# put the predicted values in the right field\n",
    "trainPredict_dataset_like[:,1] = predicted_value[:,0]\n",
    "# inverse transform and then select the right field\n",
    "trainPredict = sc.inverse_transform(trainPredict_dataset_like)[:,1]"
   ]
  },
  {
   "cell_type": "code",
   "execution_count": 85,
   "metadata": {},
   "outputs": [],
   "source": [
    "act=sc.inverse_transform(input_data)[:test_size+lookback, [1]]"
   ]
  },
  {
   "cell_type": "code",
   "execution_count": 93,
   "metadata": {},
   "outputs": [],
   "source": [
    "from statsmodels.tools.eval_measures import mse,rmse\n",
    "\n",
    "OurError= rmse(trainPredict, act[:,0])"
   ]
  },
  {
   "cell_type": "code",
   "execution_count": 94,
   "metadata": {},
   "outputs": [
    {
     "data": {
      "text/plain": [
       "405.92944972775007"
      ]
     },
     "execution_count": 94,
     "metadata": {},
     "output_type": "execute_result"
    }
   ],
   "source": [
    "#How can it be larger than the univariate\n",
    "OurError"
   ]
  },
  {
   "cell_type": "code",
   "execution_count": null,
   "metadata": {},
   "outputs": [],
   "source": []
  },
  {
   "cell_type": "raw",
   "metadata": {},
   "source": []
  },
  {
   "cell_type": "code",
   "execution_count": 82,
   "metadata": {},
   "outputs": [],
   "source": []
  },
  {
   "cell_type": "code",
   "execution_count": null,
   "metadata": {},
   "outputs": [],
   "source": []
  }
 ],
 "metadata": {
  "kernelspec": {
   "display_name": "Python 3",
   "language": "python",
   "name": "python3"
  },
  "language_info": {
   "codemirror_mode": {
    "name": "ipython",
    "version": 3
   },
   "file_extension": ".py",
   "mimetype": "text/x-python",
   "name": "python",
   "nbconvert_exporter": "python",
   "pygments_lexer": "ipython3",
   "version": "3.7.4"
  }
 },
 "nbformat": 4,
 "nbformat_minor": 2
}
